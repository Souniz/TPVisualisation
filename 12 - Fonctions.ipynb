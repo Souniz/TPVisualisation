{
 "cells": [
  {
   "cell_type": "markdown",
   "metadata": {},
   "source": [
    "# Les fonctions\n",
    "\n",
    "Les fonctions permettent de factoriser le code, c'est à dire de n'écrire un code qu'une seule fois lors de la définition de la fonction, et de l'exécuter plusieurs fois, à chaque fois qu'il est fait appel à la fonction.\n",
    "\n",
    "La définition de la fonction suit la syntaxte suivante :\n",
    "\n",
    "    def <nom de la fonction>(<liste des arguments>) :\n",
    "        bloc des instructions\n",
    "        correspondant à la séquence d'instructions \n",
    "        qui s'exécutera à chaque appel de la fonction.\n",
    "        \n",
    "Les appels de la fonction sont réalisé en mentionnant l'identifiant de la fonction avec ses arguments situés entre parenthèses."
   ]
  },
  {
   "cell_type": "code",
   "execution_count": null,
   "metadata": {},
   "outputs": [],
   "source": [
    "# Définition de la fonction\n",
    "\n",
    "def affiche_carre_et_cube(i):\n",
    "    print('Le carré est ', i**2)\n",
    "    print('Le cube est ', i**3)\n",
    "    \n",
    "# Appels de la fonction\n",
    "\n",
    "affiche_carre_et_cube(2)\n",
    "affiche_carre_et_cube(1.5)\n",
    "affiche_carre_et_cube(3+2j)\n"
   ]
  },
  {
   "cell_type": "markdown",
   "metadata": {},
   "source": [
    "À noter qu'on est pas obligé d'indiquer le type des arguments. Du fait du typage dyamique, la fonction peut s'appliquer à des arguments de types différents, mais pas forcément tous.\n"
   ]
  },
  {
   "cell_type": "code",
   "execution_count": null,
   "metadata": {},
   "outputs": [],
   "source": [
    "affiche_carre_et_cube('Chaîne')"
   ]
  },
  {
   "cell_type": "code",
   "execution_count": null,
   "metadata": {},
   "outputs": [],
   "source": [
    "def triple(n):\n",
    "    return 3*n\n",
    "\n",
    "print(triple(5.7))\n",
    "print(triple(3+2.5j))\n",
    "print(triple(\"Chaîne\"))\n"
   ]
  },
  {
   "cell_type": "code",
   "execution_count": null,
   "metadata": {},
   "outputs": [],
   "source": [
    "print(triple([1,'12','toto']))\n",
    "print(triple((12,'5')))"
   ]
  },
  {
   "cell_type": "markdown",
   "metadata": {},
   "source": [
    "## Valeur de retour\n",
    "\n",
    "En l'absence de commande `return`, la fonction renvoie (et vaut) `None`.\n",
    "\n",
    "A défaut, on peut spécifier une valeur de retour via la commande `return`. Cette fonction attribue la valeur indiquée en argument de `return` à la fonction. Cette fonction `return` provoque également la sortie de la fonction."
   ]
  },
  {
   "cell_type": "code",
   "execution_count": null,
   "metadata": {},
   "outputs": [],
   "source": [
    "a = affiche_carre_et_cube(7)\n",
    "\n",
    "print(a)\n",
    "\n",
    "def carre(x) :\n",
    "    return x**2\n",
    "\n",
    "a = carre(7)\n",
    "print(a)\n"
   ]
  },
  {
   "cell_type": "markdown",
   "metadata": {},
   "source": [
    "En python, les fonctions peuvent retourner plusieurs valeurs (ou plutôt un tuple contenant plusieurs valeurs). "
   ]
  },
  {
   "cell_type": "code",
   "execution_count": null,
   "metadata": {},
   "outputs": [],
   "source": [
    "def carre_et_cube(x):\n",
    "    return x**2,x**3,str(x**4)\n",
    "\n",
    "t = carre_et_cube(3)\n",
    "print(t)\n",
    "\n",
    "v1 , v2, v3 = carre_et_cube(7)\n",
    "print(v1)\n",
    "print(v2)\n",
    "print(v3)\n"
   ]
  },
  {
   "cell_type": "markdown",
   "metadata": {},
   "source": [
    "Il peut existe plusieurs instructions `return` au sein d'une fonction mais une seule sera exécutée puisque `return` provoque la sortie de la fonction."
   ]
  },
  {
   "cell_type": "markdown",
   "metadata": {},
   "source": [
    "## Passage d'arguments\n",
    "\n",
    "Il est possible de nommer les arguments pour les désigner explicitement dans un ordre quelconque au moment de l'appel. \n",
    "\n",
    "On peut également affecter des valeurs par défaut aux arguments, valeur prises lorsque les arguments ne sont pas renseignés. Lorsque des valeurs par défaut sont indiquées pour certains arguments et pas d'autres, elles doivent être spécifiées pour les derniers arguments de la liste."
   ]
  },
  {
   "cell_type": "code",
   "execution_count": null,
   "metadata": {},
   "outputs": [],
   "source": [
    "def division(dividende,diviseur) :\n",
    "    quotient = dividende // diviseur\n",
    "    reste = dividende % diviseur\n",
    "    return quotient, reste\n",
    "\n",
    "t = division(5, 3)\n",
    "print(t)\n"
   ]
  },
  {
   "cell_type": "code",
   "execution_count": null,
   "metadata": {},
   "outputs": [],
   "source": [
    "\n",
    "t = division(dividende = 13, diviseur = 4)\n",
    "print(t)\n",
    "\n",
    "t = division(diviseur = 4, dividende = 13)\n",
    "print(t)"
   ]
  },
  {
   "cell_type": "code",
   "execution_count": null,
   "metadata": {},
   "outputs": [],
   "source": [
    "def affiche(message = 'Message par défaut'):\n",
    "    print(message)\n",
    "    print('------------')\n",
    "    \n",
    "affiche('Ceci est mon message')\n",
    "\n",
    "affiche(6)\n",
    "\n",
    "affiche()"
   ]
  },
  {
   "cell_type": "code",
   "execution_count": null,
   "metadata": {},
   "outputs": [],
   "source": [
    "def affiche2(message='Message par défaut',nb = 1):\n",
    "    for i in range(nb):\n",
    "        print(message)\n",
    "    print('------------')\n",
    "        \n",
    "affiche2('Message',3)\n"
   ]
  },
  {
   "cell_type": "code",
   "execution_count": null,
   "metadata": {},
   "outputs": [],
   "source": [
    "affiche2('Message')\n"
   ]
  },
  {
   "cell_type": "code",
   "execution_count": null,
   "metadata": {},
   "outputs": [],
   "source": [
    "affiche2()\n"
   ]
  },
  {
   "cell_type": "code",
   "execution_count": null,
   "metadata": {},
   "outputs": [],
   "source": [
    "affiche2(5)"
   ]
  },
  {
   "cell_type": "code",
   "execution_count": null,
   "metadata": {},
   "outputs": [],
   "source": [
    "\n",
    "affiche2(nb = 5)"
   ]
  },
  {
   "cell_type": "markdown",
   "metadata": {},
   "source": [
    "Dans la forme `*`, le nombre d'arguments passé à la fonction est variable. Les différents arguments sont rassemblés au sein d'un tuple qui est utilisé au sein de la fonction.\n",
    "\n",
    "Dans la forme `**`, on passe à la fonction une liste variable d'arguments nommés. Ces différents arguments nommés sont récupérés dans la fonction au sein d'un dictionnaire dont les clés sont les noms des arguments et dont les valeurs sont les valeurs des arguments."
   ]
  },
  {
   "cell_type": "code",
   "execution_count": null,
   "metadata": {},
   "outputs": [],
   "source": [
    "def f(*t):\n",
    "    p = 1\n",
    "    for e in t:\n",
    "        p = p * e\n",
    "    return p\n",
    "\n",
    "\n",
    "print(f(1.5, 12))\n",
    "print(f(3+2j,2,3,2.1))\n"
   ]
  },
  {
   "cell_type": "code",
   "execution_count": null,
   "metadata": {},
   "outputs": [],
   "source": [
    "f(1, ['A', 'B'], 'chaîne', f)\n"
   ]
  },
  {
   "cell_type": "code",
   "execution_count": null,
   "metadata": {},
   "outputs": [],
   "source": [
    "def g(**d):\n",
    "    print(d)\n",
    "    for k in d:\n",
    "        print('{} -|- {}'.format(k,d[k]))\n",
    "\n",
    "\n",
    "g(mention = 'Informatique', parcours = 'Sciences des données', annee = 'L3')\n",
    "g(nom = 'Héroux', age = 25)"
   ]
  },
  {
   "cell_type": "markdown",
   "metadata": {},
   "source": [
    "Les appels de fonction peuvent également se faire via les formes `*` et `**`. \n",
    "\n",
    "Etant donnée une fonction disposant de n arguments, l'appel de la fonction via la forme `*` va passer en argument de la fonction une séquence de n éléments. Les paramètres successifs de la fonction se verront attribuer les éléments successifs de la séquence passée en argument.\n",
    "\n",
    "Etant donnée une fonction disposant de n argument, l'appel de la fonction via la forme ̀`**` va passer en argument un dictionnaire dont les clés sont les noms des différents paramètres de la fonction. Les arguments de la fonction vont se voir attribuer les valeurs associées aux clés correspondantes dans le dictionnaire."
   ]
  },
  {
   "cell_type": "code",
   "execution_count": null,
   "metadata": {},
   "outputs": [],
   "source": [
    "def f(un, deux, trois):\n",
    "    print(un)\n",
    "    print(deux+trois)\n",
    "    \n",
    "l1 = [12, 25, -7]\n",
    "l2 = 'abc'\n",
    "f(*l1)\n",
    "f(*l2)\n",
    "\n",
    "d1 = {'un': 46, 'deux': 'II', 'trois':'III'}\n",
    "d2 = {'un': 'Test', 'trois' : 3, 'deux' : 2+0j}\n",
    "f(**d1)\n",
    "f(**d2)"
   ]
  },
  {
   "cell_type": "markdown",
   "metadata": {},
   "source": [
    "# Important\n",
    "\n",
    "Le passage des arguments est fait par référence, si bien que la variable locale à la fonction est en réalité une référence partagée de l'argument. \n",
    "\n",
    "Ainsi, une modification locale à la fonction de l'argument aura des répercutions au niveau du programme appelant si l'argument est mutable."
   ]
  },
  {
   "cell_type": "code",
   "execution_count": null,
   "metadata": {},
   "outputs": [],
   "source": [
    "def f(ma_liste):\n",
    "    for i in range(len(ma_liste)):\n",
    "        ma_liste[i] = 2 * ma_liste[i]\n",
    "    \n",
    "    print(ma_liste)\n",
    "    ma_liste.pop()\n",
    "    print(ma_liste)\n",
    "    \n",
    "L = [1, 2, 3]\n",
    "f(L)\n",
    "print(L)"
   ]
  },
  {
   "cell_type": "markdown",
   "metadata": {},
   "source": [
    "# Référence partagée sur une fonction\n",
    "\n",
    "Une fonction est un objet référencé par l'identifiant qui lui a été attribué lors de sa définition. Il est possible de définir une référence partagée sur cette fonction en référençant cette fonction par un autre identifiant. Il est alors possible d'appeler la fonction par le biais de chacun des identifiants avec le même résultat."
   ]
  },
  {
   "cell_type": "code",
   "execution_count": null,
   "metadata": {},
   "outputs": [],
   "source": [
    "def somme(a,b):\n",
    "    print('coucou')\n",
    "    return a + b\n",
    "\n",
    "print(type(somme))\n",
    "\n",
    "print(somme(3,7))\n",
    "\n"
   ]
  },
  {
   "cell_type": "code",
   "execution_count": null,
   "metadata": {},
   "outputs": [],
   "source": [
    "addition = somme\n",
    "\n",
    "print(type(addition))\n"
   ]
  },
  {
   "cell_type": "code",
   "execution_count": null,
   "metadata": {},
   "outputs": [],
   "source": [
    "\n",
    "print(addition(2,5))\n"
   ]
  },
  {
   "cell_type": "code",
   "execution_count": null,
   "metadata": {},
   "outputs": [],
   "source": [
    "\n",
    "print(somme)\n",
    "print(addition)"
   ]
  },
  {
   "cell_type": "code",
   "execution_count": null,
   "metadata": {},
   "outputs": [],
   "source": [
    "def addition(a,b):\n",
    "    return 'Addition de {} et {}'.format(a,b)"
   ]
  },
  {
   "cell_type": "code",
   "execution_count": null,
   "metadata": {},
   "outputs": [],
   "source": [
    "addition(5,3)\n",
    "somme(5,3)\n",
    "somme = addition\n",
    "addition(5,3)"
   ]
  },
  {
   "cell_type": "markdown",
   "metadata": {},
   "source": [
    "# Polymorphisme\n",
    "\n",
    "On dit qu'une fonction est polymorphe si elle peut s'appliquer à des arguments de différents types."
   ]
  },
  {
   "cell_type": "code",
   "execution_count": null,
   "metadata": {},
   "outputs": [],
   "source": [
    "def somme(a,b):\n",
    "    return a + b\n",
    "\n",
    "print(somme(3,5))\n",
    "print(somme(3.14,2.71))\n",
    "print(somme(3+2.5j,5))\n",
    "print(somme('Un','Deux'))\n"
   ]
  },
  {
   "cell_type": "markdown",
   "metadata": {},
   "source": [
    "## Portée des variables\n",
    "\n",
    "On appelle portée locale, le bloc d'instructions qui réalise les traitements de la fonction.\n",
    "\n",
    "On appelle portée globale, tout ce qui est dans un module en dehors des fonctions.\n",
    "\n",
    "Lorsqu'on cherche à évaluer une variable, on la cherche d'abord au niveau de portée locale (à la fonction). Si on ne la trouve pas, on la cherche dans les fonctions englobantes. Si on la trouve pas, on la cherche au niveau global (du module)"
   ]
  },
  {
   "cell_type": "code",
   "execution_count": null,
   "metadata": {},
   "outputs": [],
   "source": [
    "a, b = 1, 1\n",
    "\n",
    "def f():\n",
    "    b, c = 2, 3\n",
    "    print(a,b,c) \n",
    "    # b et c sont définies localement, on leur donne leur valeur locale\n",
    "    # a n'est pas définie localement, on lui donne la valeur globale\n",
    "    \n",
    "f()\n",
    "\n",
    "print(a,b) # Nous sommes au niveau global. a et b ont leur valeur globale\n",
    "print(c) # c n'est pas définie au niveau global."
   ]
  },
  {
   "cell_type": "code",
   "execution_count": null,
   "metadata": {},
   "outputs": [],
   "source": [
    "a, b, c = 1, 1, 1\n",
    "\n",
    "def f():\n",
    "    b, c = 2, 3\n",
    "    def g():\n",
    "        c = 4\n",
    "        print(a,b,c) \n",
    "        # c est définie localement ; on lui donne sa valeur locale\n",
    "        # b n'est pas définie localement, mais dans la fonction englobante ; \n",
    "        # on lui donne la valeur qu'elle a dans sa fonction englobante\n",
    "        # a n'est définie qu'au niveau global ; c'est sa valeur au niveau global qu'on lui donne\n",
    "    g()\n",
    "    print(a,b,c)\n",
    "    # b et c sont définies localement à la fonction f\n",
    "    # a n'est définie qu'au niveau global ; c'est sa valeur au niveau global qu'on lui donne\n",
    "    \n",
    "f()\n",
    "\n",
    "print(a,b,c)\n",
    "# L'appel est fait au niveau global, on donne a chaque variable sa valeur au niveau global."
   ]
  },
  {
   "cell_type": "markdown",
   "metadata": {},
   "source": [
    "Il est possible d'indiquer à une fonction que l'on souhaite accéder explicitement à une variable globale avec la directive `global`"
   ]
  },
  {
   "cell_type": "code",
   "execution_count": null,
   "metadata": {},
   "outputs": [],
   "source": [
    "x = 10\n",
    "\n",
    "def f():\n",
    "    x = 11 # ici, c'est à une variable locale X qu'on affecte 11.\n",
    "    # Cela n'a aucun effet sur la variable globale X\n",
    "    \n",
    "print(x)\n",
    "f()\n",
    "print(x)"
   ]
  },
  {
   "cell_type": "code",
   "execution_count": null,
   "metadata": {},
   "outputs": [],
   "source": [
    "x = 10\n",
    "\n",
    "def f():\n",
    "    global x # On indique qu'on souhaite travailler avec la variable globale X\n",
    "    x = x + 10\n",
    "    \n",
    "print(x)\n",
    "f()\n",
    "print(x)"
   ]
  },
  {
   "cell_type": "markdown",
   "metadata": {},
   "source": [
    "Le fait de travailler avec des variables globales au sein des fonctions n'aide pas la lisibilité du code. Un traitement débouchant sur le même résultat que précédement sera plus lisible avec l'écriture suivante."
   ]
  },
  {
   "cell_type": "code",
   "execution_count": null,
   "metadata": {},
   "outputs": [],
   "source": [
    "x = 10\n",
    "\n",
    "def f(x):\n",
    "    return x + 10 \n",
    "    # ici on travaille avec x qui est local à la fonction\n",
    "    # on renvoie une valeur de retour plutôt que de travailler sur la variable globale\n",
    "\n",
    "print(x)\n",
    "x = f(x) # ici on indique explicitement que la variable globale x va être modifiée par une affectation\n",
    "# de la valeur de retour de la fonction.\n",
    "print(x)\n"
   ]
  },
  {
   "cell_type": "markdown",
   "metadata": {},
   "source": [
    "## Fonctions lambda"
   ]
  }
 ],
 "metadata": {
  "kernelspec": {
   "display_name": "Python 3 (ipykernel)",
   "language": "python",
   "name": "python3"
  },
  "language_info": {
   "codemirror_mode": {
    "name": "ipython",
    "version": 3
   },
   "file_extension": ".py",
   "mimetype": "text/x-python",
   "name": "python",
   "nbconvert_exporter": "python",
   "pygments_lexer": "ipython3",
   "version": "3.9.13"
  }
 },
 "nbformat": 4,
 "nbformat_minor": 4
}
