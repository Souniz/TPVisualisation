{
 "cells": [
  {
   "cell_type": "code",
   "execution_count": 15,
   "id": "73292a0b-4491-42ad-ba35-d85661f2e1de",
   "metadata": {},
   "outputs": [],
   "source": [
    "def affiche_carre_et_cube(i):\n",
    "    return i**2,i**3"
   ]
  },
  {
   "cell_type": "code",
   "execution_count": 24,
   "id": "e0ffa22b-837f-4a93-bbd6-1b9304a935e9",
   "metadata": {},
   "outputs": [
    {
     "name": "stdout",
     "output_type": "stream",
     "text": [
      "(9, 27)\n"
     ]
    }
   ],
   "source": [
    "b=affiche_carre_et_cube(3)\n",
    "print(b)"
   ]
  },
  {
   "cell_type": "code",
   "execution_count": 37,
   "id": "30ab75b8-38ad-45c5-bc19-045535e82954",
   "metadata": {},
   "outputs": [],
   "source": [
    "def f(*t):\n",
    "    for i in t:\n",
    "        print(i)"
   ]
  },
  {
   "cell_type": "code",
   "execution_count": 38,
   "id": "3c8f4e41-0d59-495e-aba9-abfb00366455",
   "metadata": {},
   "outputs": [
    {
     "name": "stdout",
     "output_type": "stream",
     "text": [
      "<class 'tuple'>\n",
      "4\n",
      "5\n",
      "6\n"
     ]
    }
   ],
   "source": [
    "f(4,5,6)"
   ]
  },
  {
   "cell_type": "code",
   "execution_count": 66,
   "id": "15dd6fd6-31c5-4054-9a75-cfd35fc63e6f",
   "metadata": {},
   "outputs": [],
   "source": [
    "def d(**d):\n",
    "    for i in d:\n",
    "        print(d)"
   ]
  },
  {
   "cell_type": "code",
   "execution_count": 67,
   "id": "4071396e-d0ce-4956-a431-b98852db19f6",
   "metadata": {},
   "outputs": [
    {
     "name": "stdout",
     "output_type": "stream",
     "text": [
      "{'s': 5}\n"
     ]
    }
   ],
   "source": [
    "d(s=5)"
   ]
  },
  {
   "cell_type": "code",
   "execution_count": 51,
   "id": "e9262f3b-1e21-4f72-99be-0ba1a7cc74ca",
   "metadata": {},
   "outputs": [],
   "source": [
    "def soome(a,b):\n",
    "    print(a+b)"
   ]
  },
  {
   "cell_type": "code",
   "execution_count": 58,
   "id": "e3bcf633-c520-4134-8d1f-1823fc5300c5",
   "metadata": {},
   "outputs": [],
   "source": []
  }
 ],
 "metadata": {
  "kernelspec": {
   "display_name": "Python 3 (ipykernel)",
   "language": "python",
   "name": "python3"
  },
  "language_info": {
   "codemirror_mode": {
    "name": "ipython",
    "version": 3
   },
   "file_extension": ".py",
   "mimetype": "text/x-python",
   "name": "python",
   "nbconvert_exporter": "python",
   "pygments_lexer": "ipython3",
   "version": "3.9.13"
  }
 },
 "nbformat": 4,
 "nbformat_minor": 5
}
