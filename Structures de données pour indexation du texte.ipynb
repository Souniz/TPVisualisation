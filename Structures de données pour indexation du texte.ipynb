{
 "cells": [
  {
   "cell_type": "markdown",
   "metadata": {},
   "source": [
    "# TP manipulation de textes"
   ]
  },
  {
   "cell_type": "markdown",
   "metadata": {},
   "source": [
    "Après avoir placé le fichier `articles1.csv` dans le répertoire contenant le présent notebook, exécutez la cellule suivante."
   ]
  },
  {
   "cell_type": "code",
   "execution_count": 1,
   "metadata": {},
   "outputs": [],
   "source": [
    "import pandas as pd\n",
    "\n",
    "df = pd.read_csv('articles1.csv')\n",
    "news = [content for content in list(df['content'])]"
   ]
  },
  {
   "cell_type": "markdown",
   "metadata": {},
   "source": [
    "A l'issue de l'exécution de la cellule précédente, la variable `news` est une listes textes représentant des news publiés dans des médias américains."
   ]
  },
  {
   "cell_type": "markdown",
   "metadata": {},
   "source": [
    "Complétez ce notebook avec des cellules de code python permettant de réaliser les opérations demandées."
   ]
  },
  {
   "cell_type": "markdown",
   "metadata": {},
   "source": [
    "Testez la cellule suivante."
   ]
  },
  {
   "cell_type": "code",
   "execution_count": 2,
   "metadata": {},
   "outputs": [
    {
     "name": "stdout",
     "output_type": "stream",
     "text": [
      "(0, 12)\n",
      "(1, 'Toto')\n",
      "(2, 68)\n"
     ]
    }
   ],
   "source": [
    "for element in enumerate([12,'Toto',68]):\n",
    "    print(element)"
   ]
  },
  {
   "cell_type": "markdown",
   "metadata": {},
   "source": [
    "Qu'en déduisez vous quant à la fonction `enumerate` ?"
   ]
  },
  {
   "cell_type": "markdown",
   "metadata": {},
   "source": [
    "# La methode enumerate prend en parametre un objet iterable et retourne sous forme de tuple les elements de l'objet et leur position"
   ]
  },
  {
   "cell_type": "markdown",
   "metadata": {},
   "source": [
    "A l'aide de la fonction `enumerate` il vous est demandé de créer un dictionnaire `data` dont les valeurs sont les éléments de la variable `news` auxquels sont associés comme clés des entiers distincts. "
   ]
  },
  {
   "cell_type": "markdown",
   "metadata": {},
   "source": [
    "Complétez ce notebook par du code python dont l'exécution permettra de répondre aux questions suivantes :\n",
    "- Combien y a-t-il d'articles dans le dictionnaire `data` ?\n",
    "- Quel est le contenu de l'article dont la clé vaut 65 ?"
   ]
  },
  {
   "cell_type": "markdown",
   "metadata": {},
   "source": [
    "Proposez un code qui, à partir de ces données, va réaliser une indexation du dictionnaire data, c'est-à-dire qui va construire un nouveau dictionnaire disposant des caractéristiques suivantes :\n",
    "- les clés du dictionnaire sont les tokens de l'ensemble des articles. On obtient la liste des tokens d'un article en utilisant la méthode `split()`\n",
    "- la valeur associée à chaque clé du dictionnaire (token) est la liste des identifiants des articles qui contiennent effectivement ce token"
   ]
  },
  {
   "cell_type": "markdown",
   "metadata": {},
   "source": [
    "Utilisez ce dictionnaire `index` pour donner la listes des identifiants des `news` contenant le token `President`.\n",
    "\n",
    "**Question optionnelle** : Essayez de trouver la liste des `news` contenant à la fois les tokens `President` et `Capitol`"
   ]
  },
  {
   "cell_type": "markdown",
   "metadata": {},
   "source": [
    "Proposez un code qui, à partir de la variable `index`, construit une liste de tuples à deux éléments. Le second élément du tuple est un token, tandis que le premier est le nombre d'occurrences de ce token.\n",
    "\n",
    "Un tri sur cette liste, permettra d'ordonner les tokens par leur fréquence d'apparition dans l'ensemble de news."
   ]
  },
  {
   "cell_type": "markdown",
   "metadata": {},
   "source": [
    "# Creation du dictionnaire data"
   ]
  },
  {
   "cell_type": "code",
   "execution_count": 33,
   "metadata": {},
   "outputs": [],
   "source": [
    "data=dict(enumerate(news))"
   ]
  },
  {
   "cell_type": "markdown",
   "metadata": {},
   "source": [
    "data.keys()"
   ]
  },
  {
   "cell_type": "markdown",
   "metadata": {},
   "source": [
    "# Le nombre d'article dans data"
   ]
  },
  {
   "cell_type": "code",
   "execution_count": 4,
   "metadata": {},
   "outputs": [
    {
     "name": "stdout",
     "output_type": "stream",
     "text": [
      "Le nombre d'article est 100\n"
     ]
    }
   ],
   "source": [
    "print(f\"Le nombre d'article est {len(data)}\")"
   ]
  },
  {
   "cell_type": "markdown",
   "metadata": {},
   "source": [
    "# le contenu de l'article dont la clé vaut 65"
   ]
  },
  {
   "cell_type": "markdown",
   "metadata": {},
   "source": [
    "print(f\"Le contennu de l'article 65 est {data.get(65)}\")"
   ]
  },
  {
   "cell_type": "markdown",
   "metadata": {},
   "source": [
    "data.get(65).split()"
   ]
  },
  {
   "cell_type": "markdown",
   "metadata": {},
   "source": [
    "# L'indexation"
   ]
  },
  {
   "cell_type": "code",
   "execution_count": 25,
   "metadata": {},
   "outputs": [],
   "source": [
    "s=[a.split() for a in news] # pour chque element de new je creer une liste des mots"
   ]
  },
  {
   "cell_type": "code",
   "execution_count": 11,
   "metadata": {},
   "outputs": [],
   "source": [
    "# Je mets tout les tokens(cles) dans un emsemble pour eliminer les doublons\n",
    "tokens=set()\n",
    "for elemt in s:\n",
    "    for el in elemt:\n",
    "       tokens.add(el)"
   ]
  },
  {
   "cell_type": "code",
   "execution_count": 27,
   "metadata": {},
   "outputs": [],
   "source": [
    "tokens=list(tokens) # La liste des tokens"
   ]
  },
  {
   "cell_type": "code",
   "execution_count": 13,
   "metadata": {},
   "outputs": [],
   "source": [
    "id=list(df['id']) # La liste de id"
   ]
  },
  {
   "cell_type": "code",
   "execution_count": 14,
   "metadata": {},
   "outputs": [],
   "source": [
    "index={}\n",
    "for token in tokens:\n",
    "    val=[]\n",
    "    for i in range(len(s)):\n",
    "        if token in s[i]:  \n",
    "            val.append(id[i])\n",
    "    index[token]=val"
   ]
  },
  {
   "cell_type": "code",
   "execution_count": 39,
   "metadata": {},
   "outputs": [
    {
     "data": {
      "text/plain": [
       "[17283,\n",
       " 17309,\n",
       " 17311,\n",
       " 17317,\n",
       " 17330,\n",
       " 17332,\n",
       " 17333,\n",
       " 17349,\n",
       " 17350,\n",
       " 17352,\n",
       " 17353,\n",
       " 17369,\n",
       " 17386,\n",
       " 17387,\n",
       " 17388,\n",
       " 17390,\n",
       " 17391,\n",
       " 17392]"
      ]
     },
     "execution_count": 39,
     "metadata": {},
     "output_type": "execute_result"
    }
   ],
   "source": [
    "index.get('WASHINGTON')"
   ]
  },
  {
   "cell_type": "markdown",
   "metadata": {},
   "source": [
    "# La liste des news contenenant `President` et `Capital`"
   ]
  },
  {
   "cell_type": "code",
   "execution_count": 18,
   "metadata": {},
   "outputs": [
    {
     "data": {
      "text/plain": [
       "[17354]"
      ]
     },
     "execution_count": 18,
     "metadata": {},
     "output_type": "execute_result"
    }
   ],
   "source": [
    "presi=index.get('President')\n",
    "capi=index.get('Capital')\n",
    "presi_capi=[]\n",
    "for i in presi:\n",
    "    for j in capi:\n",
    "        if i==j:\n",
    "           presi_capi.append(i)\n",
    "presi_capi"
   ]
  },
  {
   "cell_type": "markdown",
   "metadata": {},
   "source": [
    "# Liste de tuples avec leur nombre d'occurence"
   ]
  },
  {
   "cell_type": "markdown",
   "metadata": {},
   "source": [
    "key=index.keys()\n",
    "liste_tuple=[]\n",
    "for l in key:\n",
    "    tup=(l,len(index.get(l)))\n",
    "    liste_tuple.append(tup)\n",
    "liste_tuple"
   ]
  }
 ],
 "metadata": {
  "kernelspec": {
   "display_name": "Python 3 (ipykernel)",
   "language": "python",
   "name": "python3"
  },
  "language_info": {
   "codemirror_mode": {
    "name": "ipython",
    "version": 3
   },
   "file_extension": ".py",
   "mimetype": "text/x-python",
   "name": "python",
   "nbconvert_exporter": "python",
   "pygments_lexer": "ipython3",
   "version": "3.9.13"
  }
 },
 "nbformat": 4,
 "nbformat_minor": 4
}
