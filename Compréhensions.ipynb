{
 "cells": [
  {
   "cell_type": "markdown",
   "metadata": {},
   "source": [
    "# Compréhensions"
   ]
  },
  {
   "cell_type": "markdown",
   "metadata": {},
   "source": [
    "Dans ce TP, vous allez dans un premier temps reprendre des éléments du TP précédent sur l'indexation de texte pour produire le dictionnaire `data` qui associe aux entiers successifs distincts (0, 1, 2...) un des articles de la liste `news` après avoir exécuté le code suivant. A la différence du TP précédent, la génération du dictionnaire `data` doit se faire en utilisant une compréhension."
   ]
  },
  {
   "cell_type": "code",
   "execution_count": 4,
   "metadata": {},
   "outputs": [],
   "source": [
    "import pandas as pd\n",
    "\n",
    "df = pd.read_csv('articles1.csv')\n",
    "news = [content for content in list(df['content'])]"
   ]
  },
  {
   "cell_type": "markdown",
   "metadata": {},
   "source": [
    "1 - Ecrivez, par le biais d'une compréhension, un dictionnaire `length` qui associe à chaque identifiant d'article, la longueur de l'article en termes de nombres de mots"
   ]
  },
  {
   "cell_type": "code",
   "execution_count": 9,
   "metadata": {},
   "outputs": [],
   "source": [
    "lenght={i:len(n) for i,n in enumerate(news)}"
   ]
  },
  {
   "cell_type": "markdown",
   "metadata": {},
   "source": [
    "2 - Ecrivez une instruction donnant l'identifiant de l'article ayant le plus de mots en utilisant le dictionnaire `length`."
   ]
  },
  {
   "cell_type": "code",
   "execution_count": 37,
   "metadata": {},
   "outputs": [],
   "source": [
    "#max(lenght.items(),ke=lambda x:x[1])"
   ]
  },
  {
   "cell_type": "code",
   "execution_count": 19,
   "metadata": {},
   "outputs": [
    {
     "data": {
      "text/plain": [
       "[89]"
      ]
     },
     "execution_count": 19,
     "metadata": {},
     "output_type": "execute_result"
    }
   ],
   "source": [
    "[i for i in lenght.keys() if lenght.get(i)==max(lenght.values())]"
   ]
  },
  {
   "cell_type": "markdown",
   "metadata": {},
   "source": [
    "3 - Faites de même sans utiliser le dictionnaire `length`, en agissant directement sur la variable `data`."
   ]
  },
  {
   "cell_type": "code",
   "execution_count": 29,
   "metadata": {},
   "outputs": [
    {
     "data": {
      "text/plain": [
       "[89]"
      ]
     },
     "execution_count": 29,
     "metadata": {},
     "output_type": "execute_result"
    }
   ],
   "source": [
    "data=dict(enumerate(news))\n",
    "[i for i in data.keys() if len(data.get(i))==max([len(j) for j in data.values()])]"
   ]
  },
  {
   "cell_type": "markdown",
   "metadata": {},
   "source": [
    "4 - Ecrire en une seule instruction le code qui, considérant la chaîne `s`, génère son accronyme, à savoir la chaine de caractères composées des initiales des différents mots qui composent la chaîne `s`. Par exemple, si `s` vaut `\"Code pour générer des mots de passe à partir d'une phrase\"`, l'instruction devra produire `\"Cpgdmdpàpdp\"`"
   ]
  },
  {
   "cell_type": "code",
   "execution_count": 43,
   "metadata": {},
   "outputs": [
    {
     "data": {
      "text/plain": [
       "'Cpgdmdpàpdp'"
      ]
     },
     "execution_count": 43,
     "metadata": {},
     "output_type": "execute_result"
    }
   ],
   "source": [
    "s=\"Code pour générer des mots de passe à partir d'une phrase\"\n",
    "\"\".join([i[0] for i in s.split()])"
   ]
  },
  {
   "cell_type": "markdown",
   "metadata": {},
   "source": [
    "5 - Modifiez le code précédent de sorte que les lettres de l'accronyme soient alternativement en majuscule et en minuscule. Avec la chaîne `s` précédente, la chaine retournée serait `\"CpGdMdPàPdP\""
   ]
  },
  {
   "cell_type": "code",
   "execution_count": 56,
   "metadata": {},
   "outputs": [
    {
     "data": {
      "text/plain": [
       "'CpGdMdPàPdP'"
      ]
     },
     "execution_count": 56,
     "metadata": {},
     "output_type": "execute_result"
    }
   ],
   "source": [
    "\"\".join([i[0].upper() if c%2==0 else  i[0].lower() for c,i in enumerate(s.split())])"
   ]
  },
  {
   "cell_type": "markdown",
   "metadata": {},
   "source": [
    "6 - Modifiez le code de sorte que l'instruction produisent un accronyme constitués des majuscultes des initiales des mots, mais les initiales des mots dont l'indice est multiple de 3 ne devront pas inclus dans l'accronyme. Par exemple pour la chaine `s` précédente, l'instruction devra produire `'PGMDÀPP`"
   ]
  },
  {
   "cell_type": "code",
   "execution_count": 59,
   "metadata": {},
   "outputs": [
    {
     "data": {
      "text/plain": [
       "'PGMDÀPP'"
      ]
     },
     "execution_count": 59,
     "metadata": {},
     "output_type": "execute_result"
    }
   ],
   "source": [
    "\"\".join([i[0].upper() for c,i in enumerate(s.split()) if c%3!=0])"
   ]
  },
  {
   "cell_type": "markdown",
   "metadata": {},
   "source": [
    "7 - Adaptez le code de sorte que dans la chaine produite, les caractères soient en majuscules et que pour les mots d'indice multiple de 3, au lieu de l'initiale on trouve la longueur du mots en termes de nombre de caractères. Par exemple, avec la chaine `s` précédente, la chaîne renvoyée serait `'4PG3MD5ÀP5P'`."
   ]
  },
  {
   "cell_type": "code",
   "execution_count": 64,
   "metadata": {},
   "outputs": [
    {
     "data": {
      "text/plain": [
       "'4PG3MD5ÀP5P'"
      ]
     },
     "execution_count": 64,
     "metadata": {},
     "output_type": "execute_result"
    }
   ],
   "source": [
    "\"\".join([str(len(i)) if c%3==0 else i[0].upper() for c,i in enumerate(s.split())])"
   ]
  }
 ],
 "metadata": {
  "kernelspec": {
   "display_name": "Python 3 (ipykernel)",
   "language": "python",
   "name": "python3"
  },
  "language_info": {
   "codemirror_mode": {
    "name": "ipython",
    "version": 3
   },
   "file_extension": ".py",
   "mimetype": "text/x-python",
   "name": "python",
   "nbconvert_exporter": "python",
   "pygments_lexer": "ipython3",
   "version": "3.9.13"
  }
 },
 "nbformat": 4,
 "nbformat_minor": 4
}
