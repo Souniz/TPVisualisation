{
 "cells": [
  {
   "cell_type": "markdown",
   "metadata": {},
   "source": [
    "# Format de données\n",
    "\n",
    "Dans ce TP, nous allons mettre en œuvre les fonctionnalités liées aux fichiers pour écrire des fonctions de sauvegarde et de chargement de données dans différents formats.\n",
    "\n",
    "## Travail préliminaire\n",
    "\n",
    "Dans un travail préliminaire, il vous est demandé de produire un code permettant de transformer un structure de données de type dictionnaire où les valeurs associées à chaque clé $k$ sont des listes $l_k$ de même taille $n$, en une liste de taille $n$ dont tous les éléments sont des dictionnaires de clés $k$ et pour lesquelles les valeurs associées sont les différentes valeurs des listes $l_k$.\n",
    "\n",
    "Ainsi votre code devra par exemple être capable de transformer la structure suivante :\n",
    "\n",
    "    {\"colonne 1\":[12, 36, 32], \"colonne 2\":[25.4, 78.2, 46.2], \"colonne 3\":['A', 'B', 'C]}\n",
    "    \n",
    "en la structure de données suivante :\n",
    "\n",
    "    [\n",
    "        {\"colonne 1\":12, \"colonne 2\":25.4, \"colonne 3\":'A'},\n",
    "        {\"colonne 1\":36, \"colonne 2\":78.2, \"colonne 3\":'B'},\n",
    "        {\"colonne 1\":32, \"colonne 2\":46.2, \"colonne 3\":'C'}\n",
    "    ]\n",
    "    \n",
    "Il devra également être opérant sur la structure de donnée suivante :\n",
    "\n",
    "    {\"Nom\": ['Shannon', 'Turing', 'Lovelace'], \"Prénom\":['Claude', 'Alan', 'Ada']}\n",
    "    \n",
    "pour la transformer en \n",
    "    \n",
    "    [\n",
    "        {\"Nom\":'Shannon', \"Prénom\":'Claude'},\n",
    "        {\"Nom\":'Turing', \"Prénom\":'Alan'},\n",
    "        {\"Nom\":'Lovelace', \"Prénom\":'Ada'}\n",
    "    ]\n"
   ]
  },
  {
   "cell_type": "code",
   "execution_count": 11,
   "metadata": {},
   "outputs": [],
   "source": [
    "d={\"colonne 1\":[12, 36, 32], \"colonne 2\":[25.4, 78.2, 46.2], \"colonne 3\":['A', 'B', 'C']}\n",
    "s=[\n",
    "    {\"Nom\":'Shannon', \"Prénom\":'Claude'},\n",
    "    {\"Nom\":'Turing', \"Prénom\":'Alan'},\n",
    "    {\"Nom\":'Lovelace', \"Prénom\":'Ada'}\n",
    "]"
   ]
  },
  {
   "cell_type": "code",
   "execution_count": 19,
   "metadata": {},
   "outputs": [],
   "source": [
    "def tranf(dic):\n",
    "   return [{i:dic.get(i)[j] for i in dic } for j in range(len(list(dic.values())[0]))]"
   ]
  },
  {
   "cell_type": "code",
   "execution_count": 20,
   "metadata": {},
   "outputs": [],
   "source": [
    "a=tranf(d)"
   ]
  },
  {
   "cell_type": "code",
   "execution_count": 21,
   "metadata": {},
   "outputs": [
    {
     "data": {
      "text/plain": [
       "[{'colonne 1': 12, 'colonne 2': 25.4, 'colonne 3': 'A'},\n",
       " {'colonne 1': 36, 'colonne 2': 78.2, 'colonne 3': 'B'},\n",
       " {'colonne 1': 32, 'colonne 2': 46.2, 'colonne 3': 'C'}]"
      ]
     },
     "execution_count": 21,
     "metadata": {},
     "output_type": "execute_result"
    }
   ],
   "source": [
    "a"
   ]
  },
  {
   "cell_type": "code",
   "execution_count": 22,
   "metadata": {},
   "outputs": [
    {
     "data": {
      "text/plain": [
       "dict_keys"
      ]
     },
     "execution_count": 22,
     "metadata": {},
     "output_type": "execute_result"
    }
   ],
   "source": [
    "type(d.keys())"
   ]
  },
  {
   "cell_type": "markdown",
   "metadata": {},
   "source": [
    "## Le format CSV\n",
    "\n",
    "CSV est l'acronyme de *Comma Separated Values* qui signifie *valeurs séparées par des virgules*. C'est un format utilisé pour sauvegarder des données tabulaires. Il s'agit d'un format texte. La première ligne contient les intitulés (chaînes de caractères) des colonnes séparées par des virgules.\n",
    "Les lignes suivantes du fichier représentent les différents lignes du tableau de données. Au sein de chaque ligne, les valeurs correspondant aux colonnes sont séparées par des vigules.\n",
    "\n",
    "Le fichier [exemple.csv](exemple.csv) montre un exemple de fichier avec le format `.csv`.\n",
    "\n",
    "Ecrire la fonction de sauvegarde dans un fichier `.csv` pour les deux types de structures de données utilisés précédemment (dictionnaire de listes, liste de dictionnaires)."
   ]
  },
  {
   "cell_type": "code",
   "execution_count": 25,
   "metadata": {},
   "outputs": [],
   "source": [
    "import pandas as pd\n",
    "def fich_dic(dic):\n",
    "    import csv \n",
    "    with open('test.csv', 'w', newline='') as f:\n",
    "        writer=csv.DictWriter(f,list(dic.keys()))\n",
    "        writer.writeheader()\n",
    "        for i in tranf(d):\n",
    "            writer.writerow(i)\n",
    "fich_dic(d)"
   ]
  },
  {
   "cell_type": "code",
   "execution_count": 26,
   "metadata": {},
   "outputs": [],
   "source": [
    "def fich_list_dic(dic):\n",
    "    import csv \n",
    "    with open('test1.csv', 'w', newline='') as f:\n",
    "        head=list(dic[0].keys())\n",
    "        writer=csv.DictWriter(f,head)\n",
    "        writer.writeheader()\n",
    "        for i in dic:\n",
    "            writer.writerow(i)\n",
    "fich_list_dic(s)"
   ]
  },
  {
   "cell_type": "markdown",
   "metadata": {},
   "source": [
    "Ecrire des fonctions de chargement, c'est-à-dire de lecture des fichiers csv. \n",
    "\n",
    "Dans une version initiale, l'ensemble des données seront lues comme des chaînes de caractères. Dans une seconde version, le type de la données devra être interprété de sa syntaxe, en se limitant aux données de type chaînes de caractères et numériques."
   ]
  },
  {
   "cell_type": "code",
   "execution_count": 7,
   "metadata": {},
   "outputs": [
    {
     "name": "stdout",
     "output_type": "stream",
     "text": [
      "['Prenom', ' Nom', ' Email', ' Age', ' Ville\\n']\n",
      "['Robert', ' Lepingre', ' bobby@exemple.com', ' 41', ' Paris\\n']\n",
      "['Jeanne', ' Ducoux', ' jeanne@exemple.com', ' 32', ' Marseille\\n']\n",
      "['Pierre', ' Lenfant', ' pierre@exemple.com', ' 23', ' Rennes']\n"
     ]
    }
   ],
   "source": [
    "def chargement(s):\n",
    "    f=open(s,'r')\n",
    "    s=f.readline()\n",
    "    while s:\n",
    "        print(s.split(','))\n",
    "        s=f.readline()\n",
    "chargement('exemple.csv')"
   ]
  },
  {
   "cell_type": "code",
   "execution_count": 27,
   "metadata": {},
   "outputs": [
    {
     "name": "stdout",
     "output_type": "stream",
     "text": [
      "['Prenom', ' Nom', ' Email', ' Age', ' Ville\\n']\n",
      "['Robert', ' Lepingre', ' bobby@exemple.com', 41, ' Paris\\n']\n",
      "['Jeanne', ' Ducoux', ' jeanne@exemple.com', 32, ' Marseille\\n']\n",
      "['Pierre', ' Lenfant', ' pierre@exemple.com', 23, ' Rennes']\n"
     ]
    }
   ],
   "source": [
    "def chargement2(s):\n",
    "    f=open(s,'r')\n",
    "    s=f.readline()\n",
    "    while s:\n",
    "        s=[int(i) if i.strip().isnumeric() else i for i in s.split(',')]\n",
    "        print(s)\n",
    "        s=f.readline()\n",
    "chargement2('exemple.csv')"
   ]
  },
  {
   "cell_type": "markdown",
   "metadata": {},
   "source": [
    "### Optionnel\n",
    "\n",
    "Ecrire les variantes suivantes : \n",
    "- La variante française dans laquelle les valeurs sont séparées par des points-virgules et la virgule est utilisée à la place du point comme séparateur entre la partie entière et la partie fractionnaire des données numériques.\n",
    "- Le format TSV (ou TAB) dans lequel le caractère de séparation des valeurs n'est ni le point, ni le point-virgule, mais la tabulation"
   ]
  },
  {
   "cell_type": "code",
   "execution_count": 41,
   "metadata": {},
   "outputs": [],
   "source": [
    "def getSep(s):\n",
    "    m=max(len(s.split(' ')),len(s.split(',')),len(s.split(';')))\n",
    "    if m==len(s.split(' ')):\n",
    "        res=' '\n",
    "    elif m==len(s.split(',')):\n",
    "      res=','\n",
    "    else:\n",
    "        res=';'\n",
    "    return res"
   ]
  },
  {
   "cell_type": "code",
   "execution_count": 27,
   "metadata": {},
   "outputs": [
    {
     "ename": "FileNotFoundError",
     "evalue": "[Errno 2] No such file or directory: 'fichiers/test_fr.csv'",
     "output_type": "error",
     "traceback": [
      "\u001b[1;31m---------------------------------------------------------------------------\u001b[0m",
      "\u001b[1;31mFileNotFoundError\u001b[0m                         Traceback (most recent call last)",
      "\u001b[1;32m~\\AppData\\Local\\Temp\\ipykernel_9480\\573176041.py\u001b[0m in \u001b[0;36m<module>\u001b[1;34m\u001b[0m\n\u001b[0;32m      9\u001b[0m         \u001b[0mprint\u001b[0m\u001b[1;33m(\u001b[0m\u001b[0ms\u001b[0m\u001b[1;33m)\u001b[0m\u001b[1;33m\u001b[0m\u001b[1;33m\u001b[0m\u001b[0m\n\u001b[0;32m     10\u001b[0m         \u001b[0ms\u001b[0m\u001b[1;33m=\u001b[0m\u001b[0mf\u001b[0m\u001b[1;33m.\u001b[0m\u001b[0mreadline\u001b[0m\u001b[1;33m(\u001b[0m\u001b[1;33m)\u001b[0m\u001b[1;33m\u001b[0m\u001b[1;33m\u001b[0m\u001b[0m\n\u001b[1;32m---> 11\u001b[1;33m \u001b[0mcsvfrench\u001b[0m\u001b[1;33m(\u001b[0m\u001b[1;34m'fichiers/test_fr.csv'\u001b[0m\u001b[1;33m)\u001b[0m\u001b[1;33m\u001b[0m\u001b[1;33m\u001b[0m\u001b[0m\n\u001b[0m",
      "\u001b[1;32m~\\AppData\\Local\\Temp\\ipykernel_9480\\573176041.py\u001b[0m in \u001b[0;36mcsvfrench\u001b[1;34m(s)\u001b[0m\n\u001b[0;32m      1\u001b[0m \u001b[1;32mdef\u001b[0m \u001b[0mcsvfrench\u001b[0m\u001b[1;33m(\u001b[0m\u001b[0ms\u001b[0m\u001b[1;33m)\u001b[0m\u001b[1;33m:\u001b[0m\u001b[1;33m\u001b[0m\u001b[1;33m\u001b[0m\u001b[0m\n\u001b[1;32m----> 2\u001b[1;33m     \u001b[0mf\u001b[0m\u001b[1;33m=\u001b[0m\u001b[0mopen\u001b[0m\u001b[1;33m(\u001b[0m\u001b[0ms\u001b[0m\u001b[1;33m,\u001b[0m\u001b[1;34m'r'\u001b[0m\u001b[1;33m)\u001b[0m\u001b[1;33m\u001b[0m\u001b[1;33m\u001b[0m\u001b[0m\n\u001b[0m\u001b[0;32m      3\u001b[0m     \u001b[0ms\u001b[0m\u001b[1;33m=\u001b[0m\u001b[0mf\u001b[0m\u001b[1;33m.\u001b[0m\u001b[0mreadline\u001b[0m\u001b[1;33m(\u001b[0m\u001b[1;33m)\u001b[0m\u001b[1;33m\u001b[0m\u001b[1;33m\u001b[0m\u001b[0m\n\u001b[0;32m      4\u001b[0m     \u001b[0msep\u001b[0m\u001b[1;33m=\u001b[0m\u001b[0mgetSep\u001b[0m\u001b[1;33m(\u001b[0m\u001b[0ms\u001b[0m\u001b[1;33m)\u001b[0m\u001b[1;33m\u001b[0m\u001b[1;33m\u001b[0m\u001b[0m\n\u001b[0;32m      5\u001b[0m     \u001b[0ms\u001b[0m\u001b[1;33m=\u001b[0m\u001b[0ms\u001b[0m\u001b[1;33m.\u001b[0m\u001b[0msplit\u001b[0m\u001b[1;33m(\u001b[0m\u001b[0msep\u001b[0m\u001b[1;33m)\u001b[0m\u001b[1;33m\u001b[0m\u001b[1;33m\u001b[0m\u001b[0m\n",
      "\u001b[1;31mFileNotFoundError\u001b[0m: [Errno 2] No such file or directory: 'fichiers/test_fr.csv'"
     ]
    }
   ],
   "source": [
    "def csvfrench(s):\n",
    "    f=open(s,'r')\n",
    "    s=f.readline()\n",
    "    sep=getSep(s)\n",
    "    s=s.split(sep)   \n",
    "    while s:\n",
    "        s=[int(i) if i.strip().isnumeric() else i for i in s.split(sep)]\n",
    "        s=[float(i.replace('.',',')) if ',' else i for i in s]\n",
    "        print(s)\n",
    "        s=f.readline()\n",
    "csvfrench('fichiers/test_fr.csv')"
   ]
  },
  {
   "cell_type": "code",
   "execution_count": null,
   "metadata": {},
   "outputs": [],
   "source": []
  },
  {
   "cell_type": "markdown",
   "metadata": {},
   "source": [
    "## JSON\n",
    "\n",
    "Le format JSON (pour *JavaScript Object Notation*) est un format léger pour l'échange de données. Il est notamment documenté sur le [site officiel](https://www.json.org/).\n",
    "\n",
    "Les objets JSON sont délimités par des accolades et contiennent des données membres. Les données membres sont des couples clés-valeurs, séparés par des virgules. Les clés sont des chaînes de caractères délimités par des guillemets `\"`. Les valeurs peuvent être des données numériques, des chaines de caractères délimitées par des guillemets `\"`, d'autres objets (comme définis précédemment) ou des tableaux. Un tableau est une liste de valeurs séparées par des virgules et délimitée par des crochets `[` et `]`.\n",
    "\n",
    "Implémentez une fonction de sauvegarde d'une structure de données de type dictionnaire au format JSON ainsi qu'une fonction de chargement. "
   ]
  },
  {
   "cell_type": "code",
   "execution_count": null,
   "metadata": {},
   "outputs": [],
   "source": []
  },
  {
   "cell_type": "markdown",
   "metadata": {},
   "source": [
    "Prenez en main le module `json` de python qui permet aisément la sauvegarde via la méthode `json.dump()` et le chargement via la méthode `json.load()` ou `json.loads()`."
   ]
  },
  {
   "cell_type": "code",
   "execution_count": null,
   "metadata": {},
   "outputs": [],
   "source": []
  }
 ],
 "metadata": {
  "kernelspec": {
   "display_name": "Python 3 (ipykernel)",
   "language": "python",
   "name": "python3"
  },
  "language_info": {
   "codemirror_mode": {
    "name": "ipython",
    "version": 3
   },
   "file_extension": ".py",
   "mimetype": "text/x-python",
   "name": "python",
   "nbconvert_exporter": "python",
   "pygments_lexer": "ipython3",
   "version": "3.9.13"
  }
 },
 "nbformat": 4,
 "nbformat_minor": 4
}
