{
 "cells": [
  {
   "cell_type": "markdown",
   "metadata": {},
   "source": [
    "# Fizz-Buzz\n",
    "\n",
    "L'objet de ce TP est de produire la liste des entiers de 1 à N (N est saisi au clavier). Dans cette liste, les entiers multiples de 3 sont remplacés par la chaîne de caractères `\"Fizz\"`, ceux multiples de 5 sont remplacés par `\"Buzz\"`, ceux multiples de 3 et de 5 sont remplacés par `\"FizzBuzz\"`"
   ]
  },
  {
   "cell_type": "markdown",
   "metadata": {},
   "source": [
    "Dans une seconde version, les entiers remplacés seront insérés dans des listes `Fizz` et `Buzz` contenant respectivement les multiples de 3 et de 5 que vous afficherez."
   ]
  },
  {
   "cell_type": "markdown",
   "metadata": {},
   "source": [
    "Dans une troisième version, Fizz est associé non seulement aux multiples de 3 mais également aux nombres dont un des chiffres est 3. De même, Buzz est associé aux multiples de 5 et aux nombres qui contiennent le chiffre 5."
   ]
  },
  {
   "cell_type": "markdown",
   "metadata": {},
   "source": [
    "# Version 1"
   ]
  },
  {
   "cell_type": "code",
   "execution_count": 8,
   "metadata": {},
   "outputs": [
    {
     "name": "stdin",
     "output_type": "stream",
     "text": [
      "Donner un entier 16\n"
     ]
    },
    {
     "name": "stdout",
     "output_type": "stream",
     "text": [
      "1\n",
      "2\n",
      "Fizz\n",
      "4\n",
      "Buzz\n",
      "Fizz\n",
      "7\n",
      "8\n",
      "Fizz\n",
      "Buzz\n",
      "11\n",
      "Fizz\n",
      "13\n",
      "14\n",
      "FizzBuzz\n",
      "16\n"
     ]
    }
   ],
   "source": [
    "n=int(input('Donner un entier'))\n",
    "for i in range(1,n+1):\n",
    "    if (i%3==0) and (i%5)==0:\n",
    "        print(\"FizzBuzz\")\n",
    "    elif i%3==0:\n",
    "         print(\"Fizz\")\n",
    "    elif i%5==0:\n",
    "        print(\"Buzz\")\n",
    "    else:\n",
    "        print(i)"
   ]
  },
  {
   "cell_type": "markdown",
   "metadata": {},
   "source": [
    "# Second Version"
   ]
  },
  {
   "cell_type": "code",
   "execution_count": 19,
   "metadata": {},
   "outputs": [
    {
     "name": "stdin",
     "output_type": "stream",
     "text": [
      "Donner un entier 16\n"
     ]
    },
    {
     "data": {
      "text/plain": [
       "[3, 6, 9, 12, 15]"
      ]
     },
     "execution_count": 19,
     "metadata": {},
     "output_type": "execute_result"
    }
   ],
   "source": [
    "buzz=[]\n",
    "fizz=[]\n",
    "n=int(input('Donner un entier'))\n",
    "for i in range(1,n+1):\n",
    "    if i%3==0:\n",
    "         fizz.append(i)\n",
    "    if i%5==0:\n",
    "         buzz.append(i)\n",
    "fizz"
   ]
  },
  {
   "cell_type": "markdown",
   "metadata": {},
   "source": [
    "# Troisieme version"
   ]
  },
  {
   "cell_type": "code",
   "execution_count": 6,
   "metadata": {},
   "outputs": [
    {
     "name": "stdin",
     "output_type": "stream",
     "text": [
      "Donner un entier 14\n"
     ]
    },
    {
     "data": {
      "text/plain": [
       "[3, 6, 9, 12, 13]"
      ]
     },
     "execution_count": 6,
     "metadata": {},
     "output_type": "execute_result"
    }
   ],
   "source": [
    "buzz=[]\n",
    "fizz=[]\n",
    "n=int(input('Donner un entier'))\n",
    "for i in range(1,n+1):\n",
    "    if i%3==0 or ('3' in str(i)):\n",
    "         fizz.append(i)\n",
    "    if i%5==0 or  ('5' in str(i)):\n",
    "         buzz.append(i)\n",
    "fizz"
   ]
  },
  {
   "cell_type": "code",
   "execution_count": null,
   "metadata": {},
   "outputs": [],
   "source": []
  }
 ],
 "metadata": {
  "kernelspec": {
   "display_name": "Python 3 (ipykernel)",
   "language": "python",
   "name": "python3"
  },
  "language_info": {
   "codemirror_mode": {
    "name": "ipython",
    "version": 3
   },
   "file_extension": ".py",
   "mimetype": "text/x-python",
   "name": "python",
   "nbconvert_exporter": "python",
   "pygments_lexer": "ipython3",
   "version": "3.9.13"
  }
 },
 "nbformat": 4,
 "nbformat_minor": 4
}
