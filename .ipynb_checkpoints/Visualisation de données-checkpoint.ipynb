{
 "cells": [
  {
   "cell_type": "markdown",
   "metadata": {},
   "source": [
    "## Visualisation de données avec matplotlib et pandas"
   ]
  },
  {
   "cell_type": "code",
   "execution_count": 1,
   "metadata": {},
   "outputs": [
    {
     "name": "stderr",
     "output_type": "stream",
     "text": [
      "C:\\Users\\Souniz\\anaconda3\\lib\\site-packages\\scipy\\__init__.py:155: UserWarning: A NumPy version >=1.18.5 and <1.25.0 is required for this version of SciPy (detected version 1.26.2\n",
      "  warnings.warn(f\"A NumPy version >={np_minversion} and <{np_maxversion}\"\n"
     ]
    }
   ],
   "source": [
    "import pandas as pd\n",
    "import numpy as np\n",
    "import matplotlib.pyplot as plt\n",
    "import seaborn as sns\n",
    "import plotly.express as px\n",
    "import ipywidgets as ipw\n",
    "import ipywidgets as ipw"
   ]
  },
  {
   "cell_type": "markdown",
   "metadata": {},
   "source": [
    "Chargez le dataset Indicator et, en vous inspirant des notebooks relatifs à la visualisation par matplotlib et pandas proposés sur l'espace de cours, produisez des cellules de code réalisant pour répondre aux instructions suivantes. \n",
    "\n",
    "Les graphiques devront porter un titre. Leurs axes devront être nommés et les unités précisées. Utilisez éventuellement les légendes ou les échelles de couleur si nécessaire de sorte que le graphique soit suffisant pour véhiculer une information claire."
   ]
  },
  {
   "cell_type": "code",
   "execution_count": 2,
   "metadata": {},
   "outputs": [
    {
     "data": {
      "text/html": [
       "<div>\n",
       "<style scoped>\n",
       "    .dataframe tbody tr th:only-of-type {\n",
       "        vertical-align: middle;\n",
       "    }\n",
       "\n",
       "    .dataframe tbody tr th {\n",
       "        vertical-align: top;\n",
       "    }\n",
       "\n",
       "    .dataframe thead th {\n",
       "        text-align: right;\n",
       "    }\n",
       "</style>\n",
       "<table border=\"1\" class=\"dataframe\">\n",
       "  <thead>\n",
       "    <tr style=\"text-align: right;\">\n",
       "      <th></th>\n",
       "      <th>CountryName</th>\n",
       "      <th>CountryCode</th>\n",
       "      <th>IndicatorName</th>\n",
       "      <th>IndicatorCode</th>\n",
       "      <th>Year</th>\n",
       "      <th>Value</th>\n",
       "    </tr>\n",
       "  </thead>\n",
       "  <tbody>\n",
       "    <tr>\n",
       "      <th>0</th>\n",
       "      <td>Arab World</td>\n",
       "      <td>ARB</td>\n",
       "      <td>Adolescent fertility rate (births per 1,000 wo...</td>\n",
       "      <td>SP.ADO.TFRT</td>\n",
       "      <td>1960</td>\n",
       "      <td>1.335609e+02</td>\n",
       "    </tr>\n",
       "    <tr>\n",
       "      <th>1</th>\n",
       "      <td>Arab World</td>\n",
       "      <td>ARB</td>\n",
       "      <td>Age dependency ratio (% of working-age populat...</td>\n",
       "      <td>SP.POP.DPND</td>\n",
       "      <td>1960</td>\n",
       "      <td>8.779760e+01</td>\n",
       "    </tr>\n",
       "    <tr>\n",
       "      <th>2</th>\n",
       "      <td>Arab World</td>\n",
       "      <td>ARB</td>\n",
       "      <td>Age dependency ratio, old (% of working-age po...</td>\n",
       "      <td>SP.POP.DPND.OL</td>\n",
       "      <td>1960</td>\n",
       "      <td>6.634579e+00</td>\n",
       "    </tr>\n",
       "    <tr>\n",
       "      <th>3</th>\n",
       "      <td>Arab World</td>\n",
       "      <td>ARB</td>\n",
       "      <td>Age dependency ratio, young (% of working-age ...</td>\n",
       "      <td>SP.POP.DPND.YG</td>\n",
       "      <td>1960</td>\n",
       "      <td>8.102333e+01</td>\n",
       "    </tr>\n",
       "    <tr>\n",
       "      <th>4</th>\n",
       "      <td>Arab World</td>\n",
       "      <td>ARB</td>\n",
       "      <td>Arms exports (SIPRI trend indicator values)</td>\n",
       "      <td>MS.MIL.XPRT.KD</td>\n",
       "      <td>1960</td>\n",
       "      <td>3.000000e+06</td>\n",
       "    </tr>\n",
       "  </tbody>\n",
       "</table>\n",
       "</div>"
      ],
      "text/plain": [
       "  CountryName CountryCode                                      IndicatorName  \\\n",
       "0  Arab World         ARB  Adolescent fertility rate (births per 1,000 wo...   \n",
       "1  Arab World         ARB  Age dependency ratio (% of working-age populat...   \n",
       "2  Arab World         ARB  Age dependency ratio, old (% of working-age po...   \n",
       "3  Arab World         ARB  Age dependency ratio, young (% of working-age ...   \n",
       "4  Arab World         ARB        Arms exports (SIPRI trend indicator values)   \n",
       "\n",
       "    IndicatorCode  Year         Value  \n",
       "0     SP.ADO.TFRT  1960  1.335609e+02  \n",
       "1     SP.POP.DPND  1960  8.779760e+01  \n",
       "2  SP.POP.DPND.OL  1960  6.634579e+00  \n",
       "3  SP.POP.DPND.YG  1960  8.102333e+01  \n",
       "4  MS.MIL.XPRT.KD  1960  3.000000e+06  "
      ]
     },
     "execution_count": 2,
     "metadata": {},
     "output_type": "execute_result"
    }
   ],
   "source": [
    "df=pd.read_csv('Indicators/Indicators.csv')\n",
    "df.head()"
   ]
  },
  {
   "cell_type": "markdown",
   "metadata": {},
   "source": [
    "Affichez l'histogramme des valeurs d'émission de CO2 par habitant des pays sur l'année 1976."
   ]
  },
  {
   "cell_type": "code",
   "execution_count": 3,
   "metadata": {},
   "outputs": [
    {
     "data": {
      "image/png": "[encoded data removed]",
      "text/plain": [
       "<Figure size 640x480 with 1 Axes>"
      ]
     },
     "metadata": {},
     "output_type": "display_data"
    }
   ],
   "source": [
    "co2=df[(df['IndicatorName']==\"CO2 emissions (metric tons per capita)\") & (df['Year']==1976)]['Value']\n",
    "plt.title(\"Emission de CO2\")\n",
    "plt.xlabel('Emission de CO2 par habitants')\n",
    "plt.ylabel('Nombre de pays')\n",
    "plt.hist(co2)\n",
    "plt.show()"
   ]
  },
  {
   "cell_type": "markdown",
   "metadata": {},
   "source": [
    "Utilisez un graphique en ligne pour afficher l'évolution des émission de CO2 par habitant sur l'ensemble des années disponibles pour les pays suivants : \n",
    "- Luxembourg\n",
    "- Quatar\n",
    "- Etats Unis d'Amérique\n",
    "- Allemagne\n",
    "- France\n",
    "- Chine\n",
    "- Inde\n",
    "- Sénégal"
   ]
  },
  {
   "cell_type": "code",
   "execution_count": 3,
   "metadata": {},
   "outputs": [
    {
     "data": {
      "text/plain": [
       "Text(0, 0.5, 'Value')"
      ]
     },
     "execution_count": 3,
     "metadata": {},
     "output_type": "execute_result"
    },
    {
     "data": {
      "image/png": "[encoded data removed]",
      "text/plain": [
       "<Figure size 640x480 with 1 Axes>"
      ]
     },
     "metadata": {},
     "output_type": "display_data"
    }
   ],
   "source": [
    "pays=[\"Luxembourg\",'Qatar',\"United States\",\"Germany\",\"France\",\"China\",\"India\",\"Senegal\"]\n",
    "co2Pay=df[df['IndicatorName']==\"CO2 emissions (metric tons per capita)\"]\n",
    "plt.figure()\n",
    "for i in pays:\n",
    "    data=co2Pay[co2Pay['CountryName']==i]\n",
    "    plt.plot(data['Year'],data['Value'],label=i)\n",
    "plt.legend(loc=(0.7,0.7))\n",
    "plt.xlabel('Annee')\n",
    "plt.ylabel('Value')"
   ]
  },
  {
   "cell_type": "markdown",
   "metadata": {},
   "source": [
    "Utiliser un graphique en nuage de points pour afficher un graphique représentant en abscisse le PIB (GDP per capita (current US$)) et en ordonnée l'espérance de vie pour l'année 1985."
   ]
  },
  {
   "cell_type": "code",
   "execution_count": 4,
   "metadata": {},
   "outputs": [],
   "source": [
    "data85=df[df['Year']==1985]\n",
    "pib_85=data85.loc[data85['IndicatorName']=='GDP per capita (current US$)',['CountryName','Value']]\n",
    "life_85=data85.loc[data85['IndicatorName']=='Life expectancy at birth, total (years)',['CountryName','Value']]"
   ]
  },
  {
   "cell_type": "code",
   "execution_count": 5,
   "metadata": {},
   "outputs": [
    {
     "data": {
      "text/plain": [
       "Text(0, 0.5, 'LieExprency')"
      ]
     },
     "execution_count": 5,
     "metadata": {},
     "output_type": "execute_result"
    },
    {
     "data": {
      "image/png": "[encoded data removed]",
      "text/plain": [
       "<Figure size 640x480 with 1 Axes>"
      ]
     },
     "metadata": {},
     "output_type": "display_data"
    }
   ],
   "source": [
    "data=pd.merge(pib_85,life_85,how='inner',on='CountryName')\n",
    "data.columns=['CountryName','PIB','LieExprency']\n",
    "plt.scatter(data['PIB'],data['LieExprency'])\n",
    "plt.xlabel('PIB')\n",
    "plt.ylabel('LieExprency')"
   ]
  },
  {
   "cell_type": "markdown",
   "metadata": {},
   "source": [
    "Modifiez le graphique précédent de telle sorte que la surface des disques soit proportionnelle à la population du pays et que la couleur soit associée au taux d'alphabetisation (Adult literacy rate, population 15+ years, both sexes (%))"
   ]
  },
  {
   "cell_type": "code",
   "execution_count": 7,
   "metadata": {},
   "outputs": [
    {
     "data": {
      "text/plain": [
       "<matplotlib.collections.PathCollection at 0x1d4004c7580>"
      ]
     },
     "execution_count": 7,
     "metadata": {},
     "output_type": "execute_result"
    },
    {
     "data": {
      "image/png": "[encoded data removed]",
      "text/plain": [
       "<Figure size 640x480 with 1 Axes>"
      ]
     },
     "metadata": {},
     "output_type": "display_data"
    }
   ],
   "source": [
    "pop_85=data85.loc[data85['IndicatorName']=='Population, total',['CountryName','Value']]\n",
    "pop_85.columns=['CountryName','Populat']\n",
    "co2_85=data85.loc[data85['IndicatorName']==\"CO2 emissions (metric tons per capita)\",['CountryName','Value']]\n",
    "co2_85.columns=['CountryName','Co2']\n",
    "leftt=pd.merge(data,pop_85,how='inner',on='CountryName')\n",
    "rest=pd.merge(leftt,co2_85,how='inner',on='CountryName')\n",
    "plt.scatter(rest['PIB'],rest['LieExprency'],c=rest['Co2'],s=rest['Populat']/10000000)"
   ]
  },
  {
   "cell_type": "markdown",
   "metadata": {},
   "source": [
    "Complétez le graphique en le dotant de fonctionnalités d'interaction de telle sorte qu'un clic sur un point permette l'affichage des informations suivantes relatives à l'année 1985 : \n",
    "- Nom du pays\n",
    "- Valeur de l'espérance de vie\n",
    "- Valeur du PIB\n",
    "- Taille de la population\n",
    "- Taux d'alphabétisation"
   ]
  },
  {
   "cell_type": "markdown",
   "metadata": {},
   "source": [
    "Modifier le graphique en le transformant en une animation de sorte que les différentes frames permettent la visualisation des données pour les années successives."
   ]
  },
  {
   "cell_type": "code",
   "execution_count": 17,
   "metadata": {},
   "outputs": [
    {
     "data": {
      "application/vnd.plotly.v1+json": {
       "config": {
        "plotlyServerURL": "https://plot.ly"
       },
       "data": [
        {
         "hovertemplate": "<b>%{hovertext}</b><br><br>PIB=%{x}<br>LieExprency=%{y}<br>Populat=%{marker.size}<br>Co2=%{marker.color}<extra></extra>",
         "hovertext": [
          "Arab World",
          "Caribbean small states",
          "East Asia & Pacific (all income levels)",
          "East Asia & Pacific (developing only)",
          "Euro area",
          "European Union",
          "Heavily indebted poor countries (HIPC)",
          "High income",
          "High income: OECD",
          "Latin America & Caribbean (all income levels)",
          "Latin America & Caribbean (developing only)",
          "Least developed countries: UN classification",
          "Low & middle income",
          "Lower middle income",
          "Middle East & North Africa (all income levels)",
          "Middle income",
          "North America",
          "OECD members",
          "Other small states",
          "Pacific island small states",
          "Small states",
          "South Asia",
          "Sub-Saharan Africa (all income levels)",
          "Sub-Saharan Africa (developing only)",
          "Upper middle income",
          "World",
          "Albania",
          "Algeria",
          "Angola",
          "Antigua and Barbuda",
          "Argentina",
          "Australia",
          "Austria",
          "Bahamas, The",
          "Bahrain",
          "Bangladesh",
          "Barbados",
          "Belgium",
          "Belize",
          "Benin",
          "Bhutan",
          "Bolivia",
          "Botswana",
          "Brazil",
          "Brunei Darussalam",
          "Bulgaria",
          "Burkina Faso",
          "Burundi",
          "Cabo Verde",
          "Cameroon",
          "Canada",
          "Central African Republic",
          "Chad",
          "Chile",
          "China",
          "Colombia",
          "Comoros",
          "Congo, Dem. Rep.",
          "Congo, Rep.",
          "Costa Rica",
          "Cote d'Ivoire",
          "Cuba",
          "Cyprus",
          "Denmark",
          "Djibouti",
          "Dominican Republic",
          "Ecuador",
          "Egypt, Arab Rep.",
          "El Salvador",
          "Equatorial Guinea",
          "Ethiopia",
          "Fiji",
          "Finland",
          "France",
          "French Polynesia",
          "Gabon",
          "Gambia, The",
          "Ghana",
          "Greece",
          "Greenland",
          "Grenada",
          "Guatemala",
          "Guinea-Bissau",
          "Guyana",
          "Honduras",
          "Hong Kong SAR, China",
          "Iceland",
          "India",
          "Indonesia",
          "Iran, Islamic Rep.",
          "Iraq",
          "Ireland",
          "Israel",
          "Italy",
          "Jamaica",
          "Japan",
          "Jordan",
          "Kenya",
          "Kiribati",
          "Korea, Rep.",
          "Kuwait",
          "Lao PDR",
          "Liberia",
          "Luxembourg",
          "Macao SAR, China",
          "Madagascar",
          "Malawi",
          "Malaysia",
          "Maldives",
          "Mali",
          "Malta",
          "Mauritania",
          "Mauritius",
          "Mexico",
          "Mongolia",
          "Morocco",
          "Mozambique",
          "Nepal",
          "Netherlands",
          "New Caledonia",
          "New Zealand",
          "Nicaragua",
          "Niger",
          "Nigeria",
          "Norway",
          "Oman",
          "Pakistan",
          "Panama",
          "Papua New Guinea",
          "Paraguay",
          "Peru",
          "Philippines",
          "Portugal",
          "Qatar",
          "Rwanda",
          "Samoa",
          "Saudi Arabia",
          "Senegal",
          "Sierra Leone",
          "Singapore",
          "Solomon Islands",
          "South Africa",
          "Spain",
          "Sri Lanka",
          "St. Lucia",
          "St. Vincent and the Grenadines",
          "Sudan",
          "Suriname",
          "Swaziland",
          "Sweden",
          "Switzerland",
          "Syrian Arab Republic",
          "Thailand",
          "Togo",
          "Tonga",
          "Trinidad and Tobago",
          "Tunisia",
          "Turkey",
          "Uganda",
          "United Arab Emirates",
          "United Kingdom",
          "United States",
          "Uruguay",
          "Vanuatu",
          "Venezuela, RB",
          "Vietnam",
          "Zambia",
          "Zimbabwe"
         ],
         "legendgroup": "",
         "marker": {
          "color": [
           3.06695923904397,
           5.52558631396319,
           2.25059102834439,
           1.54648895251791,
           7.89723361417112,
           8.90377075523502,
           0.202165179729364,
           11.001594382005598,
           11.275891056024802,
           2.21875769510925,
           1.86146653448918,
           0.15106612345283,
           1.5717795849663,
           0.8974829232265409,
           3.5237104500022296,
           1.67917129992419,
           18.6231868824053,
           10.264786705687,
           1.00560153379117,
           0.830007572870666,
           2.4022773746781,
           0.5494934335092461,
           1.06784107400581,
           1.06829623779601,
           2.41829787394539,
           4.08633563717559,
           2.65801538201043,
           3.22549764006837,
           0.48240053137906,
           3.79283280603553,
           3.31032728821864,
           15.3084102043407,
           7.23076635313884,
           6.43760972200917,
           24.3053227633069,
           0.110031467766198,
           3.30981248705696,
           10.5974402503959,
           1.15624924203837,
           0.17363082227519,
           0.132916142512953,
           0.664145932037242,
           0.979567890902513,
           1.32456548047279,
           11.6397562867352,
           9.99278347627662,
           0.0616867790419974,
           0.0483888805338966,
           0.26862244247968,
           0.623818597994162,
           16.2701038470434,
           0.0614091977541501,
           0.0352828095392379,
           1.7758725716384802,
           1.87105479144466,
           1.56001615004099,
           0.153761646385951,
           0.121435726037758,
           0.614203070768191,
           0.830041853601399,
           0.721268182531008,
           3.23094915297942,
           4.408573056716491,
           11.7474430895414,
           0.8486220983776891,
           1.12402893144355,
           2.14807455292004,
           1.2949743432783,
           0.403889750965874,
           0.209938073897846,
           0.0445155271126786,
           0.8141297215114459,
           10.131326182539,
           7.058284444350231,
           3.34870553855988,
           7.611504039918509,
           0.235419865262836,
           0.261552905820102,
           6.1001622660882,
           9.581071428571429,
           0.623970292371906,
           0.434122258592209,
           0.182391281572077,
           1.85496632215444,
           0.449998536851058,
           4.21797074887284,
           6.74446676746546,
           0.6271247209128941,
           0.734768045476881,
           3.4029871734229498,
           2.86812565628147,
           7.553554722586981,
           5.8751698558941605,
           6.575619372201941,
           2.1832858811821203,
           7.580675397916419,
           3.2301221633888,
           0.191736484836537,
           0.343749023529044,
           4.3703049256987,
           16.803807943203598,
           0.0548035471428436,
           0.32874542308739,
           24.9995909529705,
           2.4758458183389505,
           0.1083811995716309,
           0.0773539042707548,
           2.29868767103475,
           0.3482229057087539,
           0.0519717396475513,
           3.5639823808448194,
           0.371503603861098,
           0.693494935954722,
           3.7311350699690897,
           4.69755162249562,
           0.7906496213312251,
           0.0875961670404493,
           0.0405876153613051,
           10.209256072746,
           9.42569763677566,
           6.71490930368637,
           0.5368380015480879,
           0.145861246503085,
           0.833035901473596,
           8.88730783939183,
           5.78040677622236,
           0.511863741429575,
           1.18472826273073,
           0.578288317045755,
           0.4374243223943621,
           0.99831961708779,
           0.516329121545973,
           2.73425939329461,
           33.431502327047895,
           0.10069621178019,
           0.710348059738799,
           12.9219138669607,
           0.41579683455669,
           0.191494106826111,
           12.2139513888889,
           0.5551772651573621,
           10.3556720544476,
           5.237900974410531,
           0.2497596894331519,
           1.0152591444121,
           0.631775414684572,
           0.1807267295599439,
           4.30402536954631,
           0.6237349254137541,
           7.471990516366549,
           6.1553385319066205,
           2.77966447756661,
           0.9352559193756792,
           0.1690903306030289,
           0.507391993869275,
           17.7253391520452,
           1.64451216681925,
           2.17001225281695,
           0.0423565874009788,
           36.9705161233471,
           9.90013978359926,
           18.8823127427246,
           1.09453346335063,
           0.93065339772972,
           5.78470023433209,
           0.359548889039886,
           0.392447257432069,
           1.1581174646133798
          ],
          "coloraxis": "coloraxis",
          "size": [
           191425366,
           5786277,
           1682520138,
           1473632648,
           305968030,
           470587065,
           308377129,
           1158705791,
           898643236,
           405083115,
           336552535,
           446546151,
           3682478101,
           1694499225,
           217994983,
           3399243446,
           263922898,
           1025143958,
           11517883,
           1576858,
           18881018,
           1012110768,
           441414277,
           441032470,
           1704744221,
           4841183892,
           2964762,
           22565908,
           9745209,
           65744,
           30388781,
           15758000,
           7564985,
           234684,
           419425,
           93015182,
           255929,
           9858308,
           164916,
           4287263,
           469010,
           6211549,
           1182942,
           136836428,
           223049,
           8960547,
           7727912,
           4774258,
           313976,
           10381098,
           25942000,
           2627424,
           5092650,
           12108576,
           1051040000,
           31011686,
           357729,
           29985665,
           2083648,
           2730231,
           10158033,
           10082990,
           703693,
           5113691,
           423470,
           6488857,
           9045977,
           49373806,
           4920932,
           314407,
           40775997,
           711663,
           4902206,
           56795686,
           175208,
           830091,
           732092,
           12716238,
           9934300,
           53200,
           99907,
           8117499,
           944941,
           765043,
           4237436,
           5456200,
           241405,
           782085127,
           165012195,
           47290793,
           15576396,
           3538082,
           4233000,
           56593071,
           2311100,
           120754000,
           2644000,
           19660713,
           64006,
           40805744,
           1735320,
           3680145,
           2197442,
           366706,
           296222,
           9981113,
           7205635,
           15764340,
           189551,
           7831891,
           336452,
           1766855,
           1020528,
           77322643,
           1921885,
           22596133,
           13102982,
           16714335,
           14491632,
           154450,
           3247100,
           3709091,
           6838170,
           83901570,
           4152516,
           1498416,
           92165065,
           2219276,
           3677854,
           3671826,
           19544950,
           54323651,
           10023613,
           371071,
           6117966,
           160030,
           13361284,
           6438024,
           3466044,
           2736000,
           270809,
           31307880,
           38418817,
           15842000,
           126416,
           104477,
           17097619,
           371469,
           705492,
           8350386,
           6470365,
           10667245,
           52041468,
           3252995,
           93953,
           1170935,
           7260361,
           49178079,
           14631089,
           1350433,
           56550268,
           237924000,
           3011907,
           130028,
           17508059,
           58868000,
           7017292,
           8862601
          ],
          "sizemode": "area",
          "sizeref": 1936473.5568,
          "symbol": "circle"
         },
         "mode": "markers",
         "name": "",
         "orientation": "v",
         "showlegend": false,
         "type": "scatter",
         "x": [
          1580.25265921303,
          2698.07445590266,
          1394.4699812416102,
          356.100545130616,
          7818.6823254573,
          6719.536370259929,
          342.91106747423,
          9129.551870642092,
          10843.926140694,
          1852.80144319136,
          1627.84091129203,
          265.873060377653,
          563.1023501869271,
          409.291408181106,
          1959.47473225004,
          590.770986480117,
          17848.9006585245,
          9751.613417006558,
          840.293464625272,
          1198.26888337506,
          1449.0544240259198,
          296.463485435847,
          478.064285540269,
          477.967782136808,
          772.3104795076739,
          2615.5322227055804,
          662.914792567128,
          2567.49552076055,
          685.925974354129,
          3070.43927047236,
          2909.5168016202897,
          11434.3544445241,
          9150.00121050104,
          9888.61575565441,
          8706.829176064692,
          239.513836321076,
          5507.52771262316,
          8797.6679901166,
          1268.22139755997,
          243.911509468886,
          367.193667557235,
          865.6902500030791,
          942.38224543051,
          1629.26490916073,
          15797.4820020055,
          1959.9387571061895,
          200.894264489661,
          240.87078783205,
          438.65822614677904,
          784.90960706375,
          13991.2145509173,
          329.162646318737,
          202.855038142236,
          1361.51536293746,
          292.547939043556,
          1125.20227133798,
          320.048720872011,
          239.949409687655,
          1037.06218200909,
          1756.85810518822,
          686.909625955538,
          2273.28320140696,
          4488.287002594529,
          12167.4543547969,
          805.227150254276,
          777.4219630830901,
          1895.77030651113,
          702.590366809813,
          772.286347382975,
          197.573733566818,
          232.510329130439,
          1603.58220790828,
          11405.933650603502,
          9775.339434530591,
          8602.52259542494,
          4023.55254950685,
          308.33060629997004,
          354.219711284642,
          4813.71117991069,
          7760.83450802386,
          1283.3045617106,
          1197.61669062187,
          152.23834411354798,
          592.761912699895,
          858.892016304199,
          6542.93153674313,
          12462.0987946529,
          302.510676668679,
          529.28739194161,
          3810.12063151106,
          3100.30003896157,
          6018.48955246399,
          5698.7150875914895,
          7967.2306418302,
          908.761638897513,
          11465.7257816258,
          1888.6205857166296,
          312.04536368057,
          332.699796194861,
          2542.04197955182,
          12358.5107065412,
          643.090588972868,
          387.403217013236,
          13050.7562209923,
          4125.53024745135,
          286.32976227008,
          157.009061967106,
          1979.16059867689,
          670.821729125485,
          177.759885694348,
          3322.30815939598,
          386.67229908698897,
          1058.9059803191,
          2385.7577824395003,
          1137.68798601373,
          627.530889301999,
          340.245902720715,
          156.74652780081,
          9799.443037627729,
          5534.631412905,
          7600.61215354783,
          723.5465334547681,
          210.667715678796,
          344.141083749821,
          15753.5527652129,
          6677.48172439866,
          337.925447864313,
          2434.1271657964103,
          658.909540202949,
          807.836216648726,
          824.253856212108,
          565.762166135994,
          2705.45921651878,
          16582.5307790343,
          280.424300581804,
          597.222079459421,
          7776.0376244895,
          460.110133452948,
          247.22435682462003,
          6995.04602033271,
          857.825482742936,
          2142.15182343853,
          4693.07558925929,
          377.380442621997,
          1496.3822880479,
          1394.00731848215,
          552.705831236943,
          2350.8018165715,
          511.717098296119,
          13474.1613455755,
          16613.6284803968,
          1537.74892303746,
          747.494503771366,
          234.35627351918,
          639.241570939483,
          6299.169658257149,
          1158.37018847466,
          1367.17313143929,
          240.562763413074,
          30067.134163154704,
          8652.21654247593,
          18269.4221684235,
          1571.10358101485,
          951.32209075841,
          3309.08995946914,
          239.428695209592,
          320.986286469049,
          636.072784953311
         ],
         "xaxis": "x",
         "y": [
          61.8489042715517,
          68.7542607406331,
          67.9382334351086,
          66.9170477942799,
          74.7576438600518,
          73.8772390354312,
          48.862146114766205,
          73.3647016332083,
          74.586491672634,
          66.0520573731679,
          65.17296111934529,
          50.2568803647291,
          61.388804141928205,
          57.899265426256505,
          61.8766241683741,
          62.434446799723,
          74.7344828278507,
          73.5319850576284,
          57.2226357010549,
          62.6962627905296,
          61.17656313044751,
          56.08085257613771,
          49.5160664127445,
          49.5182493074556,
          66.962767066025,
          64.258557291373,
          71.47121951219509,
          64.073756097561,
          40.7777804878049,
          69.92851219512201,
          70.6313902439024,
          75.62926829268291,
          73.81463414634149,
          69.6106097560976,
          71.4278780487805,
          55.590658536585394,
          69.9449512195122,
          74.520243902439,
          71.13136585365851,
          49.934682926829296,
          48.639073170731706,
          52.4708048780488,
          62.5096585365854,
          63.5625609756098,
          71.7599268292683,
          71.2280487804878,
          49.2512195121951,
          48.7855853658537,
          63.5271219512195,
          52.8447804878049,
          76.3034146341464,
          49.8682926829268,
          46.0525609756098,
          70.3693902439024,
          68.34129268292679,
          67.57429268292691,
          53.8191951219512,
          47.652756097561,
          56.48785365853661,
          74.4734390243902,
          52.5941219512195,
          74.5289268292683,
          75.68270731707321,
          74.4275609756098,
          55.4727317073171,
          65.2725365853659,
          66.1275365853659,
          61.789,
          59.193975609756095,
          46.4540243902439,
          44.6299024390244,
          64.3790975609756,
          74.22292682926829,
          75.3,
          67.4518780487805,
          59.0942682926829,
          50.031048780487794,
          54.1097073170732,
          75.0765609756098,
          63.8336585365854,
          67.490756097561,
          59.56807317073171,
          47.37,
          63.0411463414634,
          63.613756097560994,
          76.4341463414634,
          77.60243902439029,
          55.8609024390244,
          61.5383902439024,
          55.8714146341463,
          62.106609756097605,
          73.64090243902442,
          75.2073170731707,
          75.4707317073171,
          71.0614390243903,
          77.650487804878,
          68.3383902439025,
          59.5970243902439,
          58.07485365853661,
          68.53292682926829,
          71.2034634146342,
          51.0184878048781,
          47.3198292682927,
          73.5886829268293,
          73.9421707317073,
          49.7103170731707,
          45.0454146341463,
          69.500756097561,
          57.40814634146339,
          43.4808780487805,
          74.0805609756098,
          56.86312195121951,
          68.3706829268293,
          68.7926097560976,
          58.3813658536585,
          61.4207804878049,
          41.7720975609756,
          50.1062682926829,
          76.28463414634149,
          68.7658536585366,
          73.82926829268291,
          60.66782926829271,
          41.7193902439024,
          46.3452926829268,
          75.9168292682927,
          63.9401219512195,
          58.618073170731705,
          71.80765853658541,
          54.85226829268289,
          67.2946829268293,
          62.95482926829271,
          63.7985609756098,
          72.81463414634149,
          74.1194390243902,
          50.451853658536606,
          62.463,
          66.6368292682927,
          53.9041463414634,
          40.3248048780488,
          73.890243902439,
          57.24504878048779,
          59.9121707317073,
          76.259512195122,
          69.27595121951221,
          70.435512195122,
          68.9823414634146,
          54.7589756097561,
          67.0202926829268,
          57.37092682926829,
          76.6678048780488,
          76.73365853658541,
          68.2868292682927,
          67.9077804878049,
          54.6347317073171,
          68.75965853658539,
          67.5566829268293,
          65.8676829268293,
          61.714439024390295,
          47.6906097560976,
          70.07663414634149,
          74.62926829268291,
          74.5634146341464,
          71.5834634146342,
          61.0821951219512,
          69.1748536585366,
          68.85282926829271,
          48.7342926829268,
          61.8590975609756
         ],
         "yaxis": "y"
        }
       ],
       "layout": {
        "autosize": true,
        "coloraxis": {
         "colorbar": {
          "title": {
           "text": "Co2"
          }
         },
         "colorscale": [
          [
           0,
           "#0d0887"
          ],
          [
           0.1111111111111111,
           "#46039f"
          ],
          [
           0.2222222222222222,
           "#7201a8"
          ],
          [
           0.3333333333333333,
           "#9c179e"
          ],
          [
           0.4444444444444444,
           "#bd3786"
          ],
          [
           0.5555555555555556,
           "#d8576b"
          ],
          [
           0.6666666666666666,
           "#ed7953"
          ],
          [
           0.7777777777777778,
           "#fb9f3a"
          ],
          [
           0.8888888888888888,
           "#fdca26"
          ],
          [
           1,
           "#f0f921"
          ]
         ]
        },
        "legend": {
         "itemsizing": "constant",
         "tracegroupgap": 0
        },
        "margin": {
         "t": 60
        },
        "template": {
         "data": {
          "bar": [
           {
            "error_x": {
             "color": "#2a3f5f"
            },
            "error_y": {
             "color": "#2a3f5f"
            },
            "marker": {
             "line": {
              "color": "#E5ECF6",
              "width": 0.5
             },
             "pattern": {
              "fillmode": "overlay",
              "size": 10,
              "solidity": 0.2
             }
            },
            "type": "bar"
           }
          ],
          "barpolar": [
           {
            "marker": {
             "line": {
              "color": "#E5ECF6",
              "width": 0.5
             },
             "pattern": {
              "fillmode": "overlay",
              "size": 10,
              "solidity": 0.2
             }
            },
            "type": "barpolar"
           }
          ],
          "carpet": [
           {
            "aaxis": {
             "endlinecolor": "#2a3f5f",
             "gridcolor": "white",
             "linecolor": "white",
             "minorgridcolor": "white",
             "startlinecolor": "#2a3f5f"
            },
            "baxis": {
             "endlinecolor": "#2a3f5f",
             "gridcolor": "white",
             "linecolor": "white",
             "minorgridcolor": "white",
             "startlinecolor": "#2a3f5f"
            },
            "type": "carpet"
           }
          ],
          "choropleth": [
           {
            "colorbar": {
             "outlinewidth": 0,
             "ticks": ""
            },
            "type": "choropleth"
           }
          ],
          "contour": [
           {
            "colorbar": {
             "outlinewidth": 0,
             "ticks": ""
            },
            "colorscale": [
             [
              0,
              "#0d0887"
             ],
             [
              0.1111111111111111,
              "#46039f"
             ],
             [
              0.2222222222222222,
              "#7201a8"
             ],
             [
              0.3333333333333333,
              "#9c179e"
             ],
             [
              0.4444444444444444,
              "#bd3786"
             ],
             [
              0.5555555555555556,
              "#d8576b"
             ],
             [
              0.6666666666666666,
              "#ed7953"
             ],
             [
              0.7777777777777778,
              "#fb9f3a"
             ],
             [
              0.8888888888888888,
              "#fdca26"
             ],
             [
              1,
              "#f0f921"
             ]
            ],
            "type": "contour"
           }
          ],
          "contourcarpet": [
           {
            "colorbar": {
             "outlinewidth": 0,
             "ticks": ""
            },
            "type": "contourcarpet"
           }
          ],
          "heatmap": [
           {
            "colorbar": {
             "outlinewidth": 0,
             "ticks": ""
            },
            "colorscale": [
             [
              0,
              "#0d0887"
             ],
             [
              0.1111111111111111,
              "#46039f"
             ],
             [
              0.2222222222222222,
              "#7201a8"
             ],
             [
              0.3333333333333333,
              "#9c179e"
             ],
             [
              0.4444444444444444,
              "#bd3786"
             ],
             [
              0.5555555555555556,
              "#d8576b"
             ],
             [
              0.6666666666666666,
              "#ed7953"
             ],
             [
              0.7777777777777778,
              "#fb9f3a"
             ],
             [
              0.8888888888888888,
              "#fdca26"
             ],
             [
              1,
              "#f0f921"
             ]
            ],
            "type": "heatmap"
           }
          ],
          "heatmapgl": [
           {
            "colorbar": {
             "outlinewidth": 0,
             "ticks": ""
            },
            "colorscale": [
             [
              0,
              "#0d0887"
             ],
             [
              0.1111111111111111,
              "#46039f"
             ],
             [
              0.2222222222222222,
              "#7201a8"
             ],
             [
              0.3333333333333333,
              "#9c179e"
             ],
             [
              0.4444444444444444,
              "#bd3786"
             ],
             [
              0.5555555555555556,
              "#d8576b"
             ],
             [
              0.6666666666666666,
              "#ed7953"
             ],
             [
              0.7777777777777778,
              "#fb9f3a"
             ],
             [
              0.8888888888888888,
              "#fdca26"
             ],
             [
              1,
              "#f0f921"
             ]
            ],
            "type": "heatmapgl"
           }
          ],
          "histogram": [
           {
            "marker": {
             "pattern": {
              "fillmode": "overlay",
              "size": 10,
              "solidity": 0.2
             }
            },
            "type": "histogram"
           }
          ],
          "histogram2d": [
           {
            "colorbar": {
             "outlinewidth": 0,
             "ticks": ""
            },
            "colorscale": [
             [
              0,
              "#0d0887"
             ],
             [
              0.1111111111111111,
              "#46039f"
             ],
             [
              0.2222222222222222,
              "#7201a8"
             ],
             [
              0.3333333333333333,
              "#9c179e"
             ],
             [
              0.4444444444444444,
              "#bd3786"
             ],
             [
              0.5555555555555556,
              "#d8576b"
             ],
             [
              0.6666666666666666,
              "#ed7953"
             ],
             [
              0.7777777777777778,
              "#fb9f3a"
             ],
             [
              0.8888888888888888,
              "#fdca26"
             ],
             [
              1,
              "#f0f921"
             ]
            ],
            "type": "histogram2d"
           }
          ],
          "histogram2dcontour": [
           {
            "colorbar": {
             "outlinewidth": 0,
             "ticks": ""
            },
            "colorscale": [
             [
              0,
              "#0d0887"
             ],
             [
              0.1111111111111111,
              "#46039f"
             ],
             [
              0.2222222222222222,
              "#7201a8"
             ],
             [
              0.3333333333333333,
              "#9c179e"
             ],
             [
              0.4444444444444444,
              "#bd3786"
             ],
             [
              0.5555555555555556,
              "#d8576b"
             ],
             [
              0.6666666666666666,
              "#ed7953"
             ],
             [
              0.7777777777777778,
              "#fb9f3a"
             ],
             [
              0.8888888888888888,
              "#fdca26"
             ],
             [
              1,
              "#f0f921"
             ]
            ],
            "type": "histogram2dcontour"
           }
          ],
          "mesh3d": [
           {
            "colorbar": {
             "outlinewidth": 0,
             "ticks": ""
            },
            "type": "mesh3d"
           }
          ],
          "parcoords": [
           {
            "line": {
             "colorbar": {
              "outlinewidth": 0,
              "ticks": ""
             }
            },
            "type": "parcoords"
           }
          ],
          "pie": [
           {
            "automargin": true,
            "type": "pie"
           }
          ],
          "scatter": [
           {
            "fillpattern": {
             "fillmode": "overlay",
             "size": 10,
             "solidity": 0.2
            },
            "type": "scatter"
           }
          ],
          "scatter3d": [
           {
            "line": {
             "colorbar": {
              "outlinewidth": 0,
              "ticks": ""
             }
            },
            "marker": {
             "colorbar": {
              "outlinewidth": 0,
              "ticks": ""
             }
            },
            "type": "scatter3d"
           }
          ],
          "scattercarpet": [
           {
            "marker": {
             "colorbar": {
              "outlinewidth": 0,
              "ticks": ""
             }
            },
            "type": "scattercarpet"
           }
          ],
          "scattergeo": [
           {
            "marker": {
             "colorbar": {
              "outlinewidth": 0,
              "ticks": ""
             }
            },
            "type": "scattergeo"
           }
          ],
          "scattergl": [
           {
            "marker": {
             "colorbar": {
              "outlinewidth": 0,
              "ticks": ""
             }
            },
            "type": "scattergl"
           }
          ],
          "scattermapbox": [
           {
            "marker": {
             "colorbar": {
              "outlinewidth": 0,
              "ticks": ""
             }
            },
            "type": "scattermapbox"
           }
          ],
          "scatterpolar": [
           {
            "marker": {
             "colorbar": {
              "outlinewidth": 0,
              "ticks": ""
             }
            },
            "type": "scatterpolar"
           }
          ],
          "scatterpolargl": [
           {
            "marker": {
             "colorbar": {
              "outlinewidth": 0,
              "ticks": ""
             }
            },
            "type": "scatterpolargl"
           }
          ],
          "scatterternary": [
           {
            "marker": {
             "colorbar": {
              "outlinewidth": 0,
              "ticks": ""
             }
            },
            "type": "scatterternary"
           }
          ],
          "surface": [
           {
            "colorbar": {
             "outlinewidth": 0,
             "ticks": ""
            },
            "colorscale": [
             [
              0,
              "#0d0887"
             ],
             [
              0.1111111111111111,
              "#46039f"
             ],
             [
              0.2222222222222222,
              "#7201a8"
             ],
             [
              0.3333333333333333,
              "#9c179e"
             ],
             [
              0.4444444444444444,
              "#bd3786"
             ],
             [
              0.5555555555555556,
              "#d8576b"
             ],
             [
              0.6666666666666666,
              "#ed7953"
             ],
             [
              0.7777777777777778,
              "#fb9f3a"
             ],
             [
              0.8888888888888888,
              "#fdca26"
             ],
             [
              1,
              "#f0f921"
             ]
            ],
            "type": "surface"
           }
          ],
          "table": [
           {
            "cells": {
             "fill": {
              "color": "#EBF0F8"
             },
             "line": {
              "color": "white"
             }
            },
            "header": {
             "fill": {
              "color": "#C8D4E3"
             },
             "line": {
              "color": "white"
             }
            },
            "type": "table"
           }
          ]
         },
         "layout": {
          "annotationdefaults": {
           "arrowcolor": "#2a3f5f",
           "arrowhead": 0,
           "arrowwidth": 1
          },
          "autotypenumbers": "strict",
          "coloraxis": {
           "colorbar": {
            "outlinewidth": 0,
            "ticks": ""
           }
          },
          "colorscale": {
           "diverging": [
            [
             0,
             "#8e0152"
            ],
            [
             0.1,
             "#c51b7d"
            ],
            [
             0.2,
             "#de77ae"
            ],
            [
             0.3,
             "#f1b6da"
            ],
            [
             0.4,
             "#fde0ef"
            ],
            [
             0.5,
             "#f7f7f7"
            ],
            [
             0.6,
             "#e6f5d0"
            ],
            [
             0.7,
             "#b8e186"
            ],
            [
             0.8,
             "#7fbc41"
            ],
            [
             0.9,
             "#4d9221"
            ],
            [
             1,
             "#276419"
            ]
           ],
           "sequential": [
            [
             0,
             "#0d0887"
            ],
            [
             0.1111111111111111,
             "#46039f"
            ],
            [
             0.2222222222222222,
             "#7201a8"
            ],
            [
             0.3333333333333333,
             "#9c179e"
            ],
            [
             0.4444444444444444,
             "#bd3786"
            ],
            [
             0.5555555555555556,
             "#d8576b"
            ],
            [
             0.6666666666666666,
             "#ed7953"
            ],
            [
             0.7777777777777778,
             "#fb9f3a"
            ],
            [
             0.8888888888888888,
             "#fdca26"
            ],
            [
             1,
             "#f0f921"
            ]
           ],
           "sequentialminus": [
            [
             0,
             "#0d0887"
            ],
            [
             0.1111111111111111,
             "#46039f"
            ],
            [
             0.2222222222222222,
             "#7201a8"
            ],
            [
             0.3333333333333333,
             "#9c179e"
            ],
            [
             0.4444444444444444,
             "#bd3786"
            ],
            [
             0.5555555555555556,
             "#d8576b"
            ],
            [
             0.6666666666666666,
             "#ed7953"
            ],
            [
             0.7777777777777778,
             "#fb9f3a"
            ],
            [
             0.8888888888888888,
             "#fdca26"
            ],
            [
             1,
             "#f0f921"
            ]
           ]
          },
          "colorway": [
           "#636efa",
           "#EF553B",
           "#00cc96",
           "#ab63fa",
           "#FFA15A",
           "#19d3f3",
           "#FF6692",
           "#B6E880",
           "#FF97FF",
           "#FECB52"
          ],
          "font": {
           "color": "#2a3f5f"
          },
          "geo": {
           "bgcolor": "white",
           "lakecolor": "white",
           "landcolor": "#E5ECF6",
           "showlakes": true,
           "showland": true,
           "subunitcolor": "white"
          },
          "hoverlabel": {
           "align": "left"
          },
          "hovermode": "closest",
          "mapbox": {
           "style": "light"
          },
          "paper_bgcolor": "white",
          "plot_bgcolor": "#E5ECF6",
          "polar": {
           "angularaxis": {
            "gridcolor": "white",
            "linecolor": "white",
            "ticks": ""
           },
           "bgcolor": "#E5ECF6",
           "radialaxis": {
            "gridcolor": "white",
            "linecolor": "white",
            "ticks": ""
           }
          },
          "scene": {
           "xaxis": {
            "backgroundcolor": "#E5ECF6",
            "gridcolor": "white",
            "gridwidth": 2,
            "linecolor": "white",
            "showbackground": true,
            "ticks": "",
            "zerolinecolor": "white"
           },
           "yaxis": {
            "backgroundcolor": "#E5ECF6",
            "gridcolor": "white",
            "gridwidth": 2,
            "linecolor": "white",
            "showbackground": true,
            "ticks": "",
            "zerolinecolor": "white"
           },
           "zaxis": {
            "backgroundcolor": "#E5ECF6",
            "gridcolor": "white",
            "gridwidth": 2,
            "linecolor": "white",
            "showbackground": true,
            "ticks": "",
            "zerolinecolor": "white"
           }
          },
          "shapedefaults": {
           "line": {
            "color": "#2a3f5f"
           }
          },
          "ternary": {
           "aaxis": {
            "gridcolor": "white",
            "linecolor": "white",
            "ticks": ""
           },
           "baxis": {
            "gridcolor": "white",
            "linecolor": "white",
            "ticks": ""
           },
           "bgcolor": "#E5ECF6",
           "caxis": {
            "gridcolor": "white",
            "linecolor": "white",
            "ticks": ""
           }
          },
          "title": {
           "x": 0.05
          },
          "xaxis": {
           "automargin": true,
           "gridcolor": "white",
           "linecolor": "white",
           "ticks": "",
           "title": {
            "standoff": 15
           },
           "zerolinecolor": "white",
           "zerolinewidth": 2
          },
          "yaxis": {
           "automargin": true,
           "gridcolor": "white",
           "linecolor": "white",
           "ticks": "",
           "title": {
            "standoff": 15
           },
           "zerolinecolor": "white",
           "zerolinewidth": 2
          }
         }
        },
        "xaxis": {
         "anchor": "y",
         "autorange": true,
         "domain": [
          0,
          1
         ],
         "range": [
          2.0434302525447054,
          4.6171858344360635
         ],
         "showspikes": false,
         "title": {
          "text": "PIB"
         },
         "type": "log"
        },
        "yaxis": {
         "anchor": "x",
         "autorange": true,
         "domain": [
          0,
          1
         ],
         "range": [
          37.83450587725422,
          80.52534589087561
         ],
         "showspikes": false,
         "title": {
          "text": "LieExprency"
         },
         "type": "linear"
        }
       }
      },
      "image/png": "[encoded data removed]",
      "text/html": [
       "<div>                            <div id=\"9c89bde0-9a7b-4ba4-b3d9-a321e9a16dd9\" class=\"plotly-graph-div\" style=\"height:500px; width:100%;\"></div>            <script type=\"text/javascript\">                require([\"plotly\"], function(Plotly) {                    window.PLOTLYENV=window.PLOTLYENV || {};                                    if (document.getElementById(\"9c89bde0-9a7b-4ba4-b3d9-a321e9a16dd9\")) {                    Plotly.newPlot(                        \"9c89bde0-9a7b-4ba4-b3d9-a321e9a16dd9\",                        [{\"hovertemplate\":\"<b>%{hovertext}</b><br><br>PIB=%{x}<br>LieExprency=%{y}<br>Populat=%{marker.size}<br>Co2=%{marker.color}<extra></extra>\",\"hovertext\":[\"Arab World\",\"Caribbean small states\",\"East Asia & Pacific (all income levels)\",\"East Asia & Pacific (developing only)\",\"Euro area\",\"European Union\",\"Heavily indebted poor countries (HIPC)\",\"High income\",\"High income: OECD\",\"Latin America & Caribbean (all income levels)\",\"Latin America & Caribbean (developing only)\",\"Least developed countries: UN classification\",\"Low & middle income\",\"Lower middle income\",\"Middle East & North Africa (all income levels)\",\"Middle income\",\"North America\",\"OECD members\",\"Other small states\",\"Pacific island small states\",\"Small states\",\"South Asia\",\"Sub-Saharan Africa (all income levels)\",\"Sub-Saharan Africa (developing only)\",\"Upper middle income\",\"World\",\"Albania\",\"Algeria\",\"Angola\",\"Antigua and Barbuda\",\"Argentina\",\"Australia\",\"Austria\",\"Bahamas, The\",\"Bahrain\",\"Bangladesh\",\"Barbados\",\"Belgium\",\"Belize\",\"Benin\",\"Bhutan\",\"Bolivia\",\"Botswana\",\"Brazil\",\"Brunei Darussalam\",\"Bulgaria\",\"Burkina Faso\",\"Burundi\",\"Cabo Verde\",\"Cameroon\",\"Canada\",\"Central African Republic\",\"Chad\",\"Chile\",\"China\",\"Colombia\",\"Comoros\",\"Congo, Dem. Rep.\",\"Congo, Rep.\",\"Costa Rica\",\"Cote d'Ivoire\",\"Cuba\",\"Cyprus\",\"Denmark\",\"Djibouti\",\"Dominican Republic\",\"Ecuador\",\"Egypt, Arab Rep.\",\"El Salvador\",\"Equatorial Guinea\",\"Ethiopia\",\"Fiji\",\"Finland\",\"France\",\"French Polynesia\",\"Gabon\",\"Gambia, The\",\"Ghana\",\"Greece\",\"Greenland\",\"Grenada\",\"Guatemala\",\"Guinea-Bissau\",\"Guyana\",\"Honduras\",\"Hong Kong SAR, China\",\"Iceland\",\"India\",\"Indonesia\",\"Iran, Islamic Rep.\",\"Iraq\",\"Ireland\",\"Israel\",\"Italy\",\"Jamaica\",\"Japan\",\"Jordan\",\"Kenya\",\"Kiribati\",\"Korea, Rep.\",\"Kuwait\",\"Lao PDR\",\"Liberia\",\"Luxembourg\",\"Macao SAR, China\",\"Madagascar\",\"Malawi\",\"Malaysia\",\"Maldives\",\"Mali\",\"Malta\",\"Mauritania\",\"Mauritius\",\"Mexico\",\"Mongolia\",\"Morocco\",\"Mozambique\",\"Nepal\",\"Netherlands\",\"New Caledonia\",\"New Zealand\",\"Nicaragua\",\"Niger\",\"Nigeria\",\"Norway\",\"Oman\",\"Pakistan\",\"Panama\",\"Papua New Guinea\",\"Paraguay\",\"Peru\",\"Philippines\",\"Portugal\",\"Qatar\",\"Rwanda\",\"Samoa\",\"Saudi Arabia\",\"Senegal\",\"Sierra Leone\",\"Singapore\",\"Solomon Islands\",\"South Africa\",\"Spain\",\"Sri Lanka\",\"St. Lucia\",\"St. Vincent and the Grenadines\",\"Sudan\",\"Suriname\",\"Swaziland\",\"Sweden\",\"Switzerland\",\"Syrian Arab Republic\",\"Thailand\",\"Togo\",\"Tonga\",\"Trinidad and Tobago\",\"Tunisia\",\"Turkey\",\"Uganda\",\"United Arab Emirates\",\"United Kingdom\",\"United States\",\"Uruguay\",\"Vanuatu\",\"Venezuela, RB\",\"Vietnam\",\"Zambia\",\"Zimbabwe\"],\"legendgroup\":\"\",\"marker\":{\"color\":[3.06695923904397,5.52558631396319,2.25059102834439,1.54648895251791,7.89723361417112,8.90377075523502,0.202165179729364,11.001594382005598,11.275891056024802,2.21875769510925,1.86146653448918,0.15106612345283,1.5717795849663,0.8974829232265409,3.5237104500022296,1.67917129992419,18.6231868824053,10.264786705687,1.00560153379117,0.830007572870666,2.4022773746781,0.5494934335092461,1.06784107400581,1.06829623779601,2.41829787394539,4.08633563717559,2.65801538201043,3.22549764006837,0.48240053137906,3.79283280603553,3.31032728821864,15.3084102043407,7.23076635313884,6.43760972200917,24.3053227633069,0.110031467766198,3.30981248705696,10.5974402503959,1.15624924203837,0.17363082227519,0.132916142512953,0.664145932037242,0.979567890902513,1.32456548047279,11.6397562867352,9.99278347627662,0.0616867790419974,0.0483888805338966,0.26862244247968,0.623818597994162,16.2701038470434,0.0614091977541501,0.0352828095392379,1.7758725716384802,1.87105479144466,1.56001615004099,0.153761646385951,0.121435726037758,0.614203070768191,0.830041853601399,0.721268182531008,3.23094915297942,4.408573056716491,11.7474430895414,0.8486220983776891,1.12402893144355,2.14807455292004,1.2949743432783,0.403889750965874,0.209938073897846,0.0445155271126786,0.8141297215114459,10.131326182539,7.058284444350231,3.34870553855988,7.611504039918509,0.235419865262836,0.261552905820102,6.1001622660882,9.581071428571429,0.623970292371906,0.434122258592209,0.182391281572077,1.85496632215444,0.449998536851058,4.21797074887284,6.74446676746546,0.6271247209128941,0.734768045476881,3.4029871734229498,2.86812565628147,7.553554722586981,5.8751698558941605,6.575619372201941,2.1832858811821203,7.580675397916419,3.2301221633888,0.191736484836537,0.343749023529044,4.3703049256987,16.803807943203598,0.0548035471428436,0.32874542308739,24.9995909529705,2.4758458183389505,0.1083811995716309,0.0773539042707548,2.29868767103475,0.3482229057087539,0.0519717396475513,3.5639823808448194,0.371503603861098,0.693494935954722,3.7311350699690897,4.69755162249562,0.7906496213312251,0.0875961670404493,0.0405876153613051,10.209256072746,9.42569763677566,6.71490930368637,0.5368380015480879,0.145861246503085,0.833035901473596,8.88730783939183,5.78040677622236,0.511863741429575,1.18472826273073,0.578288317045755,0.4374243223943621,0.99831961708779,0.516329121545973,2.73425939329461,33.431502327047895,0.10069621178019,0.710348059738799,12.9219138669607,0.41579683455669,0.191494106826111,12.2139513888889,0.5551772651573621,10.3556720544476,5.237900974410531,0.2497596894331519,1.0152591444121,0.631775414684572,0.1807267295599439,4.30402536954631,0.6237349254137541,7.471990516366549,6.1553385319066205,2.77966447756661,0.9352559193756792,0.1690903306030289,0.507391993869275,17.7253391520452,1.64451216681925,2.17001225281695,0.0423565874009788,36.9705161233471,9.90013978359926,18.8823127427246,1.09453346335063,0.93065339772972,5.78470023433209,0.359548889039886,0.392447257432069,1.1581174646133798],\"coloraxis\":\"coloraxis\",\"size\":[191425366.0,5786277.0,1682520138.0,1473632648.0,305968030.0,470587065.0,308377129.0,1158705791.0,898643236.0,405083115.0,336552535.0,446546151.0,3682478101.0,1694499225.0,217994983.0,3399243446.0,263922898.0,1025143958.0,11517883.0,1576858.0,18881018.0,1012110768.0,441414277.0,441032470.0,1704744221.0,4841183892.0,2964762.0,22565908.0,9745209.0,65744.0,30388781.0,15758000.0,7564985.0,234684.0,419425.0,93015182.0,255929.0,9858308.0,164916.0,4287263.0,469010.0,6211549.0,1182942.0,136836428.0,223049.0,8960547.0,7727912.0,4774258.0,313976.0,10381098.0,25942000.0,2627424.0,5092650.0,12108576.0,1051040000.0,31011686.0,357729.0,29985665.0,2083648.0,2730231.0,10158033.0,10082990.0,703693.0,5113691.0,423470.0,6488857.0,9045977.0,49373806.0,4920932.0,314407.0,40775997.0,711663.0,4902206.0,56795686.0,175208.0,830091.0,732092.0,12716238.0,9934300.0,53200.0,99907.0,8117499.0,944941.0,765043.0,4237436.0,5456200.0,241405.0,782085127.0,165012195.0,47290793.0,15576396.0,3538082.0,4233000.0,56593071.0,2311100.0,120754000.0,2644000.0,19660713.0,64006.0,40805744.0,1735320.0,3680145.0,2197442.0,366706.0,296222.0,9981113.0,7205635.0,15764340.0,189551.0,7831891.0,336452.0,1766855.0,1020528.0,77322643.0,1921885.0,22596133.0,13102982.0,16714335.0,14491632.0,154450.0,3247100.0,3709091.0,6838170.0,83901570.0,4152516.0,1498416.0,92165065.0,2219276.0,3677854.0,3671826.0,19544950.0,54323651.0,10023613.0,371071.0,6117966.0,160030.0,13361284.0,6438024.0,3466044.0,2736000.0,270809.0,31307880.0,38418817.0,15842000.0,126416.0,104477.0,17097619.0,371469.0,705492.0,8350386.0,6470365.0,10667245.0,52041468.0,3252995.0,93953.0,1170935.0,7260361.0,49178079.0,14631089.0,1350433.0,56550268.0,237924000.0,3011907.0,130028.0,17508059.0,58868000.0,7017292.0,8862601.0],\"sizemode\":\"area\",\"sizeref\":1936473.5568,\"symbol\":\"circle\"},\"mode\":\"markers\",\"name\":\"\",\"orientation\":\"v\",\"showlegend\":false,\"x\":[1580.25265921303,2698.07445590266,1394.4699812416102,356.100545130616,7818.6823254573,6719.536370259929,342.91106747423,9129.551870642092,10843.926140694,1852.80144319136,1627.84091129203,265.873060377653,563.1023501869271,409.291408181106,1959.47473225004,590.770986480117,17848.9006585245,9751.613417006558,840.293464625272,1198.26888337506,1449.0544240259198,296.463485435847,478.064285540269,477.967782136808,772.3104795076739,2615.5322227055804,662.914792567128,2567.49552076055,685.925974354129,3070.43927047236,2909.5168016202897,11434.3544445241,9150.00121050104,9888.61575565441,8706.829176064692,239.513836321076,5507.52771262316,8797.6679901166,1268.22139755997,243.911509468886,367.193667557235,865.6902500030791,942.38224543051,1629.26490916073,15797.4820020055,1959.9387571061895,200.894264489661,240.87078783205,438.65822614677904,784.90960706375,13991.2145509173,329.162646318737,202.855038142236,1361.51536293746,292.547939043556,1125.20227133798,320.048720872011,239.949409687655,1037.06218200909,1756.85810518822,686.909625955538,2273.28320140696,4488.287002594529,12167.4543547969,805.227150254276,777.4219630830901,1895.77030651113,702.590366809813,772.286347382975,197.573733566818,232.510329130439,1603.58220790828,11405.933650603502,9775.339434530591,8602.52259542494,4023.55254950685,308.33060629997004,354.219711284642,4813.71117991069,7760.83450802386,1283.3045617106,1197.61669062187,152.23834411354798,592.761912699895,858.892016304199,6542.93153674313,12462.0987946529,302.510676668679,529.28739194161,3810.12063151106,3100.30003896157,6018.48955246399,5698.7150875914895,7967.2306418302,908.761638897513,11465.7257816258,1888.6205857166296,312.04536368057,332.699796194861,2542.04197955182,12358.5107065412,643.090588972868,387.403217013236,13050.7562209923,4125.53024745135,286.32976227008,157.009061967106,1979.16059867689,670.821729125485,177.759885694348,3322.30815939598,386.67229908698897,1058.9059803191,2385.7577824395003,1137.68798601373,627.530889301999,340.245902720715,156.74652780081,9799.443037627729,5534.631412905,7600.61215354783,723.5465334547681,210.667715678796,344.141083749821,15753.5527652129,6677.48172439866,337.925447864313,2434.1271657964103,658.909540202949,807.836216648726,824.253856212108,565.762166135994,2705.45921651878,16582.5307790343,280.424300581804,597.222079459421,7776.0376244895,460.110133452948,247.22435682462003,6995.04602033271,857.825482742936,2142.15182343853,4693.07558925929,377.380442621997,1496.3822880479,1394.00731848215,552.705831236943,2350.8018165715,511.717098296119,13474.1613455755,16613.6284803968,1537.74892303746,747.494503771366,234.35627351918,639.241570939483,6299.169658257149,1158.37018847466,1367.17313143929,240.562763413074,30067.134163154704,8652.21654247593,18269.4221684235,1571.10358101485,951.32209075841,3309.08995946914,239.428695209592,320.986286469049,636.072784953311],\"xaxis\":\"x\",\"y\":[61.8489042715517,68.7542607406331,67.9382334351086,66.9170477942799,74.7576438600518,73.8772390354312,48.862146114766205,73.3647016332083,74.586491672634,66.0520573731679,65.17296111934529,50.2568803647291,61.388804141928205,57.899265426256505,61.8766241683741,62.434446799723,74.7344828278507,73.5319850576284,57.2226357010549,62.6962627905296,61.17656313044751,56.08085257613771,49.5160664127445,49.5182493074556,66.962767066025,64.258557291373,71.47121951219509,64.073756097561,40.7777804878049,69.92851219512201,70.6313902439024,75.62926829268291,73.81463414634149,69.6106097560976,71.4278780487805,55.590658536585394,69.9449512195122,74.520243902439,71.13136585365851,49.934682926829296,48.639073170731706,52.4708048780488,62.5096585365854,63.5625609756098,71.7599268292683,71.2280487804878,49.2512195121951,48.7855853658537,63.5271219512195,52.8447804878049,76.3034146341464,49.8682926829268,46.0525609756098,70.3693902439024,68.34129268292679,67.57429268292691,53.8191951219512,47.652756097561,56.48785365853661,74.4734390243902,52.5941219512195,74.5289268292683,75.68270731707321,74.4275609756098,55.4727317073171,65.2725365853659,66.1275365853659,61.789,59.193975609756095,46.4540243902439,44.6299024390244,64.3790975609756,74.22292682926829,75.3,67.4518780487805,59.0942682926829,50.031048780487794,54.1097073170732,75.0765609756098,63.8336585365854,67.490756097561,59.56807317073171,47.37,63.0411463414634,63.613756097560994,76.4341463414634,77.60243902439029,55.8609024390244,61.5383902439024,55.8714146341463,62.106609756097605,73.64090243902442,75.2073170731707,75.4707317073171,71.0614390243903,77.650487804878,68.3383902439025,59.5970243902439,58.07485365853661,68.53292682926829,71.2034634146342,51.0184878048781,47.3198292682927,73.5886829268293,73.9421707317073,49.7103170731707,45.0454146341463,69.500756097561,57.40814634146339,43.4808780487805,74.0805609756098,56.86312195121951,68.3706829268293,68.7926097560976,58.3813658536585,61.4207804878049,41.7720975609756,50.1062682926829,76.28463414634149,68.7658536585366,73.82926829268291,60.66782926829271,41.7193902439024,46.3452926829268,75.9168292682927,63.9401219512195,58.618073170731705,71.80765853658541,54.85226829268289,67.2946829268293,62.95482926829271,63.7985609756098,72.81463414634149,74.1194390243902,50.451853658536606,62.463,66.6368292682927,53.9041463414634,40.3248048780488,73.890243902439,57.24504878048779,59.9121707317073,76.259512195122,69.27595121951221,70.435512195122,68.9823414634146,54.7589756097561,67.0202926829268,57.37092682926829,76.6678048780488,76.73365853658541,68.2868292682927,67.9077804878049,54.6347317073171,68.75965853658539,67.5566829268293,65.8676829268293,61.714439024390295,47.6906097560976,70.07663414634149,74.62926829268291,74.5634146341464,71.5834634146342,61.0821951219512,69.1748536585366,68.85282926829271,48.7342926829268,61.8590975609756],\"yaxis\":\"y\",\"type\":\"scatter\"}],                        {\"template\":{\"data\":{\"histogram2dcontour\":[{\"type\":\"histogram2dcontour\",\"colorbar\":{\"outlinewidth\":0,\"ticks\":\"\"},\"colorscale\":[[0.0,\"#0d0887\"],[0.1111111111111111,\"#46039f\"],[0.2222222222222222,\"#7201a8\"],[0.3333333333333333,\"#9c179e\"],[0.4444444444444444,\"#bd3786\"],[0.5555555555555556,\"#d8576b\"],[0.6666666666666666,\"#ed7953\"],[0.7777777777777778,\"#fb9f3a\"],[0.8888888888888888,\"#fdca26\"],[1.0,\"#f0f921\"]]}],\"choropleth\":[{\"type\":\"choropleth\",\"colorbar\":{\"outlinewidth\":0,\"ticks\":\"\"}}],\"histogram2d\":[{\"type\":\"histogram2d\",\"colorbar\":{\"outlinewidth\":0,\"ticks\":\"\"},\"colorscale\":[[0.0,\"#0d0887\"],[0.1111111111111111,\"#46039f\"],[0.2222222222222222,\"#7201a8\"],[0.3333333333333333,\"#9c179e\"],[0.4444444444444444,\"#bd3786\"],[0.5555555555555556,\"#d8576b\"],[0.6666666666666666,\"#ed7953\"],[0.7777777777777778,\"#fb9f3a\"],[0.8888888888888888,\"#fdca26\"],[1.0,\"#f0f921\"]]}],\"heatmap\":[{\"type\":\"heatmap\",\"colorbar\":{\"outlinewidth\":0,\"ticks\":\"\"},\"colorscale\":[[0.0,\"#0d0887\"],[0.1111111111111111,\"#46039f\"],[0.2222222222222222,\"#7201a8\"],[0.3333333333333333,\"#9c179e\"],[0.4444444444444444,\"#bd3786\"],[0.5555555555555556,\"#d8576b\"],[0.6666666666666666,\"#ed7953\"],[0.7777777777777778,\"#fb9f3a\"],[0.8888888888888888,\"#fdca26\"],[1.0,\"#f0f921\"]]}],\"heatmapgl\":[{\"type\":\"heatmapgl\",\"colorbar\":{\"outlinewidth\":0,\"ticks\":\"\"},\"colorscale\":[[0.0,\"#0d0887\"],[0.1111111111111111,\"#46039f\"],[0.2222222222222222,\"#7201a8\"],[0.3333333333333333,\"#9c179e\"],[0.4444444444444444,\"#bd3786\"],[0.5555555555555556,\"#d8576b\"],[0.6666666666666666,\"#ed7953\"],[0.7777777777777778,\"#fb9f3a\"],[0.8888888888888888,\"#fdca26\"],[1.0,\"#f0f921\"]]}],\"contourcarpet\":[{\"type\":\"contourcarpet\",\"colorbar\":{\"outlinewidth\":0,\"ticks\":\"\"}}],\"contour\":[{\"type\":\"contour\",\"colorbar\":{\"outlinewidth\":0,\"ticks\":\"\"},\"colorscale\":[[0.0,\"#0d0887\"],[0.1111111111111111,\"#46039f\"],[0.2222222222222222,\"#7201a8\"],[0.3333333333333333,\"#9c179e\"],[0.4444444444444444,\"#bd3786\"],[0.5555555555555556,\"#d8576b\"],[0.6666666666666666,\"#ed7953\"],[0.7777777777777778,\"#fb9f3a\"],[0.8888888888888888,\"#fdca26\"],[1.0,\"#f0f921\"]]}],\"surface\":[{\"type\":\"surface\",\"colorbar\":{\"outlinewidth\":0,\"ticks\":\"\"},\"colorscale\":[[0.0,\"#0d0887\"],[0.1111111111111111,\"#46039f\"],[0.2222222222222222,\"#7201a8\"],[0.3333333333333333,\"#9c179e\"],[0.4444444444444444,\"#bd3786\"],[0.5555555555555556,\"#d8576b\"],[0.6666666666666666,\"#ed7953\"],[0.7777777777777778,\"#fb9f3a\"],[0.8888888888888888,\"#fdca26\"],[1.0,\"#f0f921\"]]}],\"mesh3d\":[{\"type\":\"mesh3d\",\"colorbar\":{\"outlinewidth\":0,\"ticks\":\"\"}}],\"scatter\":[{\"fillpattern\":{\"fillmode\":\"overlay\",\"size\":10,\"solidity\":0.2},\"type\":\"scatter\"}],\"parcoords\":[{\"type\":\"parcoords\",\"line\":{\"colorbar\":{\"outlinewidth\":0,\"ticks\":\"\"}}}],\"scatterpolargl\":[{\"type\":\"scatterpolargl\",\"marker\":{\"colorbar\":{\"outlinewidth\":0,\"ticks\":\"\"}}}],\"bar\":[{\"error_x\":{\"color\":\"#2a3f5f\"},\"error_y\":{\"color\":\"#2a3f5f\"},\"marker\":{\"line\":{\"color\":\"#E5ECF6\",\"width\":0.5},\"pattern\":{\"fillmode\":\"overlay\",\"size\":10,\"solidity\":0.2}},\"type\":\"bar\"}],\"scattergeo\":[{\"type\":\"scattergeo\",\"marker\":{\"colorbar\":{\"outlinewidth\":0,\"ticks\":\"\"}}}],\"scatterpolar\":[{\"type\":\"scatterpolar\",\"marker\":{\"colorbar\":{\"outlinewidth\":0,\"ticks\":\"\"}}}],\"histogram\":[{\"marker\":{\"pattern\":{\"fillmode\":\"overlay\",\"size\":10,\"solidity\":0.2}},\"type\":\"histogram\"}],\"scattergl\":[{\"type\":\"scattergl\",\"marker\":{\"colorbar\":{\"outlinewidth\":0,\"ticks\":\"\"}}}],\"scatter3d\":[{\"type\":\"scatter3d\",\"line\":{\"colorbar\":{\"outlinewidth\":0,\"ticks\":\"\"}},\"marker\":{\"colorbar\":{\"outlinewidth\":0,\"ticks\":\"\"}}}],\"scattermapbox\":[{\"type\":\"scattermapbox\",\"marker\":{\"colorbar\":{\"outlinewidth\":0,\"ticks\":\"\"}}}],\"scatterternary\":[{\"type\":\"scatterternary\",\"marker\":{\"colorbar\":{\"outlinewidth\":0,\"ticks\":\"\"}}}],\"scattercarpet\":[{\"type\":\"scattercarpet\",\"marker\":{\"colorbar\":{\"outlinewidth\":0,\"ticks\":\"\"}}}],\"carpet\":[{\"aaxis\":{\"endlinecolor\":\"#2a3f5f\",\"gridcolor\":\"white\",\"linecolor\":\"white\",\"minorgridcolor\":\"white\",\"startlinecolor\":\"#2a3f5f\"},\"baxis\":{\"endlinecolor\":\"#2a3f5f\",\"gridcolor\":\"white\",\"linecolor\":\"white\",\"minorgridcolor\":\"white\",\"startlinecolor\":\"#2a3f5f\"},\"type\":\"carpet\"}],\"table\":[{\"cells\":{\"fill\":{\"color\":\"#EBF0F8\"},\"line\":{\"color\":\"white\"}},\"header\":{\"fill\":{\"color\":\"#C8D4E3\"},\"line\":{\"color\":\"white\"}},\"type\":\"table\"}],\"barpolar\":[{\"marker\":{\"line\":{\"color\":\"#E5ECF6\",\"width\":0.5},\"pattern\":{\"fillmode\":\"overlay\",\"size\":10,\"solidity\":0.2}},\"type\":\"barpolar\"}],\"pie\":[{\"automargin\":true,\"type\":\"pie\"}]},\"layout\":{\"autotypenumbers\":\"strict\",\"colorway\":[\"#636efa\",\"#EF553B\",\"#00cc96\",\"#ab63fa\",\"#FFA15A\",\"#19d3f3\",\"#FF6692\",\"#B6E880\",\"#FF97FF\",\"#FECB52\"],\"font\":{\"color\":\"#2a3f5f\"},\"hovermode\":\"closest\",\"hoverlabel\":{\"align\":\"left\"},\"paper_bgcolor\":\"white\",\"plot_bgcolor\":\"#E5ECF6\",\"polar\":{\"bgcolor\":\"#E5ECF6\",\"angularaxis\":{\"gridcolor\":\"white\",\"linecolor\":\"white\",\"ticks\":\"\"},\"radialaxis\":{\"gridcolor\":\"white\",\"linecolor\":\"white\",\"ticks\":\"\"}},\"ternary\":{\"bgcolor\":\"#E5ECF6\",\"aaxis\":{\"gridcolor\":\"white\",\"linecolor\":\"white\",\"ticks\":\"\"},\"baxis\":{\"gridcolor\":\"white\",\"linecolor\":\"white\",\"ticks\":\"\"},\"caxis\":{\"gridcolor\":\"white\",\"linecolor\":\"white\",\"ticks\":\"\"}},\"coloraxis\":{\"colorbar\":{\"outlinewidth\":0,\"ticks\":\"\"}},\"colorscale\":{\"sequential\":[[0.0,\"#0d0887\"],[0.1111111111111111,\"#46039f\"],[0.2222222222222222,\"#7201a8\"],[0.3333333333333333,\"#9c179e\"],[0.4444444444444444,\"#bd3786\"],[0.5555555555555556,\"#d8576b\"],[0.6666666666666666,\"#ed7953\"],[0.7777777777777778,\"#fb9f3a\"],[0.8888888888888888,\"#fdca26\"],[1.0,\"#f0f921\"]],\"sequentialminus\":[[0.0,\"#0d0887\"],[0.1111111111111111,\"#46039f\"],[0.2222222222222222,\"#7201a8\"],[0.3333333333333333,\"#9c179e\"],[0.4444444444444444,\"#bd3786\"],[0.5555555555555556,\"#d8576b\"],[0.6666666666666666,\"#ed7953\"],[0.7777777777777778,\"#fb9f3a\"],[0.8888888888888888,\"#fdca26\"],[1.0,\"#f0f921\"]],\"diverging\":[[0,\"#8e0152\"],[0.1,\"#c51b7d\"],[0.2,\"#de77ae\"],[0.3,\"#f1b6da\"],[0.4,\"#fde0ef\"],[0.5,\"#f7f7f7\"],[0.6,\"#e6f5d0\"],[0.7,\"#b8e186\"],[0.8,\"#7fbc41\"],[0.9,\"#4d9221\"],[1,\"#276419\"]]},\"xaxis\":{\"gridcolor\":\"white\",\"linecolor\":\"white\",\"ticks\":\"\",\"title\":{\"standoff\":15},\"zerolinecolor\":\"white\",\"automargin\":true,\"zerolinewidth\":2},\"yaxis\":{\"gridcolor\":\"white\",\"linecolor\":\"white\",\"ticks\":\"\",\"title\":{\"standoff\":15},\"zerolinecolor\":\"white\",\"automargin\":true,\"zerolinewidth\":2},\"scene\":{\"xaxis\":{\"backgroundcolor\":\"#E5ECF6\",\"gridcolor\":\"white\",\"linecolor\":\"white\",\"showbackground\":true,\"ticks\":\"\",\"zerolinecolor\":\"white\",\"gridwidth\":2},\"yaxis\":{\"backgroundcolor\":\"#E5ECF6\",\"gridcolor\":\"white\",\"linecolor\":\"white\",\"showbackground\":true,\"ticks\":\"\",\"zerolinecolor\":\"white\",\"gridwidth\":2},\"zaxis\":{\"backgroundcolor\":\"#E5ECF6\",\"gridcolor\":\"white\",\"linecolor\":\"white\",\"showbackground\":true,\"ticks\":\"\",\"zerolinecolor\":\"white\",\"gridwidth\":2}},\"shapedefaults\":{\"line\":{\"color\":\"#2a3f5f\"}},\"annotationdefaults\":{\"arrowcolor\":\"#2a3f5f\",\"arrowhead\":0,\"arrowwidth\":1},\"geo\":{\"bgcolor\":\"white\",\"landcolor\":\"#E5ECF6\",\"subunitcolor\":\"white\",\"showland\":true,\"showlakes\":true,\"lakecolor\":\"white\"},\"title\":{\"x\":0.05},\"mapbox\":{\"style\":\"light\"}}},\"xaxis\":{\"anchor\":\"y\",\"domain\":[0.0,1.0],\"title\":{\"text\":\"PIB\"},\"type\":\"log\"},\"yaxis\":{\"anchor\":\"x\",\"domain\":[0.0,1.0],\"title\":{\"text\":\"LieExprency\"}},\"coloraxis\":{\"colorbar\":{\"title\":{\"text\":\"Co2\"}},\"colorscale\":[[0.0,\"#0d0887\"],[0.1111111111111111,\"#46039f\"],[0.2222222222222222,\"#7201a8\"],[0.3333333333333333,\"#9c179e\"],[0.4444444444444444,\"#bd3786\"],[0.5555555555555556,\"#d8576b\"],[0.6666666666666666,\"#ed7953\"],[0.7777777777777778,\"#fb9f3a\"],[0.8888888888888888,\"#fdca26\"],[1.0,\"#f0f921\"]]},\"legend\":{\"tracegroupgap\":0,\"itemsizing\":\"constant\"},\"margin\":{\"t\":60},\"height\":500},                        {\"responsive\": true}                    ).then(function(){\n",
       "                            \n",
       "var gd = document.getElementById('9c89bde0-9a7b-4ba4-b3d9-a321e9a16dd9');\n",
       "var x = new MutationObserver(function (mutations, observer) {{\n",
       "        var display = window.getComputedStyle(gd).display;\n",
       "        if (!display || display === 'none') {{\n",
       "            console.log([gd, 'removed!']);\n",
       "            Plotly.purge(gd);\n",
       "            observer.disconnect();\n",
       "        }}\n",
       "}});\n",
       "\n",
       "// Listen for the removal of the full notebook cells\n",
       "var notebookContainer = gd.closest('#notebook-container');\n",
       "if (notebookContainer) {{\n",
       "    x.observe(notebookContainer, {childList: true});\n",
       "}}\n",
       "\n",
       "// Listen for the clearing of the current output cell\n",
       "var outputEl = gd.closest('.output');\n",
       "if (outputEl) {{\n",
       "    x.observe(outputEl, {childList: true});\n",
       "}}\n",
       "\n",
       "                        })                };                });            </script>        </div>"
      ]
     },
     "metadata": {},
     "output_type": "display_data"
    }
   ],
   "source": [
    "px.scatter(rest,y=rest['LieExprency'],x=rest['PIB'],hover_name=rest['CountryName'],size=rest['Populat'],color=rest['Co2'],log_x=True,height=500,size_max=50)"
   ]
  },
  {
   "cell_type": "markdown",
   "metadata": {},
   "source": [
    "Utilisez les fonctionnalités de la bibliothèque ipywidgets pour permettre l'affichage de l'évolution au fil des ans d'un indicateur (choisi dans une liste déroulante) pour deux pays, chacun étant choisi dans une liste déroulante."
   ]
  },
  {
   "cell_type": "code",
   "execution_count": 13,
   "metadata": {},
   "outputs": [],
   "source": [
    "def afficha(indicator,pays1,pays2,logy):\n",
    "    data=df[(df['IndicatorName']==indicator) & ((df['CountryName']==pays1) | (df['CountryName']==pays2))]\n",
    "    axe={'Value':indicator}\n",
    "    titre=f\"L''évolution au fil des ans de {indicator} pour les pays {pays1} et {pays2}\"\n",
    "    return px.scatter(data,x=data['Year'],y=data['Value'],hover_name=data['CountryName'],color=data['CountryName'],log_y=logy,height=500,title=titre,labels=axe)"
   ]
  },
  {
   "cell_type": "code",
   "execution_count": 14,
   "metadata": {},
   "outputs": [
    {
     "data": {
      "application/vnd.jupyter.widget-view+json": {
       "model_id": "c7ed56317d66427d834297c3bd01f63a",
       "version_major": 2,
       "version_minor": 0
      },
      "text/plain": [
       "interactive(children=(Dropdown(description='indicator', options=('Adolescent fertility rate (births per 1,000 …"
      ]
     },
     "metadata": {},
     "output_type": "display_data"
    },
    {
     "data": {
      "text/plain": [
       "<function __main__.afficha(indicator, pays1, pays2, logy)>"
      ]
     },
     "execution_count": 14,
     "metadata": {},
     "output_type": "execute_result"
    }
   ],
   "source": [
    "indcat=df['IndicatorName'].unique()\n",
    "pays=df['CountryName'].unique()\n",
    "ipw.interact(afficha,indicator=indcat,pays1=pays,pays2=pays,logy=False)"
   ]
  },
  {
   "cell_type": "markdown",
   "metadata": {},
   "source": [
    "Utilisez un widget pour sélectionner la date pour laquelle vous souhaitez visualiser le nuage de points (espérance de vie vs. PIB avec population et taux d'alphabétisation)"
   ]
  },
  {
   "cell_type": "code",
   "execution_count": 10,
   "metadata": {},
   "outputs": [],
   "source": [
    "def visual(year):\n",
    "    data=df[df['Year']==year]\n",
    "    pib=data.loc[data['IndicatorName']=='GDP per capita (current US$)',['CountryName','Value']]\n",
    "    life=data.loc[data['IndicatorName']=='Life expectancy at birth, total (years)',['CountryName','Value']]\n",
    "    dt1=pd.merge(pib,life,how='inner',on='CountryName')\n",
    "    dt1.columns=['CountryName','PIB','LieExprency']\n",
    "    pop=data.loc[data['IndicatorName']=='Population, total',['CountryName','Value']]\n",
    "    pop.columns=['CountryName','Populat']\n",
    "    co2=data.loc[data['IndicatorName']==\"CO2 emissions (metric tons per capita)\",['CountryName','Value']]\n",
    "    co2.columns=['CountryName','Co2']\n",
    "    dt2=pd.merge(dt1,pop,how='inner',on='CountryName')\n",
    "    rest=pd.merge(dt2,co2,how='inner',on='CountryName')\n",
    "    return px.scatter(rest,y=rest['LieExprency'],x=rest['PIB'],hover_name=rest['CountryName'],size=rest['Populat'],color=rest['Co2'],log_x=True,height=500,size_max=50)"
   ]
  },
  {
   "cell_type": "code",
   "execution_count": 11,
   "metadata": {},
   "outputs": [
    {
     "data": {
      "application/vnd.jupyter.widget-view+json": {
       "model_id": "dea9bd9386464b969ca743895dbf4314",
       "version_major": 2,
       "version_minor": 0
      },
      "text/plain": [
       "interactive(children=(Dropdown(description='year', options=(1960, 1961, 1962, 1963, 1964, 1965, 1966, 1967, 19…"
      ]
     },
     "metadata": {},
     "output_type": "display_data"
    },
    {
     "data": {
      "text/plain": [
       "<function __main__.visual(year)>"
      ]
     },
     "execution_count": 11,
     "metadata": {},
     "output_type": "execute_result"
    }
   ],
   "source": [
    "y=df['Year'].unique()\n",
    "ipw.interact(visual,year=y)"
   ]
  }
 ],
 "metadata": {
  "kernelspec": {
   "display_name": "Python 3 (ipykernel)",
   "language": "python",
   "name": "python3"
  },
  "language_info": {
   "codemirror_mode": {
    "name": "ipython",
    "version": 3
   },
   "file_extension": ".py",
   "mimetype": "text/x-python",
   "name": "python",
   "nbconvert_exporter": "python",
   "pygments_lexer": "ipython3",
   "version": "3.9.13"
  }
 },
 "nbformat": 4,
 "nbformat_minor": 4
}
