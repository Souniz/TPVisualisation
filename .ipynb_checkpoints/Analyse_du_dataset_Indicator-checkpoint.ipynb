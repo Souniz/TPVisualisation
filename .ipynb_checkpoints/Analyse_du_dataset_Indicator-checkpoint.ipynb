{
 "cells": [
  {
   "cell_type": "code",
   "execution_count": 1,
   "id": "67cf5635-45a0-4abf-ba13-f56a608f9382",
   "metadata": {},
   "outputs": [],
   "source": [
    "import pandas as pd\n",
    "import numpy as np\n",
    "import matplotlib.pyplot as plt\n",
    "import seaborn as sns"
   ]
  },
  {
   "cell_type": "code",
   "execution_count": 2,
   "id": "1fd3c7f5-d425-4ac0-b51c-50cf424b05f5",
   "metadata": {},
   "outputs": [
    {
     "data": {
      "text/html": [
       "<div>\n",
       "<style scoped>\n",
       "    .dataframe tbody tr th:only-of-type {\n",
       "        vertical-align: middle;\n",
       "    }\n",
       "\n",
       "    .dataframe tbody tr th {\n",
       "        vertical-align: top;\n",
       "    }\n",
       "\n",
       "    .dataframe thead th {\n",
       "        text-align: right;\n",
       "    }\n",
       "</style>\n",
       "<table border=\"1\" class=\"dataframe\">\n",
       "  <thead>\n",
       "    <tr style=\"text-align: right;\">\n",
       "      <th></th>\n",
       "      <th>CountryName</th>\n",
       "      <th>CountryCode</th>\n",
       "      <th>IndicatorName</th>\n",
       "      <th>IndicatorCode</th>\n",
       "      <th>Year</th>\n",
       "      <th>Value</th>\n",
       "    </tr>\n",
       "  </thead>\n",
       "  <tbody>\n",
       "    <tr>\n",
       "      <th>0</th>\n",
       "      <td>Arab World</td>\n",
       "      <td>ARB</td>\n",
       "      <td>Adolescent fertility rate (births per 1,000 wo...</td>\n",
       "      <td>SP.ADO.TFRT</td>\n",
       "      <td>1960</td>\n",
       "      <td>1.335609e+02</td>\n",
       "    </tr>\n",
       "    <tr>\n",
       "      <th>1</th>\n",
       "      <td>Arab World</td>\n",
       "      <td>ARB</td>\n",
       "      <td>Age dependency ratio (% of working-age populat...</td>\n",
       "      <td>SP.POP.DPND</td>\n",
       "      <td>1960</td>\n",
       "      <td>8.779760e+01</td>\n",
       "    </tr>\n",
       "    <tr>\n",
       "      <th>2</th>\n",
       "      <td>Arab World</td>\n",
       "      <td>ARB</td>\n",
       "      <td>Age dependency ratio, old (% of working-age po...</td>\n",
       "      <td>SP.POP.DPND.OL</td>\n",
       "      <td>1960</td>\n",
       "      <td>6.634579e+00</td>\n",
       "    </tr>\n",
       "    <tr>\n",
       "      <th>3</th>\n",
       "      <td>Arab World</td>\n",
       "      <td>ARB</td>\n",
       "      <td>Age dependency ratio, young (% of working-age ...</td>\n",
       "      <td>SP.POP.DPND.YG</td>\n",
       "      <td>1960</td>\n",
       "      <td>8.102333e+01</td>\n",
       "    </tr>\n",
       "    <tr>\n",
       "      <th>4</th>\n",
       "      <td>Arab World</td>\n",
       "      <td>ARB</td>\n",
       "      <td>Arms exports (SIPRI trend indicator values)</td>\n",
       "      <td>MS.MIL.XPRT.KD</td>\n",
       "      <td>1960</td>\n",
       "      <td>3.000000e+06</td>\n",
       "    </tr>\n",
       "  </tbody>\n",
       "</table>\n",
       "</div>"
      ],
      "text/plain": [
       "  CountryName CountryCode                                      IndicatorName  \\\n",
       "0  Arab World         ARB  Adolescent fertility rate (births per 1,000 wo...   \n",
       "1  Arab World         ARB  Age dependency ratio (% of working-age populat...   \n",
       "2  Arab World         ARB  Age dependency ratio, old (% of working-age po...   \n",
       "3  Arab World         ARB  Age dependency ratio, young (% of working-age ...   \n",
       "4  Arab World         ARB        Arms exports (SIPRI trend indicator values)   \n",
       "\n",
       "    IndicatorCode  Year         Value  \n",
       "0     SP.ADO.TFRT  1960  1.335609e+02  \n",
       "1     SP.POP.DPND  1960  8.779760e+01  \n",
       "2  SP.POP.DPND.OL  1960  6.634579e+00  \n",
       "3  SP.POP.DPND.YG  1960  8.102333e+01  \n",
       "4  MS.MIL.XPRT.KD  1960  3.000000e+06  "
      ]
     },
     "execution_count": 2,
     "metadata": {},
     "output_type": "execute_result"
    }
   ],
   "source": [
    "df=pd.read_csv('Indicators/Indicators.csv')\n",
    "df.head()"
   ]
  },
  {
   "cell_type": "markdown",
   "id": "6cce856a-ca70-4e48-9818-97f616c485cd",
   "metadata": {},
   "source": [
    "# Déterminez le nombre d'enregistrements"
   ]
  },
  {
   "cell_type": "code",
   "execution_count": 3,
   "id": "6ed4e99f-2367-4d01-bb82-1620e1195b8a",
   "metadata": {},
   "outputs": [
    {
     "data": {
      "text/plain": [
       "(5656458, 6)"
      ]
     },
     "execution_count": 3,
     "metadata": {},
     "output_type": "execute_result"
    }
   ],
   "source": [
    "df.shape"
   ]
  },
  {
   "cell_type": "markdown",
   "id": "6bbecf62-61fd-4080-a4b4-00f703e2370b",
   "metadata": {},
   "source": [
    "# Déterminez le nombre de pays (zones géographiques)"
   ]
  },
  {
   "cell_type": "code",
   "execution_count": 4,
   "id": "9ee2aff6-2413-472f-9868-891acd70c3f9",
   "metadata": {},
   "outputs": [
    {
     "data": {
      "text/plain": [
       "247"
      ]
     },
     "execution_count": 4,
     "metadata": {},
     "output_type": "execute_result"
    }
   ],
   "source": [
    "len(df['CountryName'].unique())"
   ]
  },
  {
   "cell_type": "markdown",
   "id": "6269b320-96b6-4e77-b5b1-ad5ae2f5d620",
   "metadata": {},
   "source": [
    "# Déterminez la plage des années traitées par ce jeu de données"
   ]
  },
  {
   "cell_type": "code",
   "execution_count": 5,
   "id": "b385b01b-3f8f-42bb-a336-e722d8d72af5",
   "metadata": {},
   "outputs": [
    {
     "data": {
      "text/plain": [
       "(2015, 1960)"
      ]
     },
     "execution_count": 5,
     "metadata": {},
     "output_type": "execute_result"
    }
   ],
   "source": [
    "df['Year'].max() , df['Year'].min()"
   ]
  },
  {
   "cell_type": "code",
   "execution_count": 6,
   "id": "b1dd2ba6-985b-48de-bd1a-2fdc21878d92",
   "metadata": {},
   "outputs": [
    {
     "data": {
      "text/plain": [
       "Index(['CountryName', 'CountryCode', 'IndicatorName', 'IndicatorCode', 'Year',\n",
       "       'Value'],\n",
       "      dtype='object')"
      ]
     },
     "execution_count": 6,
     "metadata": {},
     "output_type": "execute_result"
    }
   ],
   "source": [
    "df.columns"
   ]
  },
  {
   "cell_type": "markdown",
   "id": "32b37140-35a9-40ec-9206-3c6ea3405869",
   "metadata": {},
   "source": [
    "# Donnez le type des données de la colonne 'Year'"
   ]
  },
  {
   "cell_type": "code",
   "execution_count": 7,
   "id": "e3a9e36b-369b-4819-a1c9-7fdf7f97a176",
   "metadata": {},
   "outputs": [
    {
     "data": {
      "text/plain": [
       "dtype('int64')"
      ]
     },
     "execution_count": 7,
     "metadata": {},
     "output_type": "execute_result"
    }
   ],
   "source": [
    "df['Year'].dtype"
   ]
  },
  {
   "cell_type": "markdown",
   "id": "1e353f97-5cf8-49d3-87ac-44dd42767a87",
   "metadata": {},
   "source": [
    "# Quelle données représente la troisième colonne ?"
   ]
  },
  {
   "cell_type": "code",
   "execution_count": 8,
   "id": "63af7225-b241-41c3-b8b7-68f8ab5a3ab5",
   "metadata": {},
   "outputs": [
    {
     "data": {
      "text/plain": [
       "'IndicatorName'"
      ]
     },
     "execution_count": 8,
     "metadata": {},
     "output_type": "execute_result"
    }
   ],
   "source": [
    "df.columns[2]"
   ]
  },
  {
   "cell_type": "markdown",
   "id": "e498a358-ff60-42d3-ae7a-f601f2731bc3",
   "metadata": {},
   "source": [
    "# Combien y a-t-il d'enregistrements pour lesquels la colonnes 'Year' a la valeur 1981 ?"
   ]
  },
  {
   "cell_type": "code",
   "execution_count": 9,
   "id": "d25ce34f-b6b2-4538-8967-2b09bb9cc5bd",
   "metadata": {},
   "outputs": [
    {
     "data": {
      "text/plain": [
       "84374"
      ]
     },
     "execution_count": 9,
     "metadata": {},
     "output_type": "execute_result"
    }
   ],
   "source": [
    "len(df[df['Year']==1981])"
   ]
  },
  {
   "cell_type": "markdown",
   "id": "438501f8-05e2-47a0-bbee-d4e8679f4c34",
   "metadata": {},
   "source": [
    "# Combien y a-t-il d'enregistrement traitant d'une année comprise entre 1976 et 1980 ?"
   ]
  },
  {
   "cell_type": "code",
   "execution_count": 19,
   "id": "242bc814-743e-4a5b-8fe6-fefe6b26ce99",
   "metadata": {},
   "outputs": [
    {
     "data": {
      "text/plain": [
       "227279"
      ]
     },
     "execution_count": 19,
     "metadata": {},
     "output_type": "execute_result"
    }
   ],
   "source": [
    "len(df[(df['Year']>1976) & (df['Year']<1980)])"
   ]
  },
  {
   "cell_type": "markdown",
   "id": "fc576d34-3654-4758-87d5-90c8f33bec38",
   "metadata": {},
   "source": [
    "# Quelle est l'année la plus récente dans ce jeu de données ?"
   ]
  },
  {
   "cell_type": "code",
   "execution_count": 10,
   "id": "7e8ab673-6b15-4e89-a72c-0addcf6bfddb",
   "metadata": {},
   "outputs": [
    {
     "data": {
      "text/plain": [
       "2015"
      ]
     },
     "execution_count": 10,
     "metadata": {},
     "output_type": "execute_result"
    }
   ],
   "source": [
    "df['Year'].max()"
   ]
  },
  {
   "cell_type": "markdown",
   "id": "5c167a70-5578-420c-b9cf-077346d0912c",
   "metadata": {},
   "source": [
    "# Combien y a-t-il de valeur différentes pour la colonnes 'IndicatorName' ?"
   ]
  },
  {
   "cell_type": "code",
   "execution_count": 11,
   "id": "d8d30251-ee0a-4a64-bcda-013892bff4c3",
   "metadata": {},
   "outputs": [
    {
     "data": {
      "text/plain": [
       "1344"
      ]
     },
     "execution_count": 11,
     "metadata": {},
     "output_type": "execute_result"
    }
   ],
   "source": [
    "len(df['IndicatorName'].unique())"
   ]
  },
  {
   "cell_type": "markdown",
   "id": "62671945-7446-4434-b08a-4a416235ad77",
   "metadata": {},
   "source": [
    "# Quels sont les 5 indicateurs les plus représentés "
   ]
  },
  {
   "cell_type": "code",
   "execution_count": 12,
   "id": "da9c24ea-4ad6-4d37-a151-e51030cd9a77",
   "metadata": {},
   "outputs": [
    {
     "data": {
      "text/plain": [
       "Population, total                           13484\n",
       "Population growth (annual %)                13442\n",
       "Rural population (% of total population)    13415\n",
       "Urban population (% of total)               13415\n",
       "Urban population                            13374\n",
       "Name: IndicatorName, dtype: int64"
      ]
     },
     "execution_count": 12,
     "metadata": {},
     "output_type": "execute_result"
    }
   ],
   "source": [
    "df['IndicatorName'].value_counts().head(5)"
   ]
  },
  {
   "cell_type": "markdown",
   "id": "6628b0e5-f5ef-488e-87ff-cab6cedf7b9e",
   "metadata": {},
   "source": [
    "# Combien de fois est représenté le 5ème indicateurs le plus représenté ?"
   ]
  },
  {
   "cell_type": "code",
   "execution_count": 13,
   "id": "b3d46b58-f07e-4065-87b1-3fc8693beaaa",
   "metadata": {},
   "outputs": [
    {
     "data": {
      "text/plain": [
       "13484"
      ]
     },
     "execution_count": 13,
     "metadata": {},
     "output_type": "execute_result"
    }
   ],
   "source": [
    "13484"
   ]
  },
  {
   "cell_type": "markdown",
   "id": "bc61363f-679e-4020-bc31-05494480f7ee",
   "metadata": {},
   "source": [
    "# Combien y a-t-il d'enregistrements concernant la France en 1976 "
   ]
  },
  {
   "cell_type": "code",
   "execution_count": 14,
   "id": "d9b95451-cfc1-474b-a1ed-2ffdaf43ea2e",
   "metadata": {},
   "outputs": [
    {
     "data": {
      "text/plain": [
       "362"
      ]
     },
     "execution_count": 14,
     "metadata": {},
     "output_type": "execute_result"
    }
   ],
   "source": [
    "len(df[(df['CountryName']=='France') & (df['Year']==1976)])"
   ]
  },
  {
   "cell_type": "markdown",
   "id": "ae4e5305-754c-48a0-8dfc-749d97666ee4",
   "metadata": {},
   "source": [
    "# Combien y a-t-il de valeurs différentes pour 'IndicatorName' concernant la France en 1976 ?"
   ]
  },
  {
   "cell_type": "code",
   "execution_count": 15,
   "id": "ba438615-fceb-415e-a27e-cbf375038f5c",
   "metadata": {},
   "outputs": [
    {
     "data": {
      "text/plain": [
       "362"
      ]
     },
     "execution_count": 15,
     "metadata": {},
     "output_type": "execute_result"
    }
   ],
   "source": [
    "len(df[(df['CountryName']=='France') & (df['Year']==1976)]['IndicatorName'].unique())"
   ]
  },
  {
   "cell_type": "markdown",
   "id": "7cd57ee2-c7c6-4113-b574-c8c5698791f1",
   "metadata": {},
   "source": [
    "# Combien de fois chacun d'eux est-il représenté ?"
   ]
  },
  {
   "cell_type": "code",
   "execution_count": 16,
   "id": "e12eafc6-1479-424f-a0a6-bd01ce37e0be",
   "metadata": {},
   "outputs": [
    {
     "data": {
      "text/plain": [
       "Adjusted net enrolment rate, primary, both sexes (%)             1\n",
       "Market capitalization of listed domestic companies (% of GDP)    1\n",
       "Manufacturing, value added (current LCU)                         1\n",
       "Manufacturing, value added (constant LCU)                        1\n",
       "Manufacturing, value added (constant 2005 US$)                   1\n",
       "                                                                ..\n",
       "Fixed telephone subscriptions                                    1\n",
       "Final consumption expenditure, etc. (current US$)                1\n",
       "Final consumption expenditure, etc. (current LCU)                1\n",
       "Final consumption expenditure, etc. (constant LCU)               1\n",
       "Urban population growth (annual %)                               1\n",
       "Name: IndicatorName, Length: 362, dtype: int64"
      ]
     },
     "execution_count": 16,
     "metadata": {},
     "output_type": "execute_result"
    }
   ],
   "source": [
    "# En se basant sur les deux questions precedentes on peut dire que c'est une seule fois\n",
    "df[(df['CountryName']=='France') & (df['Year']==1976)]['IndicatorName'].value_counts()"
   ]
  },
  {
   "cell_type": "markdown",
   "id": "5e8f72c0-332d-48f9-a943-e60110f73ae0",
   "metadata": {},
   "source": [
    "# Quelle est l'année la plus représentée dans le jeu de données ?\n",
    "# Combien de fois y apparait-elle ?"
   ]
  },
  {
   "cell_type": "code",
   "execution_count": 41,
   "id": "1e64d3ef-685c-48dc-bf0b-553d37f5512c",
   "metadata": {},
   "outputs": [
    {
     "data": {
      "text/plain": [
       "2010    187206\n",
       "Name: Year, dtype: int64"
      ]
     },
     "execution_count": 41,
     "metadata": {},
     "output_type": "execute_result"
    }
   ],
   "source": [
    "df['Year'].value_counts().head(1)"
   ]
  },
  {
   "cell_type": "markdown",
   "id": "9184feee-a0ed-4f3a-b710-e7617152da82",
   "metadata": {},
   "source": [
    "# Générez un dataframe extrait du dataframe initial restreint aux données relatives aux émissions de CO2 par habitant en France."
   ]
  },
  {
   "cell_type": "code",
   "execution_count": 17,
   "id": "a61db406-66c6-424e-bad4-da8a0389477d",
   "metadata": {},
   "outputs": [
    {
     "data": {
      "text/html": [
       "<div>\n",
       "<style scoped>\n",
       "    .dataframe tbody tr th:only-of-type {\n",
       "        vertical-align: middle;\n",
       "    }\n",
       "\n",
       "    .dataframe tbody tr th {\n",
       "        vertical-align: top;\n",
       "    }\n",
       "\n",
       "    .dataframe thead th {\n",
       "        text-align: right;\n",
       "    }\n",
       "</style>\n",
       "<table border=\"1\" class=\"dataframe\">\n",
       "  <thead>\n",
       "    <tr style=\"text-align: right;\">\n",
       "      <th></th>\n",
       "      <th>CountryName</th>\n",
       "      <th>CountryCode</th>\n",
       "      <th>IndicatorName</th>\n",
       "      <th>IndicatorCode</th>\n",
       "      <th>Year</th>\n",
       "      <th>Value</th>\n",
       "    </tr>\n",
       "  </thead>\n",
       "  <tbody>\n",
       "    <tr>\n",
       "      <th>9579</th>\n",
       "      <td>France</td>\n",
       "      <td>FRA</td>\n",
       "      <td>CO2 emissions (metric tons per capita)</td>\n",
       "      <td>EN.ATM.CO2E.PC</td>\n",
       "      <td>1960</td>\n",
       "      <td>5.793508</td>\n",
       "    </tr>\n",
       "    <tr>\n",
       "      <th>34236</th>\n",
       "      <td>France</td>\n",
       "      <td>FRA</td>\n",
       "      <td>CO2 emissions (metric tons per capita)</td>\n",
       "      <td>EN.ATM.CO2E.PC</td>\n",
       "      <td>1961</td>\n",
       "      <td>5.927130</td>\n",
       "    </tr>\n",
       "    <tr>\n",
       "      <th>61648</th>\n",
       "      <td>France</td>\n",
       "      <td>FRA</td>\n",
       "      <td>CO2 emissions (metric tons per capita)</td>\n",
       "      <td>EN.ATM.CO2E.PC</td>\n",
       "      <td>1962</td>\n",
       "      <td>6.207578</td>\n",
       "    </tr>\n",
       "    <tr>\n",
       "      <th>90090</th>\n",
       "      <td>France</td>\n",
       "      <td>FRA</td>\n",
       "      <td>CO2 emissions (metric tons per capita)</td>\n",
       "      <td>EN.ATM.CO2E.PC</td>\n",
       "      <td>1963</td>\n",
       "      <td>6.844150</td>\n",
       "    </tr>\n",
       "    <tr>\n",
       "      <th>118822</th>\n",
       "      <td>France</td>\n",
       "      <td>FRA</td>\n",
       "      <td>CO2 emissions (metric tons per capita)</td>\n",
       "      <td>EN.ATM.CO2E.PC</td>\n",
       "      <td>1964</td>\n",
       "      <td>6.982957</td>\n",
       "    </tr>\n",
       "  </tbody>\n",
       "</table>\n",
       "</div>"
      ],
      "text/plain": [
       "       CountryName CountryCode                           IndicatorName  \\\n",
       "9579        France         FRA  CO2 emissions (metric tons per capita)   \n",
       "34236       France         FRA  CO2 emissions (metric tons per capita)   \n",
       "61648       France         FRA  CO2 emissions (metric tons per capita)   \n",
       "90090       France         FRA  CO2 emissions (metric tons per capita)   \n",
       "118822      France         FRA  CO2 emissions (metric tons per capita)   \n",
       "\n",
       "         IndicatorCode  Year     Value  \n",
       "9579    EN.ATM.CO2E.PC  1960  5.793508  \n",
       "34236   EN.ATM.CO2E.PC  1961  5.927130  \n",
       "61648   EN.ATM.CO2E.PC  1962  6.207578  \n",
       "90090   EN.ATM.CO2E.PC  1963  6.844150  \n",
       "118822  EN.ATM.CO2E.PC  1964  6.982957  "
      ]
     },
     "execution_count": 17,
     "metadata": {},
     "output_type": "execute_result"
    }
   ],
   "source": [
    "data_france=df[(df['CountryName']=='France') & (df['IndicatorName']==\"CO2 emissions (metric tons per capita)\")].copy()\n",
    "data_france.head()"
   ]
  },
  {
   "cell_type": "markdown",
   "id": "98ce1047-91ae-48cf-a07a-81f8ab3fc5ee",
   "metadata": {},
   "source": [
    "# Combien ce dataframe contient-il d'enregistrements ?"
   ]
  },
  {
   "cell_type": "code",
   "execution_count": 30,
   "id": "a8bc77a6-2bbe-4d0e-a469-9e39653221e9",
   "metadata": {},
   "outputs": [
    {
     "data": {
      "text/plain": [
       "52"
      ]
     },
     "execution_count": 30,
     "metadata": {},
     "output_type": "execute_result"
    }
   ],
   "source": [
    "len(data_france)"
   ]
  },
  {
   "cell_type": "markdown",
   "id": "e292273e-96ed-4224-a1ad-03eec7e76f09",
   "metadata": {},
   "source": [
    "# Donnez les statistiques suivantes sur ces données (moyenne, écart-type, médiane, minimum, maximum)"
   ]
  },
  {
   "cell_type": "code",
   "execution_count": 31,
   "id": "a2af707e-6451-4b21-a05e-62185a1c2e5c",
   "metadata": {},
   "outputs": [
    {
     "data": {
      "text/plain": [
       "count    52.000000\n",
       "mean      7.010055\n",
       "std       1.247113\n",
       "min       5.185043\n",
       "25%       6.120347\n",
       "50%       6.618845\n",
       "75%       7.866798\n",
       "max       9.666681\n",
       "Name: Value, dtype: float64"
      ]
     },
     "execution_count": 31,
     "metadata": {},
     "output_type": "execute_result"
    }
   ],
   "source": [
    "data_france['Value'].describe()"
   ]
  },
  {
   "cell_type": "markdown",
   "id": "856ead17-f74d-4518-85bb-b676ddb72009",
   "metadata": {},
   "source": [
    "# En quelle année a-t-on pu observer la plus forte valeur d'émission de CO2 par habitant en France ?"
   ]
  },
  {
   "cell_type": "code",
   "execution_count": 32,
   "id": "e56567ff-5987-442a-90f8-33fc515158b9",
   "metadata": {},
   "outputs": [
    {
     "data": {
      "text/plain": [
       "526625    1973\n",
       "Name: Year, dtype: int64"
      ]
     },
     "execution_count": 32,
     "metadata": {},
     "output_type": "execute_result"
    }
   ],
   "source": [
    "data_france[data_france['Value']==data_france['Value'].max()]['Year']"
   ]
  },
  {
   "cell_type": "markdown",
   "id": "f8a38e04-a176-4e08-a4ed-35ee193043cb",
   "metadata": {},
   "source": [
    "# Générez un dataframe restreint aux données de la France, extrait du dataframe initial et ayant les caractéristiques suivantes :\n",
    "    Le dataframe contient trois colonnes nommées respectivement Année, CO2 et PIB\n",
    "    Ce dataframe possède un enregistrement par année\n",
    "    Pour chaque enregistrement les colonnes CO2 et PIB contiennent les valeurs respectivement associées aux indicateurs 'CO2 emission per capita' et 'GDP per capita' pour l'année correspondante"
   ]
  },
  {
   "cell_type": "code",
   "execution_count": 33,
   "id": "b66defa0-9bcd-484b-b2d5-4d7f7628437f",
   "metadata": {},
   "outputs": [],
   "source": [
    "co2=df[(df['IndicatorName']==\"CO2 emissions (metric tons per capita)\") & (df['CountryName']=='France')][['IndicatorName','Year','Value']]\n",
    "GDP=df[(df['IndicatorName']==\"GDP per capita (constant 2005 US$)\") & (df['CountryName']=='France')][['IndicatorName','Year','Value']]"
   ]
  },
  {
   "cell_type": "code",
   "execution_count": 35,
   "id": "a9a38608-6742-409a-b613-5a71feb5a4d7",
   "metadata": {},
   "outputs": [
    {
     "data": {
      "text/html": [
       "<div>\n",
       "<style scoped>\n",
       "    .dataframe tbody tr th:only-of-type {\n",
       "        vertical-align: middle;\n",
       "    }\n",
       "\n",
       "    .dataframe tbody tr th {\n",
       "        vertical-align: top;\n",
       "    }\n",
       "\n",
       "    .dataframe thead th {\n",
       "        text-align: right;\n",
       "    }\n",
       "</style>\n",
       "<table border=\"1\" class=\"dataframe\">\n",
       "  <thead>\n",
       "    <tr style=\"text-align: right;\">\n",
       "      <th></th>\n",
       "      <th>CO2</th>\n",
       "      <th>PIB</th>\n",
       "      <th>Year</th>\n",
       "    </tr>\n",
       "  </thead>\n",
       "  <tbody>\n",
       "    <tr>\n",
       "      <th>0</th>\n",
       "      <td>5.793508</td>\n",
       "      <td>11239.278788</td>\n",
       "      <td>1960</td>\n",
       "    </tr>\n",
       "    <tr>\n",
       "      <th>1</th>\n",
       "      <td>5.927130</td>\n",
       "      <td>11700.556047</td>\n",
       "      <td>1961</td>\n",
       "    </tr>\n",
       "    <tr>\n",
       "      <th>2</th>\n",
       "      <td>6.207578</td>\n",
       "      <td>12306.183054</td>\n",
       "      <td>1962</td>\n",
       "    </tr>\n",
       "    <tr>\n",
       "      <th>3</th>\n",
       "      <td>6.844150</td>\n",
       "      <td>12782.509960</td>\n",
       "      <td>1963</td>\n",
       "    </tr>\n",
       "    <tr>\n",
       "      <th>4</th>\n",
       "      <td>6.982957</td>\n",
       "      <td>13437.919672</td>\n",
       "      <td>1964</td>\n",
       "    </tr>\n",
       "  </tbody>\n",
       "</table>\n",
       "</div>"
      ],
      "text/plain": [
       "        CO2           PIB  Year\n",
       "0  5.793508  11239.278788  1960\n",
       "1  5.927130  11700.556047  1961\n",
       "2  6.207578  12306.183054  1962\n",
       "3  6.844150  12782.509960  1963\n",
       "4  6.982957  13437.919672  1964"
      ]
     },
     "execution_count": 35,
     "metadata": {},
     "output_type": "execute_result"
    }
   ],
   "source": [
    "Europ=pd.merge(co2,GDP,how='inner',on='Year')[['Value_x','Value_y','Year']]\n",
    "Europ.columns=['CO2','PIB','Year']\n",
    "Europ.head()"
   ]
  },
  {
   "cell_type": "markdown",
   "id": "f209db59-68ec-4898-b4b1-41afd2486043",
   "metadata": {},
   "source": [
    "# Faites un travail équivalent pour l'Europe et l'Afrique"
   ]
  },
  {
   "cell_type": "code",
   "execution_count": 23,
   "id": "478178e0-d907-48c6-9632-efc082bb22b7",
   "metadata": {},
   "outputs": [],
   "source": [
    "def getAfr(s):\n",
    "    if s.find('Africa')!=-1:\n",
    "        return True\n",
    "    return False"
   ]
  },
  {
   "cell_type": "code",
   "execution_count": 24,
   "id": "c15729c6-8774-46e4-b991-b258b8e25266",
   "metadata": {},
   "outputs": [],
   "source": [
    "co2_Afr=df[(df['IndicatorName']==\"CO2 emissions (metric tons per capita)\") & (df['CountryName'].apply(getAfr)==True)][['IndicatorName','Year','Value']]\n",
    "GDP_Afr=df[(df['IndicatorName']==\"GDP per capita (constant 2005 US$)\") & (df['CountryName'].apply(getAfr)==True)][['IndicatorName','Year','Value']]"
   ]
  },
  {
   "cell_type": "code",
   "execution_count": 25,
   "id": "b487cafb-1618-4b64-9b92-b8e48d8fbe6b",
   "metadata": {},
   "outputs": [
    {
     "data": {
      "text/html": [
       "<div>\n",
       "<style scoped>\n",
       "    .dataframe tbody tr th:only-of-type {\n",
       "        vertical-align: middle;\n",
       "    }\n",
       "\n",
       "    .dataframe tbody tr th {\n",
       "        vertical-align: top;\n",
       "    }\n",
       "\n",
       "    .dataframe thead th {\n",
       "        text-align: right;\n",
       "    }\n",
       "</style>\n",
       "<table border=\"1\" class=\"dataframe\">\n",
       "  <thead>\n",
       "    <tr style=\"text-align: right;\">\n",
       "      <th></th>\n",
       "      <th>CO2</th>\n",
       "      <th>PIB</th>\n",
       "      <th>Year</th>\n",
       "    </tr>\n",
       "  </thead>\n",
       "  <tbody>\n",
       "    <tr>\n",
       "      <th>0</th>\n",
       "      <td>0.969101</td>\n",
       "      <td>18290.645168</td>\n",
       "      <td>1960</td>\n",
       "    </tr>\n",
       "    <tr>\n",
       "      <th>1</th>\n",
       "      <td>0.969101</td>\n",
       "      <td>302.337296</td>\n",
       "      <td>1960</td>\n",
       "    </tr>\n",
       "    <tr>\n",
       "      <th>2</th>\n",
       "      <td>0.860373</td>\n",
       "      <td>18290.645168</td>\n",
       "      <td>1960</td>\n",
       "    </tr>\n",
       "    <tr>\n",
       "      <th>3</th>\n",
       "      <td>0.860373</td>\n",
       "      <td>302.337296</td>\n",
       "      <td>1960</td>\n",
       "    </tr>\n",
       "    <tr>\n",
       "      <th>4</th>\n",
       "      <td>0.545417</td>\n",
       "      <td>18290.645168</td>\n",
       "      <td>1960</td>\n",
       "    </tr>\n",
       "  </tbody>\n",
       "</table>\n",
       "</div>"
      ],
      "text/plain": [
       "        CO2           PIB  Year\n",
       "0  0.969101  18290.645168  1960\n",
       "1  0.969101    302.337296  1960\n",
       "2  0.860373  18290.645168  1960\n",
       "3  0.860373    302.337296  1960\n",
       "4  0.545417  18290.645168  1960"
      ]
     },
     "execution_count": 25,
     "metadata": {},
     "output_type": "execute_result"
    }
   ],
   "source": [
    "Afrique=pd.merge(co2_Afr,GDP_Afr,how='inner',on='Year')[['Value_x','Value_y','Year']]\n",
    "Afrique.columns=['CO2','PIB','Year']\n",
    "Afrique.head()"
   ]
  },
  {
   "cell_type": "markdown",
   "id": "347b59e3-76db-4c19-8a63-ee7e1b3bbad4",
   "metadata": {},
   "source": [
    "# Donnez le coefficient de corrélation entre CO2 et PIB pour chacun de ces deux dataframes."
   ]
  },
  {
   "cell_type": "markdown",
   "id": "debec849-ec8f-4410-90ec-9640fce1e6db",
   "metadata": {},
   "source": [
    "Pour Europe"
   ]
  },
  {
   "cell_type": "code",
   "execution_count": 36,
   "id": "f3cbe356-2b81-4a85-863b-51bcedd70bff",
   "metadata": {},
   "outputs": [
    {
     "data": {
      "text/html": [
       "<div>\n",
       "<style scoped>\n",
       "    .dataframe tbody tr th:only-of-type {\n",
       "        vertical-align: middle;\n",
       "    }\n",
       "\n",
       "    .dataframe tbody tr th {\n",
       "        vertical-align: top;\n",
       "    }\n",
       "\n",
       "    .dataframe thead th {\n",
       "        text-align: right;\n",
       "    }\n",
       "</style>\n",
       "<table border=\"1\" class=\"dataframe\">\n",
       "  <thead>\n",
       "    <tr style=\"text-align: right;\">\n",
       "      <th></th>\n",
       "      <th>CO2</th>\n",
       "      <th>PIB</th>\n",
       "      <th>Year</th>\n",
       "    </tr>\n",
       "  </thead>\n",
       "  <tbody>\n",
       "    <tr>\n",
       "      <th>CO2</th>\n",
       "      <td>1.000000</td>\n",
       "      <td>-0.505123</td>\n",
       "      <td>-0.569199</td>\n",
       "    </tr>\n",
       "    <tr>\n",
       "      <th>PIB</th>\n",
       "      <td>-0.505123</td>\n",
       "      <td>1.000000</td>\n",
       "      <td>0.994122</td>\n",
       "    </tr>\n",
       "    <tr>\n",
       "      <th>Year</th>\n",
       "      <td>-0.569199</td>\n",
       "      <td>0.994122</td>\n",
       "      <td>1.000000</td>\n",
       "    </tr>\n",
       "  </tbody>\n",
       "</table>\n",
       "</div>"
      ],
      "text/plain": [
       "           CO2       PIB      Year\n",
       "CO2   1.000000 -0.505123 -0.569199\n",
       "PIB  -0.505123  1.000000  0.994122\n",
       "Year -0.569199  0.994122  1.000000"
      ]
     },
     "execution_count": 36,
     "metadata": {},
     "output_type": "execute_result"
    }
   ],
   "source": [
    "Europ.corr()"
   ]
  },
  {
   "cell_type": "markdown",
   "id": "2429a538-d2cc-4623-b551-39055f5048e5",
   "metadata": {},
   "source": [
    "Pour Afrique"
   ]
  },
  {
   "cell_type": "code",
   "execution_count": 27,
   "id": "bfff783a-f06a-4930-9b31-319464cd2c0b",
   "metadata": {},
   "outputs": [
    {
     "data": {
      "text/html": [
       "<div>\n",
       "<style scoped>\n",
       "    .dataframe tbody tr th:only-of-type {\n",
       "        vertical-align: middle;\n",
       "    }\n",
       "\n",
       "    .dataframe tbody tr th {\n",
       "        vertical-align: top;\n",
       "    }\n",
       "\n",
       "    .dataframe thead th {\n",
       "        text-align: right;\n",
       "    }\n",
       "</style>\n",
       "<table border=\"1\" class=\"dataframe\">\n",
       "  <thead>\n",
       "    <tr style=\"text-align: right;\">\n",
       "      <th></th>\n",
       "      <th>CO2</th>\n",
       "      <th>PIB</th>\n",
       "    </tr>\n",
       "  </thead>\n",
       "  <tbody>\n",
       "    <tr>\n",
       "      <th>CO2</th>\n",
       "      <td>1.000000</td>\n",
       "      <td>0.104599</td>\n",
       "    </tr>\n",
       "    <tr>\n",
       "      <th>PIB</th>\n",
       "      <td>0.104599</td>\n",
       "      <td>1.000000</td>\n",
       "    </tr>\n",
       "  </tbody>\n",
       "</table>\n",
       "</div>"
      ],
      "text/plain": [
       "          CO2       PIB\n",
       "CO2  1.000000  0.104599\n",
       "PIB  0.104599  1.000000"
      ]
     },
     "execution_count": 27,
     "metadata": {},
     "output_type": "execute_result"
    }
   ],
   "source": [
    "Afrique[['CO2','PIB']].corr()"
   ]
  },
  {
   "cell_type": "code",
   "execution_count": 2,
   "id": "9de93708-729f-4481-a4df-fce673478303",
   "metadata": {},
   "outputs": [
    {
     "name": "stdout",
     "output_type": "stream",
     "text": [
      "^C\n",
      "\n",
      "Note: you may need to restart the kernel to use updated packages.\n"
     ]
    }
   ],
   "source": [
    "conda install -c anaconda git"
   ]
  },
  {
   "cell_type": "markdown",
   "id": "2b397eed-d8c2-4fd4-802b-f1bebe015b2a",
   "metadata": {},
   "source": [
    "# Pour chacune de ces deux zones, donnez la moyenne calculée sur l'ensemble des années disponibles du rapport CO2/PIB"
   ]
  },
  {
   "cell_type": "markdown",
   "id": "c380777a-7f49-44f7-9d64-f53e9a0cfc50",
   "metadata": {},
   "source": [
    "Pour Europe"
   ]
  },
  {
   "cell_type": "code",
   "execution_count": 28,
   "id": "ead24eb1-8dd0-4010-a0f8-3af4549aa4f7",
   "metadata": {},
   "outputs": [
    {
     "data": {
      "text/html": [
       "<div>\n",
       "<style scoped>\n",
       "    .dataframe tbody tr th:only-of-type {\n",
       "        vertical-align: middle;\n",
       "    }\n",
       "\n",
       "    .dataframe tbody tr th {\n",
       "        vertical-align: top;\n",
       "    }\n",
       "\n",
       "    .dataframe thead th {\n",
       "        text-align: right;\n",
       "    }\n",
       "</style>\n",
       "<table border=\"1\" class=\"dataframe\">\n",
       "  <thead>\n",
       "    <tr style=\"text-align: right;\">\n",
       "      <th></th>\n",
       "      <th>CO2</th>\n",
       "      <th>PIB</th>\n",
       "      <th>Year</th>\n",
       "      <th>Moyenne</th>\n",
       "    </tr>\n",
       "  </thead>\n",
       "  <tbody>\n",
       "    <tr>\n",
       "      <th>0</th>\n",
       "      <td>5.793508</td>\n",
       "      <td>1007.271069</td>\n",
       "      <td>1960</td>\n",
       "      <td>0.005752</td>\n",
       "    </tr>\n",
       "    <tr>\n",
       "      <th>1</th>\n",
       "      <td>5.927130</td>\n",
       "      <td>1084.233077</td>\n",
       "      <td>1961</td>\n",
       "      <td>0.005467</td>\n",
       "    </tr>\n",
       "    <tr>\n",
       "      <th>2</th>\n",
       "      <td>6.207578</td>\n",
       "      <td>1193.640478</td>\n",
       "      <td>1962</td>\n",
       "      <td>0.005201</td>\n",
       "    </tr>\n",
       "    <tr>\n",
       "      <th>3</th>\n",
       "      <td>6.844150</td>\n",
       "      <td>1319.368488</td>\n",
       "      <td>1963</td>\n",
       "      <td>0.005187</td>\n",
       "    </tr>\n",
       "    <tr>\n",
       "      <th>4</th>\n",
       "      <td>6.982957</td>\n",
       "      <td>1444.535909</td>\n",
       "      <td>1964</td>\n",
       "      <td>0.004834</td>\n",
       "    </tr>\n",
       "  </tbody>\n",
       "</table>\n",
       "</div>"
      ],
      "text/plain": [
       "        CO2          PIB  Year   Moyenne\n",
       "0  5.793508  1007.271069  1960  0.005752\n",
       "1  5.927130  1084.233077  1961  0.005467\n",
       "2  6.207578  1193.640478  1962  0.005201\n",
       "3  6.844150  1319.368488  1963  0.005187\n",
       "4  6.982957  1444.535909  1964  0.004834"
      ]
     },
     "execution_count": 28,
     "metadata": {},
     "output_type": "execute_result"
    }
   ],
   "source": [
    "Europ['Moyenne']=Europ['CO2']/Europ['PIB']\n",
    "Europ.head()"
   ]
  },
  {
   "cell_type": "markdown",
   "id": "d64c559c-eeda-484c-9b2c-d8908f0a598e",
   "metadata": {},
   "source": [
    "Pour Afrique"
   ]
  },
  {
   "cell_type": "code",
   "execution_count": 29,
   "id": "9b0ea831-4ed6-4d61-945e-ed2b59608c42",
   "metadata": {},
   "outputs": [
    {
     "data": {
      "text/html": [
       "<div>\n",
       "<style scoped>\n",
       "    .dataframe tbody tr th:only-of-type {\n",
       "        vertical-align: middle;\n",
       "    }\n",
       "\n",
       "    .dataframe tbody tr th {\n",
       "        vertical-align: top;\n",
       "    }\n",
       "\n",
       "    .dataframe thead th {\n",
       "        text-align: right;\n",
       "    }\n",
       "</style>\n",
       "<table border=\"1\" class=\"dataframe\">\n",
       "  <thead>\n",
       "    <tr style=\"text-align: right;\">\n",
       "      <th></th>\n",
       "      <th>CO2</th>\n",
       "      <th>PIB</th>\n",
       "      <th>Year</th>\n",
       "      <th>Moyenne</th>\n",
       "    </tr>\n",
       "  </thead>\n",
       "  <tbody>\n",
       "    <tr>\n",
       "      <th>0</th>\n",
       "      <td>0.969101</td>\n",
       "      <td>18290.645168</td>\n",
       "      <td>1960</td>\n",
       "      <td>0.000962</td>\n",
       "    </tr>\n",
       "    <tr>\n",
       "      <th>1</th>\n",
       "      <td>0.969101</td>\n",
       "      <td>302.337296</td>\n",
       "      <td>1960</td>\n",
       "      <td>0.000894</td>\n",
       "    </tr>\n",
       "    <tr>\n",
       "      <th>2</th>\n",
       "      <td>0.860373</td>\n",
       "      <td>18290.645168</td>\n",
       "      <td>1960</td>\n",
       "      <td>0.000721</td>\n",
       "    </tr>\n",
       "    <tr>\n",
       "      <th>3</th>\n",
       "      <td>0.860373</td>\n",
       "      <td>302.337296</td>\n",
       "      <td>1960</td>\n",
       "      <td>0.000652</td>\n",
       "    </tr>\n",
       "    <tr>\n",
       "      <th>4</th>\n",
       "      <td>0.545417</td>\n",
       "      <td>18290.645168</td>\n",
       "      <td>1960</td>\n",
       "      <td>0.000378</td>\n",
       "    </tr>\n",
       "  </tbody>\n",
       "</table>\n",
       "</div>"
      ],
      "text/plain": [
       "        CO2           PIB  Year   Moyenne\n",
       "0  0.969101  18290.645168  1960  0.000962\n",
       "1  0.969101    302.337296  1960  0.000894\n",
       "2  0.860373  18290.645168  1960  0.000721\n",
       "3  0.860373    302.337296  1960  0.000652\n",
       "4  0.545417  18290.645168  1960  0.000378"
      ]
     },
     "execution_count": 29,
     "metadata": {},
     "output_type": "execute_result"
    }
   ],
   "source": [
    "Afrique['Moyenne']=Afrique['CO2']/Europ['PIB']\n",
    "Afrique.head()"
   ]
  }
 ],
 "metadata": {
  "kernelspec": {
   "display_name": "Python 3 (ipykernel)",
   "language": "python",
   "name": "python3"
  },
  "language_info": {
   "codemirror_mode": {
    "name": "ipython",
    "version": 3
   },
   "file_extension": ".py",
   "mimetype": "text/x-python",
   "name": "python",
   "nbconvert_exporter": "python",
   "pygments_lexer": "ipython3",
   "version": "3.9.13"
  }
 },
 "nbformat": 4,
 "nbformat_minor": 5
}
