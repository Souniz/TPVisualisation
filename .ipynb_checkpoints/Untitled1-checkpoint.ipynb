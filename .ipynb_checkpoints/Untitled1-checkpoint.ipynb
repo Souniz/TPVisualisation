{
 "cells": [
  {
   "cell_type": "code",
   "execution_count": 15,
   "id": "73292a0b-4491-42ad-ba35-d85661f2e1de",
   "metadata": {},
   "outputs": [],
   "source": [
    "def affiche_carre_et_cube(i):\n",
    "    return i**2,i**3"
   ]
  },
  {
   "cell_type": "code",
   "execution_count": 24,
   "id": "e0ffa22b-837f-4a93-bbd6-1b9304a935e9",
   "metadata": {},
   "outputs": [
    {
     "name": "stdout",
     "output_type": "stream",
     "text": [
      "(9, 27)\n"
     ]
    }
   ],
   "source": [
    "b=affiche_carre_et_cube(3)\n",
    "print(b)"
   ]
  },
  {
   "cell_type": "code",
   "execution_count": 37,
   "id": "30ab75b8-38ad-45c5-bc19-045535e82954",
   "metadata": {},
   "outputs": [],
   "source": [
    "def f(*t):\n",
    "    for i in t:\n",
    "        print(i)"
   ]
  },
  {
   "cell_type": "code",
   "execution_count": 38,
   "id": "3c8f4e41-0d59-495e-aba9-abfb00366455",
   "metadata": {},
   "outputs": [
    {
     "name": "stdout",
     "output_type": "stream",
     "text": [
      "<class 'tuple'>\n",
      "4\n",
      "5\n",
      "6\n"
     ]
    }
   ],
   "source": [
    "f(4,5,6)"
   ]
  }
 ],
 "metadata": {
  "kernelspec": {
   "display_name": "Python 3 (ipykernel)",
   "language": "python",
   "name": "python3"
  },
  "language_info": {
   "codemirror_mode": {
    "name": "ipython",
    "version": 3
   },
   "file_extension": ".py",
   "mimetype": "text/x-python",
   "name": "python",
   "nbconvert_exporter": "python",
   "pygments_lexer": "ipython3",
   "version": "3.9.13"
  }
 },
 "nbformat": 4,
 "nbformat_minor": 5
}
