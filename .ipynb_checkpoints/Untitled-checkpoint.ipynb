{
 "cells": [
  {
   "cell_type": "markdown",
   "id": "a8993b09-d113-4d94-8c88-8a0afccc7925",
   "metadata": {},
   "source": [
    "# Liste"
   ]
  },
  {
   "cell_type": "code",
   "execution_count": 18,
   "id": "598848f5-01a0-4f05-9b79-f2d2eb6f89c7",
   "metadata": {},
   "outputs": [
    {
     "data": {
      "text/plain": [
       "[[1, 23], 0]"
      ]
     },
     "execution_count": 18,
     "metadata": {},
     "output_type": "execute_result"
    }
   ],
   "source": [
    "l=[[1,23],[0,0,0]]\n",
    "l1=l.copy()\n",
    "l1[1]=0\n",
    "l1"
   ]
  },
  {
   "cell_type": "code",
   "execution_count": 27,
   "id": "774f4452-22ae-44c3-9768-9c39494ccf90",
   "metadata": {},
   "outputs": [
    {
     "data": {
      "text/plain": [
       "(1, 2)"
      ]
     },
     "execution_count": 27,
     "metadata": {},
     "output_type": "execute_result"
    }
   ],
   "source": [
    "l=1,2,3,4\n",
    "l[0:2]"
   ]
  },
  {
   "cell_type": "code",
   "execution_count": 39,
   "id": "e19e382b-5970-42ae-b22b-fc74f9b278b5",
   "metadata": {},
   "outputs": [],
   "source": [
    "t=(1,2,[2,3,4])\n",
    "t[2].append(4)"
   ]
  },
  {
   "cell_type": "code",
   "execution_count": 40,
   "id": "24915b0f-256a-41b3-9c6b-d996140e5263",
   "metadata": {},
   "outputs": [
    {
     "data": {
      "text/plain": [
       "'Souna'"
      ]
     },
     "execution_count": 40,
     "metadata": {},
     "output_type": "execute_result"
    }
   ],
   "source": [
    "s='souna'\n",
    "s.capitalize()"
   ]
  },
  {
   "cell_type": "markdown",
   "id": "f78cdda2-db10-42bf-9754-34ce44e7cd15",
   "metadata": {},
   "source": [
    "## split de String:\n",
    "sans argument elle fait le decoupage sur tout les caratere non visible(espace,tabulation,...)"
   ]
  },
  {
   "cell_type": "code",
   "execution_count": 47,
   "id": "1ad4590e-227f-44eb-8f5b-89ca148026fe",
   "metadata": {},
   "outputs": [],
   "source": [
    "def triple(n):\n",
    "    \"\"\"\n",
    "      C'est pour la documentation\n",
    "    \"\"\"\n",
    "    return 3*n"
   ]
  },
  {
   "cell_type": "code",
   "execution_count": 43,
   "id": "a28e5984-27a8-4c68-8b98-a3830f1b2180",
   "metadata": {},
   "outputs": [
    {
     "name": "stdout",
     "output_type": "stream",
     "text": [
      "Help on function triple in module __main__:\n",
      "\n",
      "triple(n)\n",
      "    C'est pour la documentation\n",
      "\n"
     ]
    }
   ],
   "source": [
    "help(triple)"
   ]
  },
  {
   "cell_type": "code",
   "execution_count": 44,
   "id": "e01d3bb8-b75c-4310-83d7-5e888d197a94",
   "metadata": {},
   "outputs": [
    {
     "data": {
      "text/plain": [
       "'666'"
      ]
     },
     "execution_count": 44,
     "metadata": {},
     "output_type": "execute_result"
    }
   ],
   "source": [
    "triple('6')"
   ]
  },
  {
   "cell_type": "code",
   "execution_count": 46,
   "id": "0fea10e0-4bab-4da6-ac4c-ed1770698f14",
   "metadata": {},
   "outputs": [],
   "source": [
    "def triple2(n):\n",
    "    \"\"\"\n",
    "      C'est pour la documentation\n",
    "    \"\"\"\n",
    "    return (3*n,4*n)"
   ]
  },
  {
   "cell_type": "code",
   "execution_count": 49,
   "id": "10705db8-fb67-4b55-b014-4d951f52ceea",
   "metadata": {},
   "outputs": [],
   "source": [
    "a,b=triple2(3)"
   ]
  },
  {
   "cell_type": "code",
   "execution_count": 50,
   "id": "60f79197-0a3b-4b4b-8870-bff375074b13",
   "metadata": {},
   "outputs": [
    {
     "data": {
      "text/plain": [
       "9"
      ]
     },
     "execution_count": 50,
     "metadata": {},
     "output_type": "execute_result"
    }
   ],
   "source": [
    "a"
   ]
  },
  {
   "cell_type": "code",
   "execution_count": 51,
   "id": "e9210570-2cf3-406d-854e-b7d7277cc7c1",
   "metadata": {},
   "outputs": [
    {
     "data": {
      "text/plain": [
       "12"
      ]
     },
     "execution_count": 51,
     "metadata": {},
     "output_type": "execute_result"
    }
   ],
   "source": [
    "b"
   ]
  },
  {
   "cell_type": "code",
   "execution_count": 2,
   "id": "68f06bab-2d7f-440b-8090-85d7f1598391",
   "metadata": {},
   "outputs": [
    {
     "name": "stdout",
     "output_type": "stream",
     "text": [
      "<class 'range'>\n"
     ]
    }
   ],
   "source": [
    "print(type(range(5)))"
   ]
  },
  {
   "cell_type": "code",
   "execution_count": 5,
   "id": "7c5bfb79-5eec-4956-b0e3-bb1f0cb5c6e0",
   "metadata": {},
   "outputs": [
    {
     "name": "stdout",
     "output_type": "stream",
     "text": [
      "<class 'range_iterator'>\n"
     ]
    }
   ],
   "source": [
    "li=range(5)\n",
    "l=li.__iter__()\n",
    "l.__"
   ]
  },
  {
   "cell_type": "code",
   "execution_count": 6,
   "id": "66891148-7a9f-4d1c-85e5-3eb7a17d30a3",
   "metadata": {},
   "outputs": [
    {
     "name": "stdout",
     "output_type": "stream",
     "text": [
      "<class 'generator'>\n"
     ]
    }
   ],
   "source": [
    "it=(i**2 for i in range(0,5)) #Plus performant que de creer une liste et ensuite un iterateur\n",
    "#Parce que ici au lien de creer une liste qui va occuoer de memoire on creer un objet(generateur)"
   ]
  },
  {
   "cell_type": "code",
   "execution_count": null,
   "id": "c6946e97-d77f-4dcd-b92e-889bc1fd61af",
   "metadata": {},
   "outputs": [],
   "source": []
  }
 ],
 "metadata": {
  "kernelspec": {
   "display_name": "Python 3 (ipykernel)",
   "language": "python",
   "name": "python3"
  },
  "language_info": {
   "codemirror_mode": {
    "name": "ipython",
    "version": 3
   },
   "file_extension": ".py",
   "mimetype": "text/x-python",
   "name": "python",
   "nbconvert_exporter": "python",
   "pygments_lexer": "ipython3",
   "version": "3.9.13"
  }
 },
 "nbformat": 4,
 "nbformat_minor": 5
}
