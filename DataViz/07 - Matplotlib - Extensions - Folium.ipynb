{
 "cells": [
  {
   "cell_type": "markdown",
   "metadata": {},
   "source": [
    "# Utilisation de Folium pour l'affichage de données géographiques"
   ]
  },
  {
   "cell_type": "code",
   "execution_count": null,
   "metadata": {
    "scrolled": false
   },
   "outputs": [],
   "source": [
    "import folium\n",
    "import pandas as pd\n",
    "\n",
    "my_map = folium.Map([49.38,1.07],zoom_start=14)\n",
    "my_map"
   ]
  },
  {
   "cell_type": "code",
   "execution_count": null,
   "metadata": {},
   "outputs": [],
   "source": [
    "my_map = folium.Map([49.38,1.07],zoom_start=14)\n",
    "my_map"
   ]
  },
  {
   "cell_type": "code",
   "execution_count": null,
   "metadata": {
    "scrolled": false
   },
   "outputs": [],
   "source": [
    "# Initialisation de la carte\n",
    "my_map = folium.Map([49.39,1.07],zoom_start=14,tiles='Stamen Terrain')\n",
    "\n",
    "# Placement de marqueurs de différents styles\n",
    "folium.Marker([49.387,1.068],popup='UFR Sciences et Techniques').add_to(my_map)\n",
    "folium.Marker([49.39,1.068],popup='A côté',icon=folium.Icon(icon='cloud',color='red')).add_to(my_map)\n",
    "folium.CircleMarker([49.39, 1.08],radius=30,popup='Zone',color='#3186cc',fill_color='#3186cc').add_to(my_map)\n",
    "\n",
    "# Popup Latitude / Longitude sur click\n",
    "my_map.add_child(folium.LatLngPopup())\n",
    "\n",
    "# Ajout de marqueur\n",
    "my_map.add_child(folium.ClickForMarker(popup=\"Nouveau point\"))\n",
    "\n",
    "# Ajout de couches de découpage\n",
    "#folium.GeoJson('regions.geojson',name='Régions').add_to(my_map)\n",
    "folium.GeoJson('departements.geojson',name='Départements').add_to(my_map)\n",
    "#folium.GeoJson('metropole.geojson',name='Métropole').add_to(my_map)\n",
    "#folium.GeoJson('cantons-76-seine-maritime.geojson',name='Cantons 76').add_to(my_map)\n",
    "folium.GeoJson('communes-76-seine-maritime.geojson',name='Communes 76').add_to(my_map)\n",
    "\n",
    "# Ajout du sélecteur de couche\n",
    "folium.LayerControl().add_to(my_map)\n",
    "\n",
    "my_map"
   ]
  },
  {
   "cell_type": "code",
   "execution_count": null,
   "metadata": {},
   "outputs": [],
   "source": [
    "\n",
    "# Popup Latitude / Longitude sur click\n",
    "my_map.add_child(folium.LatLngPopup())\n",
    "\n",
    "# Ajout de marqueur\n",
    "my_map.add_child(folium.ClickForMarker(popup=\"Nouveau point\"))\n",
    "\n"
   ]
  },
  {
   "cell_type": "code",
   "execution_count": null,
   "metadata": {},
   "outputs": [],
   "source": [
    "# Ajout de couches de découpage\n",
    "#folium.GeoJson('regions.geojson',name='Régions').add_to(my_map)\n",
    "folium.GeoJson('departements.geojson',name='Départements').add_to(my_map)\n",
    "#folium.GeoJson('metropole.geojson',name='Métropole').add_to(my_map)\n",
    "#folium.GeoJson('cantons-76-seine-maritime.geojson',name='Cantons 76').add_to(my_map)\n",
    "folium.GeoJson('communes-76-seine-maritime.geojson',name='Communes 76').add_to(my_map)\n",
    "\n",
    "# Ajout du sélecteur de couche\n",
    "folium.LayerControl().add_to(my_map)\n",
    "my_map"
   ]
  },
  {
   "cell_type": "markdown",
   "metadata": {},
   "source": [
    "## Choropleth\n",
    "\n",
    "### Chargement des données"
   ]
  },
  {
   "cell_type": "code",
   "execution_count": null,
   "metadata": {},
   "outputs": [],
   "source": [
    "data = pd.read_csv('Indicators.csv')\n",
    "data.shape"
   ]
  },
  {
   "cell_type": "code",
   "execution_count": null,
   "metadata": {},
   "outputs": [],
   "source": [
    "data.head()"
   ]
  },
  {
   "cell_type": "markdown",
   "metadata": {},
   "source": [
    "### Extraction des émissions de CO2 par pays en 2011"
   ]
  },
  {
   "cell_type": "code",
   "execution_count": null,
   "metadata": {},
   "outputs": [],
   "source": [
    "indicator = 'CO2 emissions \\(metric'\n",
    "year = 2011\n",
    "\n",
    "mask1 = data['IndicatorName'].str.contains(indicator) \n",
    "mask2 = data['Year'].isin([year])\n",
    "\n",
    "selection = data[mask1 & mask2]\n",
    "selection.head()"
   ]
  },
  {
   "cell_type": "markdown",
   "metadata": {},
   "source": [
    "### Génération d'un dataframe associant valeur au code pays"
   ]
  },
  {
   "cell_type": "code",
   "execution_count": null,
   "metadata": {},
   "outputs": [],
   "source": [
    "plot_data = selection[['CountryCode','Value']]\n",
    "plot_data.head()"
   ]
  },
  {
   "cell_type": "markdown",
   "metadata": {},
   "source": [
    "### Délimitation des pays\n",
    "\n",
    "source: https://github.com/python-visualization/folium/blob/master/examples/data/world-countries.json"
   ]
  },
  {
   "cell_type": "code",
   "execution_count": null,
   "metadata": {},
   "outputs": [],
   "source": [
    "country_geo = 'world-countries.json'\n",
    "country_geo"
   ]
  },
  {
   "cell_type": "code",
   "execution_count": null,
   "metadata": {},
   "outputs": [],
   "source": [
    "# Etiquette de la légende\n",
    "indicator = selection.iloc[0]['IndicatorName']"
   ]
  },
  {
   "cell_type": "markdown",
   "metadata": {},
   "source": [
    "### Génération de la carte"
   ]
  },
  {
   "cell_type": "code",
   "execution_count": null,
   "metadata": {},
   "outputs": [],
   "source": [
    "map = folium.Map(location=[0, 0], zoom_start=1)"
   ]
  },
  {
   "cell_type": "code",
   "execution_count": null,
   "metadata": {},
   "outputs": [],
   "source": [
    "# choropleth associe aux données du DataFrame pandas les délimitations.  \n",
    "map.choropleth(geo_data=country_geo,\n",
    "               data = plot_data,\n",
    "               columns=['CountryCode', 'Value'],\n",
    "               key_on='feature.id',\n",
    "               fill_color='YlGnBu', fill_opacity=0.7, line_opacity=0.2,\n",
    "               legend_name=indicator)\n",
    "map"
   ]
  },
  {
   "cell_type": "code",
   "execution_count": null,
   "metadata": {},
   "outputs": [],
   "source": [
    "# Sauvegarde\n",
    "map.save('plot_data.html')"
   ]
  },
  {
   "cell_type": "code",
   "execution_count": null,
   "metadata": {},
   "outputs": [],
   "source": [
    "from IPython.display import HTML\n",
    "HTML('<iframe src=plot_data.html width=700 height=450></iframe>')"
   ]
  },
  {
   "cell_type": "markdown",
   "metadata": {
    "collapsed": true
   },
   "source": [
    "## Documentation complète\n",
    "\n",
    "https://media.readthedocs.org/pdf/folium/latest/folium.pdf"
   ]
  }
 ],
 "metadata": {
  "kernelspec": {
   "display_name": "Python 3",
   "language": "python",
   "name": "python3"
  },
  "language_info": {
   "codemirror_mode": {
    "name": "ipython",
    "version": 3
   },
   "file_extension": ".py",
   "mimetype": "text/x-python",
   "name": "python",
   "nbconvert_exporter": "python",
   "pygments_lexer": "ipython3",
   "version": "3.6.9"
  }
 },
 "nbformat": 4,
 "nbformat_minor": 2
}
