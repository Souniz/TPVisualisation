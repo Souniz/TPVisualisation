{
 "cells": [
  {
   "cell_type": "markdown",
   "metadata": {},
   "source": [
    "# Extensions\n",
    "\n",
    "Il existe un certain nombre d'extensions qui reposent sur matplotlib et offrent des facilités pour définir des visualisations. La liste qui suit n'est bien évidemment pas exhaustive.\n",
    "\n",
    "- Seaborn : Seaborn est une surcouche de pyplot qui facilite la mise en place de visualisation de données statistiques. https://seaborn.pydata.org\n",
    "- ggplot : ggplot est le portage sous python de ggplot2, une des bibliothèques de visualisation de données les plus utilisées dans le langage R. http://ggplot.yhathq.com/\n",
    "- Altair :  Altair est une bibliothèque permettant de créer des visualisations au format Vega.json. Ces visualisations sont ensuite rendues par l'intermédiaire de bibliothèques JavaScript prenant en charge ce format. https://altair-viz.github.io\n",
    "- Bokeh : Bokeh est une bibliothèque complète permettant de réaliser des visualisations complexes. https://bokeh.pydata.org/ https://bokeh.pydata.org/en/latest/docs/gallery.html\n",
    "- Folium : Folium est une bibliothèque python utilisant Leaflet pour l'affichage de données géographiques. Elle permet en particulier de visualiser des cartographies définies sous OpenStreetMap. https://folium.readthedocs.io/en/latest/index.html\n",
    "\n",
    "Nous ne sommes bien évidemment pas exhaustif, et il existe de nombreux outils libres et commerciaux avec des supports pour différents langage de programmation."
   ]
  },
  {
   "cell_type": "markdown",
   "metadata": {},
   "source": [
    "Nous ne rentrerons pas en détail dans la desriptions de toutes ces bibliothèques, chacune répondant à des besoins particuliers.\n",
    "\n",
    "## Les styles de matplotlib\n",
    "\n",
    "matplotlib est livré avec différents styles qui définissent chacun des réglages par défaut associés aux fonctionnalités de `pyplot`."
   ]
  },
  {
   "cell_type": "code",
   "execution_count": null,
   "metadata": {},
   "outputs": [],
   "source": [
    "%matplotlib notebook\n",
    "import matplotlib.pyplot as plt\n",
    "\n",
    "plt.style.available"
   ]
  },
  {
   "cell_type": "markdown",
   "metadata": {},
   "source": [
    "La sélection d'un style particulier est réalisé par `pyplot.style.use`."
   ]
  },
  {
   "cell_type": "code",
   "execution_count": null,
   "metadata": {},
   "outputs": [],
   "source": [
    "plt.style.use('fivethirtyeight')\n",
    "\n",
    "import numpy as np\n",
    "\n",
    "x = np.arange(10)\n",
    "y = x**2\n",
    "\n",
    "plt.plot(x,y)\n",
    "plt.plot(x,x)"
   ]
  },
  {
   "cell_type": "markdown",
   "metadata": {},
   "source": [
    "## Pandas\n",
    "\n",
    "En premier lieu, nous revenons brièvement sur les fonctionnalités de visualisation offertes par pandas."
   ]
  },
  {
   "cell_type": "code",
   "execution_count": null,
   "metadata": {},
   "outputs": [],
   "source": [
    "import pandas as pd\n",
    "\n",
    "df = pd.DataFrame({'A' : np.random.randn(365).cumsum(0),\n",
    "                   'B' : np.random.randn(365).cumsum(0)+20,\n",
    "                   'C' : np.random.randn(365).cumsum(0)-20,\n",
    "                   'D' : np.random.randn(365).cumsum(0)+40},\n",
    "                 index = pd.date_range(1/1/2018,periods = 365))\n",
    "df"
   ]
  },
  {
   "cell_type": "code",
   "execution_count": null,
   "metadata": {},
   "outputs": [],
   "source": [
    "df[['A','C']].plot()"
   ]
  },
  {
   "cell_type": "code",
   "execution_count": null,
   "metadata": {},
   "outputs": [],
   "source": [
    "df.plot('A','B',kind='scatter')\n",
    "df.plot('A','B',kind='line')\n",
    "df.plot('A', kind='hist')\n"
   ]
  },
  {
   "cell_type": "code",
   "execution_count": null,
   "metadata": {
    "scrolled": false
   },
   "outputs": [],
   "source": [
    "df.plot.scatter('A','C')\n",
    "df.plot.scatter('A','C', c='B', s=(df['D']-df['D'].min()+3)*3)\n",
    "df.plot.scatter('A','C', c='B', s=(df['D']-df['D'].min()+3)*3, colormap = 'viridis')"
   ]
  },
  {
   "cell_type": "code",
   "execution_count": null,
   "metadata": {},
   "outputs": [],
   "source": [
    "ax = df.plot.scatter('A','C', c='B', s=(df['D']-df['D'].min()+3)*3, colormap = 'viridis')\n",
    "ax .set_aspect('equal')"
   ]
  },
  {
   "cell_type": "code",
   "execution_count": null,
   "metadata": {},
   "outputs": [],
   "source": [
    "df.plot.box()"
   ]
  },
  {
   "cell_type": "code",
   "execution_count": null,
   "metadata": {},
   "outputs": [],
   "source": [
    "df.plot.hist(alpha=0.3)\n",
    "df.plot.hist(stacked=True)\n",
    "df.plot.hist(bins=30,alpha=0.3)"
   ]
  },
  {
   "cell_type": "code",
   "execution_count": null,
   "metadata": {},
   "outputs": [],
   "source": [
    "df.plot.kde()"
   ]
  },
  {
   "cell_type": "code",
   "execution_count": null,
   "metadata": {},
   "outputs": [],
   "source": [
    "iris = pd.read_csv('iris.csv')\n",
    "iris.head()"
   ]
  },
  {
   "cell_type": "code",
   "execution_count": null,
   "metadata": {},
   "outputs": [],
   "source": [
    "pd.plotting.scatter_matrix(iris)"
   ]
  },
  {
   "cell_type": "code",
   "execution_count": null,
   "metadata": {},
   "outputs": [],
   "source": [
    "plt.figure()\n",
    "pd.plotting.parallel_coordinates(iris,'species')"
   ]
  },
  {
   "cell_type": "code",
   "execution_count": null,
   "metadata": {},
   "outputs": [],
   "source": []
  }
 ],
 "metadata": {
  "kernelspec": {
   "display_name": "Python 3",
   "language": "python",
   "name": "python3"
  },
  "language_info": {
   "codemirror_mode": {
    "name": "ipython",
    "version": 3
   },
   "file_extension": ".py",
   "mimetype": "text/x-python",
   "name": "python",
   "nbconvert_exporter": "python",
   "pygments_lexer": "ipython3",
   "version": "3.6.9"
  }
 },
 "nbformat": 4,
 "nbformat_minor": 2
}
