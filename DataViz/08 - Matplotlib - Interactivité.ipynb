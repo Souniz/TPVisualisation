{
 "cells": [
  {
   "cell_type": "markdown",
   "metadata": {},
   "source": [
    "# Interactivité\n",
    "\n",
    "La gestion de l'interactivité est relativement similaire à celle des animations dans matplotlib. Cependant, dans la gestion de l'interactivité, il faut se plonger d'un peu plus près dans la couche _Artiste_.\n",
    "\n",
    "Il est par exemple nécessaire de référencer l'objet `Canvas` de la figure courante. Cet objet effectue la gestion de l'ensemble des événements et il est lié de très près à la couche de rendu. \n",
    "\n",
    "Les concepts de programmation événementielle sont mis en oeuvre en installant des écouteurs d'événements. Lorsque ces événements surviennent, les fonctions associées sont déclenchées automatiquement. Plusieurs de ces fonctions peuvent se dérouler simultannément si plusieurs événements interviennent avant que les fonctions associées ne soient terminées.\n",
    "\n",
    "Les événements peuvent être des déplacements de souris, des clics, ou la pression d'une touche du clavier."
   ]
  },
  {
   "cell_type": "code",
   "execution_count": null,
   "metadata": {},
   "outputs": [],
   "source": [
    "%matplotlib notebook\n",
    "import matplotlib.pyplot as plt\n",
    "import matplotlib.animation as animation\n",
    "import numpy as np"
   ]
  },
  {
   "cell_type": "code",
   "execution_count": null,
   "metadata": {},
   "outputs": [],
   "source": [
    "plt.figure()\n",
    "data = np.random.rand(10)\n",
    "plt.plot(data)\n",
    "\n",
    "def onclick(event):\n",
    "    # plt.cla()\n",
    "    # plt.plot(data)\n",
    "    plt.gca().set_title('Clic souris en {}, {}\\nles données sont {}, {}'.format(\n",
    "                        event.x,event.y,event.xdata,event.ydata))\n",
    "    \n",
    "plt.gcf().canvas.mpl_connect('button_press_event',onclick)"
   ]
  },
  {
   "cell_type": "markdown",
   "metadata": {},
   "source": [
    "L'ensemble des événements qui peuvent être interceptés sont indiqués dans la documentation de matplotlib. Leur mise en oeuvre dépend bien évidemment de la couche de rendu utilisée, sachant que certaines ne sont pas interactives.\n",
    "\n",
    "Les événements pouvant être interceptés sont :\n",
    "- les clics souris\n",
    "- les appuis sur les touches du claivier\n",
    "- les scroll\n",
    "- les déplacement de la souris avec notamment l'entrée ou la sortie de la souris dans une figure\n",
    "\n",
    "Le _pick event_ permet de réagir au clic de l'utilisateur sur un élément de la figure."
   ]
  },
  {
   "cell_type": "code",
   "execution_count": null,
   "metadata": {},
   "outputs": [],
   "source": [
    "from random import shuffle\n",
    "import pandas as pd\n",
    "\n",
    "countries = ['South Korea', 'France', 'Madagascar', 'Russia', 'Syria', 'Spain', 'UK', 'Senegal', 'Britany', 'Euskal Herria', 'Catalunya']\n",
    "\n",
    "shuffle(countries)\n",
    "\n",
    "df = pd.DataFrame({\n",
    "        'height': np.random.rand(len(countries)),\n",
    "        'weight': np.random.rand(len(countries)),\n",
    "        'country': countries})\n",
    "df"
   ]
  },
  {
   "cell_type": "code",
   "execution_count": null,
   "metadata": {
    "scrolled": false
   },
   "outputs": [],
   "source": [
    "fig = plt.figure()\n",
    "plt.scatter(df['height'],df['weight'],picker='30')\n",
    "\n",
    "def on_pick(event):\n",
    "    plt.cla()\n",
    "    plt.scatter(df['height'],df['weight'],picker='30')\n",
    "    index = event.ind[0]\n",
    "    row = df.iloc[index]\n",
    "    country = row['country']\n",
    "    height = row['height']\n",
    "    weight = row['weight']\n",
    "    plt.gca().text(0.5,0.2,'country: {}\\nheight: {}\\nweight: {}'.format(country,height,weight))\n",
    "    \n",
    "\n",
    "#plt.gcf().canvas.mpl_connect('button_press_event', onclick)\n",
    "plt.gcf().canvas.mpl_connect('pick_event', on_pick)"
   ]
  },
  {
   "cell_type": "code",
   "execution_count": null,
   "metadata": {},
   "outputs": [],
   "source": []
  }
 ],
 "metadata": {
  "kernelspec": {
   "display_name": "Python 3",
   "language": "python",
   "name": "python3"
  },
  "language_info": {
   "codemirror_mode": {
    "name": "ipython",
    "version": 3
   },
   "file_extension": ".py",
   "mimetype": "text/x-python",
   "name": "python",
   "nbconvert_exporter": "python",
   "pygments_lexer": "ipython3",
   "version": "3.6.9"
  }
 },
 "nbformat": 4,
 "nbformat_minor": 2
}
