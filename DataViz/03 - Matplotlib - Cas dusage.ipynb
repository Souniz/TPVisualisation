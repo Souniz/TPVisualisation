{
 "cells": [
  {
   "cell_type": "markdown",
   "metadata": {},
   "source": [
    "# Cas d'usage avec un jeu de données"
   ]
  },
  {
   "cell_type": "code",
   "execution_count": null,
   "metadata": {},
   "outputs": [],
   "source": [
    "%matplotlib notebook\n",
    "import numpy as np\n",
    "import pandas as pd\n",
    "import matplotlib.pyplot as plt"
   ]
  },
  {
   "cell_type": "markdown",
   "metadata": {},
   "source": [
    "Pour pouvoir exécuter la cellule suivante, vous devrez placer dans le répertoire où est exécuté votre notebook le fichier `Indicators.csv` téléchargeable sur https://www.kaggle.com/worldbank/world-development-indicators/data"
   ]
  },
  {
   "cell_type": "code",
   "execution_count": null,
   "metadata": {},
   "outputs": [],
   "source": [
    "data = pd.read_csv('Indicators.csv')\n",
    "data.shape"
   ]
  },
  {
   "cell_type": "code",
   "execution_count": null,
   "metadata": {},
   "outputs": [],
   "source": [
    "data.head()"
   ]
  },
  {
   "cell_type": "code",
   "execution_count": null,
   "metadata": {},
   "outputs": [],
   "source": [
    "countries = data['CountryName'].unique().tolist()\n",
    "len(countries)"
   ]
  },
  {
   "cell_type": "code",
   "execution_count": null,
   "metadata": {},
   "outputs": [],
   "source": [
    "codes = data['CountryCode'].unique().tolist()\n",
    "len(codes)"
   ]
  },
  {
   "cell_type": "code",
   "execution_count": null,
   "metadata": {},
   "outputs": [],
   "source": [
    "indicators = data['IndicatorName'].unique().tolist()\n",
    "len(indicators)"
   ]
  },
  {
   "cell_type": "code",
   "execution_count": null,
   "metadata": {},
   "outputs": [],
   "source": [
    "years = data['Year'].unique().tolist()\n",
    "len(years)"
   ]
  },
  {
   "cell_type": "code",
   "execution_count": null,
   "metadata": {},
   "outputs": [],
   "source": [
    "min(years), max(years)"
   ]
  },
  {
   "cell_type": "markdown",
   "metadata": {},
   "source": [
    "Filtrons les données pour avoir les émissions de CO2 des Etats-Unis."
   ]
  },
  {
   "cell_type": "code",
   "execution_count": null,
   "metadata": {},
   "outputs": [],
   "source": [
    "indicator = 'CO2 emissions \\(metric'\n",
    "country = 'USA'\n",
    "\n",
    "mask1 = data['IndicatorName'].str.contains(indicator)\n",
    "mask2 = data['CountryCode'].str.contains(country)\n",
    "\n",
    "selection = data[mask1 & mask2]\n",
    "selection.head()"
   ]
  },
  {
   "cell_type": "code",
   "execution_count": null,
   "metadata": {},
   "outputs": [],
   "source": [
    "len(selection['IndicatorName'].unique())"
   ]
  },
  {
   "cell_type": "code",
   "execution_count": null,
   "metadata": {},
   "outputs": [],
   "source": [
    "years = selection['Year'].values\n",
    "values = selection['Value'].values\n",
    "\n",
    "plt.figure()\n",
    "plt.bar(years,values)"
   ]
  },
  {
   "cell_type": "code",
   "execution_count": null,
   "metadata": {},
   "outputs": [],
   "source": [
    "plt.figure()\n",
    "plt.plot(years,values)\n",
    "plt.xlabel('Year')\n",
    "plt.ylabel(selection['IndicatorName'].iloc[0])\n",
    "plt.title('Emission de C02 aux Etats-Unis')\n",
    "plt.axis([min(years), max(years),0,max(values)])"
   ]
  },
  {
   "cell_type": "code",
   "execution_count": null,
   "metadata": {},
   "outputs": [],
   "source": [
    "len(values)"
   ]
  },
  {
   "cell_type": "code",
   "execution_count": null,
   "metadata": {},
   "outputs": [],
   "source": [
    "plt.figure()\n",
    "plt.hist(values,10,density=False,facecolor='green')\n",
    "plt.xlabel(selection['IndicatorName'].iloc[0])\n",
    "plt.ylabel(\"Nombre d'années\")\n",
    "plt.title('Histogramme')\n",
    "plt.grid(True)"
   ]
  },
  {
   "cell_type": "markdown",
   "metadata": {},
   "source": [
    "Comparons les emissions de CO2 des Etats-Unis avec d'autres pays en 2011."
   ]
  },
  {
   "cell_type": "code",
   "execution_count": null,
   "metadata": {},
   "outputs": [],
   "source": [
    "year = 2011\n",
    "\n",
    "mask1 = data['IndicatorName'].str.contains(indicator)\n",
    "mask2 = data['Year'].isin([year])\n",
    "\n",
    "selection = data[mask1 & mask2]\n",
    "\n",
    "selection.head()"
   ]
  },
  {
   "cell_type": "code",
   "execution_count": null,
   "metadata": {},
   "outputs": [],
   "source": [
    "len(selection)"
   ]
  },
  {
   "cell_type": "code",
   "execution_count": null,
   "metadata": {},
   "outputs": [],
   "source": [
    "fig, ax = plt.subplots()\n",
    "\n",
    "plt.hist(selection['Value'].values, 10, density=False, facecolor='green')\n",
    "plt.xlabel(selection['IndicatorName'].iloc[0])\n",
    "plt.ylabel('Nombre de pays')\n",
    "plt.title('Histogramme des émissions de CO2 par habitant')\n",
    "plt.grid(True)"
   ]
  },
  {
   "cell_type": "code",
   "execution_count": null,
   "metadata": {},
   "outputs": [],
   "source": [
    "val_for_usa = selection[selection['CountryCode'].str.contains('USA')]['Value'].values[0]\n",
    "print(val_for_usa)"
   ]
  },
  {
   "cell_type": "code",
   "execution_count": null,
   "metadata": {},
   "outputs": [],
   "source": [
    "ax.annotate(\"USA\", \n",
    "            xy=(val_for_usa,5), xycoords='data', \n",
    "            xytext=(val_for_usa,30), textcoords='data',\n",
    "            arrowprops=dict(arrowstyle='->', connectionstyle='arc3')\n",
    "            )"
   ]
  },
  {
   "cell_type": "code",
   "execution_count": null,
   "metadata": {},
   "outputs": [],
   "source": [
    "indicator = 'CO2 emissions \\(metric'\n",
    "mask1 = data['IndicatorName'].str.contains(indicator)\n",
    "\n",
    "indicator = 'GDP per capita \\(constant 2005'\n",
    "mask2 = data['IndicatorName'].str.contains(indicator)\n",
    "\n",
    "mask3 = data['CountryCode'].str.contains(country)\n",
    "\n",
    "selection1 = data[mask1 & mask3]\n",
    "selection1.head()"
   ]
  },
  {
   "cell_type": "code",
   "execution_count": null,
   "metadata": {},
   "outputs": [],
   "source": [
    "selection2 = data[mask2 & mask3]\n",
    "selection2.head()"
   ]
  },
  {
   "cell_type": "code",
   "execution_count": null,
   "metadata": {},
   "outputs": [],
   "source": [
    "plt.figure()\n",
    "plt.plot(selection2['Year'].values,selection2['Value'].values)\n",
    "plt.xlabel('Year')\n",
    "plt.ylabel(selection2['IndicatorName'].iloc[0])\n",
    "plt.title('GDP per capita in USA')"
   ]
  },
  {
   "cell_type": "code",
   "execution_count": null,
   "metadata": {},
   "outputs": [],
   "source": [
    "selection1['Year'].min(), selection1['Year'].max()"
   ]
  },
  {
   "cell_type": "code",
   "execution_count": null,
   "metadata": {},
   "outputs": [],
   "source": [
    "selection2['Year'].min(), selection2['Year'].max()"
   ]
  },
  {
   "cell_type": "code",
   "execution_count": null,
   "metadata": {},
   "outputs": [],
   "source": [
    "minYear = max(selection1['Year'].min(),selection2['Year'].min())\n",
    "minYear"
   ]
  },
  {
   "cell_type": "code",
   "execution_count": null,
   "metadata": {},
   "outputs": [],
   "source": [
    "maxYear = min(selection1['Year'].max(),selection2['Year'].max())\n",
    "maxYear"
   ]
  },
  {
   "cell_type": "code",
   "execution_count": null,
   "metadata": {},
   "outputs": [],
   "source": [
    "mask1 = selection1['Year']>=minYear\n",
    "mask2 = selection1['Year']<=maxYear\n",
    "selection1_trunc = selection1[mask1 & mask2]\n",
    "\n",
    "mask1 = selection2['Year']>=minYear\n",
    "mask2 = selection2['Year']<=maxYear\n",
    "selection2_trunc = selection2[mask1 & mask2]"
   ]
  },
  {
   "cell_type": "code",
   "execution_count": null,
   "metadata": {},
   "outputs": [],
   "source": [
    "len(selection1_trunc), len(selection2_trunc)"
   ]
  },
  {
   "cell_type": "code",
   "execution_count": null,
   "metadata": {},
   "outputs": [],
   "source": [
    "plt.figure()\n",
    "fig, ax = plt.subplots()\n",
    "ax.yaxis.grid(True)\n",
    "ax.set_title('Emission de CO2 par habitant par rapport au PIB')\n",
    "ax.set_xlabel(selection2_trunc['IndicatorName'].iloc[0],fontsize=10)\n",
    "ax.set_ylabel(selection1['IndicatorName'].iloc[0],fontsize=10)\n",
    "\n",
    "X = selection2_trunc['Value']\n",
    "Y = selection1_trunc['Value']\n",
    "\n",
    "ax.scatter(X, Y)"
   ]
  },
  {
   "cell_type": "code",
   "execution_count": null,
   "metadata": {},
   "outputs": [],
   "source": [
    "np.corrcoef(selection2_trunc['Value'],selection1_trunc['Value'])"
   ]
  },
  {
   "cell_type": "code",
   "execution_count": null,
   "metadata": {},
   "outputs": [],
   "source": []
  }
 ],
 "metadata": {
  "kernelspec": {
   "display_name": "Python 3",
   "language": "python",
   "name": "python3"
  },
  "language_info": {
   "codemirror_mode": {
    "name": "ipython",
    "version": 3
   },
   "file_extension": ".py",
   "mimetype": "text/x-python",
   "name": "python",
   "nbconvert_exporter": "python",
   "pygments_lexer": "ipython3",
   "version": "3.6.9"
  }
 },
 "nbformat": 4,
 "nbformat_minor": 2
}
