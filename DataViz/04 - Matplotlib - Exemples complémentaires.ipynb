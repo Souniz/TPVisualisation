{
 "cells": [
  {
   "cell_type": "markdown",
   "metadata": {},
   "source": [
    "# Autres exemples\n",
    "\n",
    "## Affichage en 3 dimensions"
   ]
  },
  {
   "cell_type": "code",
   "execution_count": null,
   "metadata": {},
   "outputs": [],
   "source": [
    "%matplotlib notebook\n",
    "\n",
    "from mpl_toolkits.mplot3d import Axes3D\n",
    "from matplotlib import cm\n",
    "import matplotlib.pyplot as plt\n",
    "import numpy as np\n",
    "\n",
    "countof_angles = 36\n",
    "countof_radii  = 8\n",
    "\n",
    "# Tableau de rayons\n",
    "array_rad = np.linspace(0.125, 1.0, countof_radii)\n",
    "\n",
    "# Tableau des angles\n",
    "array_ang = np.linspace(0, 2*np.pi, countof_angles, endpoint=False)\n",
    "\n",
    "# tous les angles pour chaque rayon\n",
    "array_ang = np.repeat(array_ang[...,np.newaxis], countof_radii, axis=1)\n",
    "\n",
    "# passage des coordonnées polaires (rayon, angle) vers les coordonnées cartésiennes (x,y)\n",
    "x = np.append(0, (array_rad*np.cos(array_ang)).flatten())\n",
    "y = np.append(0, (array_rad*np.sin(array_ang)).flatten())\n",
    "\n",
    "# z = sin(-xy)\n",
    "z = np.sin(-x*y)\n",
    "\n",
    "fig = plt.figure(figsize=(8,8))\n",
    "ax  = fig.gca(projection='3d')\n",
    "\n",
    "ax.plot_trisurf(x, y, z, cmap=cm.autumn)\n"
   ]
  },
  {
   "cell_type": "markdown",
   "metadata": {},
   "source": [
    "## Plot en 4D en coordonnées polaires"
   ]
  },
  {
   "cell_type": "code",
   "execution_count": null,
   "metadata": {},
   "outputs": [],
   "source": [
    "n_points = 200\n",
    "\n",
    "radius   = 2 * np.random.rand(n_points)\n",
    "angles   = 2 * (np.pi) * np.random.rand(n_points)\n",
    "area     = 100 * (radius**2) * np.random.rand(n_points)\n",
    "\n",
    "colors = angles\n",
    "\n",
    "fig = plt.figure()\n",
    "ax  = plt.subplot(111, polar=True)\n",
    "\n",
    "plt.scatter(angles, radius, c=colors, s=area, cmap=plt.cm.hsv)\n",
    "plt.colorbar()\n",
    "\n"
   ]
  },
  {
   "cell_type": "markdown",
   "metadata": {},
   "source": [
    "## Box plot"
   ]
  },
  {
   "cell_type": "code",
   "execution_count": null,
   "metadata": {},
   "outputs": [],
   "source": [
    "A1 = np.random.normal(0, 1, 100)\n",
    "A2 = np.random.normal(0, 2, 100)\n",
    "A3 = np.random.normal(0, 1.5, 100)\n",
    "\n",
    "data = [ A1, A2, A3 ]\n",
    "\n",
    "fig, axes = plt.subplots(nrows=1, ncols=2, figsize=(10,8))\n",
    "\n",
    "\n",
    "bplot1 = axes[0].boxplot(data,\n",
    "                         vert=True,\n",
    "                         patch_artist=True)\n",
    "\n",
    "bplot2 = axes[1].boxplot(data,\n",
    "                         notch=True,  \n",
    "                         vert=True,\n",
    "                         patch_artist=True)\n",
    "\n",
    "colors = ['tomato', 'darkorchid', 'lime']\n",
    "\n",
    "# On colore chaque boîte à moustache de chaque graphique\n",
    "for bplot in (bplot1, bplot2):\n",
    "    for patch, color in zip(bplot['boxes'], colors):\n",
    "        patch.set_facecolor(color)\n",
    "\n",
    "# On fixe les labels\n",
    "for axis in axes:\n",
    "    axis.yaxis.grid(True)\n",
    "    axis.set_xlabel('X')\n",
    "    axis.set_ylabel('Y')\n",
    "\n",
    "plt.setp(axes, xticklabels=['A1', 'A2', 'A3'])\n"
   ]
  },
  {
   "cell_type": "markdown",
   "metadata": {},
   "source": [
    "## Autres exemples\n",
    "\n",
    "http://matplotlib.org/examples/index.html"
   ]
  },
  {
   "cell_type": "code",
   "execution_count": null,
   "metadata": {},
   "outputs": [],
   "source": []
  }
 ],
 "metadata": {
  "kernelspec": {
   "display_name": "Python 3",
   "language": "python",
   "name": "python3"
  },
  "language_info": {
   "codemirror_mode": {
    "name": "ipython",
    "version": 3
   },
   "file_extension": ".py",
   "mimetype": "text/x-python",
   "name": "python",
   "nbconvert_exporter": "python",
   "pygments_lexer": "ipython3",
   "version": "3.6.9"
  }
 },
 "nbformat": 4,
 "nbformat_minor": 2
}
