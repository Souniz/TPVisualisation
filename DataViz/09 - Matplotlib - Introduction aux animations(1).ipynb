{
 "cells": [
  {
   "cell_type": "markdown",
   "metadata": {},
   "source": [
    "# Animations\n",
    "\n",
    "Matplotlib offre un support pour la création d'animations pour certaines couches de rendus, notamment les couches de rendus fonctionnant par l'intermédiaire d'une interface web. \n",
    "\n",
    "Il n'est en effet pas possible d'intégrer des animations dans les images statiques stockées sous forme de fichiers. \n",
    "\n",
    "Il est en revanche possible d'intégrer des animations dans les couches de rendus `nbAgg` ou celle renvoyées par la _magic command_ `%matplotlib notebook` des notebooks python.\n",
    "\n",
    "Les fonctions permettant de créer des animations sont accessibles dans le module `matplotlib.animation`.\n",
    "\n",
    "`FuncAnimation` va appleler de façon itérative une fonction dont le rôle est d'effacer et redessiner les différentes frames de l'animation, ou de définir la liste des objets devant être redessinés à chaque frame."
   ]
  },
  {
   "cell_type": "code",
   "execution_count": null,
   "metadata": {},
   "outputs": [],
   "source": [
    "%matplotlib notebook\n",
    "import matplotlib.animation as animation\n",
    "import numpy as np\n",
    "import matplotlib.pyplot as plt\n",
    "\n",
    "n = 1000\n",
    "x = np.random.randn(n)"
   ]
  },
  {
   "cell_type": "code",
   "execution_count": null,
   "metadata": {},
   "outputs": [],
   "source": [
    "def update(current):\n",
    "    if current == n:\n",
    "        a.event_source.stop()\n",
    "    plt.cla()\n",
    "    bins = np.arange(-4,4,0.25)\n",
    "    plt.hist(x[:current], bins=bins)\n",
    "    plt.axis([-4,4,0,300])\n",
    "    plt.gca().set_title('Echantillonage de la distribution normale')\n",
    "    plt.gca().set_ylabel('Nombre')\n",
    "    plt.gca().set_xlabel('Valeur')\n",
    "    plt.annotate('n = {}'.format(current), [3,27])"
   ]
  },
  {
   "cell_type": "code",
   "execution_count": null,
   "metadata": {},
   "outputs": [],
   "source": [
    "fig = plt.figure()\n",
    "a = animation.FuncAnimation(fig,update,interval=1,frames=range(0,1001,50))\n",
    "a.save('basic_animation.mp4', fps=30, extra_args=['-vcodec', 'libx264'])\n"
   ]
  },
  {
   "cell_type": "markdown",
   "metadata": {},
   "source": [
    "Sous réserve de disposer des bibliothèques nécessaires, par exemple `ffmpeg`, il est possible de sauvegarder les animations au sein d'un fichier vidéo."
   ]
  },
  {
   "cell_type": "code",
   "execution_count": null,
   "metadata": {},
   "outputs": [],
   "source": []
  }
 ],
 "metadata": {
  "kernelspec": {
   "display_name": "Python 3",
   "language": "python",
   "name": "python3"
  },
  "language_info": {
   "codemirror_mode": {
    "name": "ipython",
    "version": 3
   },
   "file_extension": ".py",
   "mimetype": "text/x-python",
   "name": "python",
   "nbconvert_exporter": "python",
   "pygments_lexer": "ipython3",
   "version": "3.6.9"
  }
 },
 "nbformat": 4,
 "nbformat_minor": 2
}
