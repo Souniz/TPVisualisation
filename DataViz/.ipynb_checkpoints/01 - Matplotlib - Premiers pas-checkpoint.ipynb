{
 "cells": [
  {
   "cell_type": "markdown",
   "metadata": {},
   "source": [
    "# Premiers pas avec des graphiques simples\n",
    "\n",
    "Dans les paragraphes qui suivent nous donnons un aperçu des fonctionnalités de matplotlib avec les types de graphiques les plus courants. Il nous est impossible d'être exhaustif. Pour des besoins plus spécifiques, il faudra se tourner vers des ressources plus complètes telles que :\n",
    "- la documentation de matplotlib https://matplotlib.org/contents.html\n",
    "- les questions-réponses de stackoverflow https://stackoverflow.com/questions/tagged/matplotlib\n",
    "\n",
    "## Nommage\n",
    "\n",
    "Il est possible de nommer le graphique en cours via méthode `pyplot.title`.\n",
    "\n",
    "Un graphique dispose d'un axe horizontal et d'un axe vertical. Il est possible de nommer ces axes grâce aux méthodes `pyplot.xlabel` et `pyplot.ylabel`.\n",
    "\n",
    "La méthode `pyplot.legend` permet d'intégrer une légende.\n",
    "\n",
    "L'ensemble des méthodes indiquées précédemment prennent en outre des arguments permettant la mise en forme des différents éléments.\n",
    "\n",
    "L'illustration de ces méthodes sera effectuée plus bas.\n",
    "\n",
    "## Nuages de points\n",
    "\n",
    "Les nuages de points sont obtenus grâce à la méthode `pyplot.scatter`. Ses deux premiers arguments sont respectiments les listes d'abscisses et de coordonnées des points à afficher.\n",
    "\n",
    "Parmi les arguments optionnels suppélementaires :\n",
    "- `label` permet d'attribuer un nom au jeu de données (utilisable dans les légendes)\n",
    "- `c` permet de donner la couleur de l'ensemble des points ou la liste des couleurs pour les points successifs.\n",
    "- `s` permet de spécifier la taille des points ou la liste des tailles pour les points successifs.\n",
    "- `marker` permet de spécifier la forme des points."
   ]
  },
  {
   "cell_type": "code",
   "execution_count": null,
   "metadata": {},
   "outputs": [],
   "source": [
    "%matplotlib notebook\n",
    "import matplotlib.pyplot as plt"
   ]
  },
  {
   "cell_type": "code",
   "execution_count": null,
   "metadata": {},
   "outputs": [],
   "source": [
    "import numpy as np\n",
    "x = np.array(range(1,6))\n",
    "y = np.array(range(1,6))\n",
    "x = x + np.random.randn(x.shape[0])\n",
    "y = y + np.random.randn(y.shape[0])\n",
    "plt.figure()\n",
    "plt.scatter(x,y)\n"
   ]
  },
  {
   "cell_type": "code",
   "execution_count": null,
   "metadata": {},
   "outputs": [],
   "source": [
    "plt.figure()\n",
    "plt.scatter(x,y,c='red')\n",
    "plt.scatter(y,x,c=['green','blue','orange', 'black', 'cyan'])"
   ]
  },
  {
   "cell_type": "code",
   "execution_count": null,
   "metadata": {},
   "outputs": [],
   "source": [
    "plt.figure()\n",
    "plt.scatter(x,y,s=300)\n",
    "plt.scatter(y,x,s=[75*(i+1) for i in range(len(x))])"
   ]
  },
  {
   "cell_type": "code",
   "execution_count": null,
   "metadata": {},
   "outputs": [],
   "source": [
    "plt.figure()\n",
    "plt.scatter(x,y,marker='+')\n",
    "plt.scatter(y,x,marker='s')\n",
    "plt.scatter(x,x,marker='.')\n",
    "plt.scatter(y,y,marker='x')\n"
   ]
  },
  {
   "cell_type": "code",
   "execution_count": null,
   "metadata": {},
   "outputs": [],
   "source": [
    "plt.figure()\n",
    "plt.scatter(x,y,label='Jeu de données 1')\n",
    "plt.scatter(y,x,label='Jeu de données 2')\n",
    "plt.title(\"Illustration de la méthode scatter\")\n",
    "plt.xlabel(\"Abscisses des points\")\n",
    "plt.ylabel(\"Ordonnées des points\")\n",
    "#plt.legend()"
   ]
  },
  {
   "cell_type": "code",
   "execution_count": null,
   "metadata": {},
   "outputs": [],
   "source": [
    "plt.legend()"
   ]
  },
  {
   "cell_type": "code",
   "execution_count": null,
   "metadata": {},
   "outputs": [],
   "source": [
    "plt.figure()\n",
    "plt.scatter(x,y,label='Jeu de données 1')\n",
    "plt.scatter(y,x,label='Jeu de données 2')\n",
    "plt.title(\"Illustration de la méthode scatter\", fontdict={'fontsize':18, 'fontweight':100}, loc='left')\n",
    "plt.xlabel(\"Abscisses des points\",fontsize='15', horizontalalignment='left')\n",
    "plt.ylabel(\"Ordonnées des points\", verticalalignment='bottom', horizontalalignment='right')\n",
    "plt.legend(loc=4, shadow=True, title='Légende')"
   ]
  },
  {
   "cell_type": "markdown",
   "metadata": {},
   "source": [
    "## Graphiques en ligne\n",
    "\n",
    "La méthode `pyplot.plot` va afficher des lignes sur un graphique disposant de deux axes othogonaux $x$ et $y$. \n",
    "\n",
    "les arguments sont des couples de listes d'abscisses et d'ordonnées d'extrémités de polylignes (suite de segments). Il est possible d'indiquer des marqueurs (forme des extrémités) et des arguments relatifs aux lignes (couleur, pointillés...) via une chaîne de caractères."
   ]
  },
  {
   "cell_type": "code",
   "execution_count": null,
   "metadata": {
    "scrolled": false
   },
   "outputs": [],
   "source": [
    "plt.figure()\n",
    "plt.plot([3,5,6],[2,3,1])\n",
    "plt.plot([1,2,6],[5,3,1], 'r--')\n",
    "plt.plot([1,2,6],[2,3,5], 'xb--',[1,2,6],[6,2,3], 'sr-')\n"
   ]
  },
  {
   "cell_type": "code",
   "execution_count": null,
   "metadata": {
    "scrolled": true
   },
   "outputs": [],
   "source": [
    "x = np.arange(1,8)\n",
    "y = x ** 2\n",
    "plt.figure()\n",
    "plt.plot(x,y,'o-',label='$y=x^2$')\n",
    "plt.plot(y,x,'x--',label='$y=\\sqrt{x}$')\n",
    "plt.title('Comparaison de $x^2$ et de $\\sqrt{x}$')\n",
    "plt.xlabel('$x$')\n",
    "plt.ylabel('$y=f(x)$')\n",
    "plt.legend()"
   ]
  },
  {
   "cell_type": "markdown",
   "metadata": {},
   "source": [
    "Il aurait été possible de passer directement plusieurs couples de liste d'abscisses et de liste d'ordonnées.\n",
    "\n",
    "Dans l'exemple qui suit, les deux séries de données sont interprétées comme des valeurs d'ordonnées, les abscisses étant automatiquement déterminées par l'indice des valeurs.\n",
    "\n",
    "Il aurait pu être possible d'ajouter d'autres séries.\n",
    "\n",
    "À noter qu'il est possible d'indiquer directement à la méthode `pyplot.legend` les intitulés des séries pour le cas où ils n'auraient pas été indiqués avec l'attribut `label` de `pyplot.plot`."
   ]
  },
  {
   "cell_type": "code",
   "execution_count": null,
   "metadata": {},
   "outputs": [],
   "source": [
    "plt.figure()\n",
    "plt.plot(x,'-o',y,'-s')\n",
    "plt.legend(['Linéaire', 'Quadratique'])"
   ]
  },
  {
   "cell_type": "markdown",
   "metadata": {},
   "source": [
    "La méthode `fill_between` de la couche _Artiste_ permet de spécifier une couleur de remplissage entre les deux courbes."
   ]
  },
  {
   "cell_type": "code",
   "execution_count": null,
   "metadata": {},
   "outputs": [],
   "source": [
    "plt.gca().fill_between(range(2,5),\n",
    "                      x[2:5],y[2:5],facecolor='purple',alpha='0.25')"
   ]
  },
  {
   "cell_type": "code",
   "execution_count": null,
   "metadata": {},
   "outputs": [],
   "source": [
    "import pandas as pd\n",
    "\n",
    "plt.figure()\n",
    "dates = np.arange('2018-01-01','2018-01-08',dtype='datetime64[D]')\n",
    "dates = list(map(pd.to_datetime,dates))\n",
    "plt.plot(dates,x,'rx-',dates,y,'bs--')"
   ]
  },
  {
   "cell_type": "markdown",
   "metadata": {},
   "source": [
    "Pour corriger le problème, on peut intervenir au niveau de la couche _Artiste_ et plus particulièrement sur l'axe $x$."
   ]
  },
  {
   "cell_type": "code",
   "execution_count": null,
   "metadata": {},
   "outputs": [],
   "source": [
    "axe_x = plt.gca().xaxis\n",
    "for text in axe_x.get_ticklabels():\n",
    "    text.set_rotation(45)"
   ]
  },
  {
   "cell_type": "code",
   "execution_count": null,
   "metadata": {},
   "outputs": [],
   "source": [
    "plt.subplots_adjust(bottom=0.25)"
   ]
  },
  {
   "cell_type": "markdown",
   "metadata": {},
   "source": [
    "## Diagrammes en barres\n",
    "\n",
    "Les diagramme en barres sont créés grâce à la méthode `pyplot.bar` à laquelle on passe en argument la liste des labels de l'axe $x$ et la liste des hauteurs des barres.\n",
    "\n",
    "Cette méthode dispose d'options permettant par exemple de spécifier la largeur des barres, leur couleur, la hauteur de base, des barres d'erreurs, l'orientation..."
   ]
  },
  {
   "cell_type": "code",
   "execution_count": null,
   "metadata": {},
   "outputs": [],
   "source": [
    "plt.figure()\n",
    "xvals = range(len(x))\n",
    "plt.bar(xvals,x)"
   ]
  },
  {
   "cell_type": "code",
   "execution_count": null,
   "metadata": {},
   "outputs": [],
   "source": [
    "plt.figure()\n",
    "xvals = range(len(x))\n",
    "plt.bar(xvals,x,width=0.3)"
   ]
  },
  {
   "cell_type": "code",
   "execution_count": null,
   "metadata": {},
   "outputs": [],
   "source": [
    "\n",
    "new_xvals = [i+0.3 for i in xvals]\n",
    "plt.bar(new_xvals,y,width=0.3,color='red')\n"
   ]
  },
  {
   "cell_type": "code",
   "execution_count": null,
   "metadata": {},
   "outputs": [],
   "source": [
    "import random\n",
    "xerrs = [random.randint(0,10) for i in range(len(x))]\n",
    "\n",
    "plt.bar(xvals,x,width=0.3,yerr=xerrs)"
   ]
  },
  {
   "cell_type": "code",
   "execution_count": null,
   "metadata": {},
   "outputs": [],
   "source": [
    "plt.figure()\n",
    "plt.bar(xvals,x,color='b',width=0.3)\n",
    "plt.bar(xvals,y,color='r',width=0.3, bottom=x)\n"
   ]
  },
  {
   "cell_type": "markdown",
   "metadata": {},
   "source": [
    "L'orientation peut également être changée par un appel à la méthode `pyplot.barh`."
   ]
  },
  {
   "cell_type": "code",
   "execution_count": null,
   "metadata": {},
   "outputs": [],
   "source": [
    "plt.figure()\n",
    "plt.barh(xvals,x,color='b',height=0.3, )\n",
    "plt.barh(xvals,y,color='r',height=0.3, left=x)\n"
   ]
  },
  {
   "cell_type": "code",
   "execution_count": null,
   "metadata": {},
   "outputs": [],
   "source": []
  }
 ],
 "metadata": {
  "kernelspec": {
   "display_name": "Python 3",
   "language": "python",
   "name": "python3"
  },
  "language_info": {
   "codemirror_mode": {
    "name": "ipython",
    "version": 3
   },
   "file_extension": ".py",
   "mimetype": "text/x-python",
   "name": "python",
   "nbconvert_exporter": "python",
   "pygments_lexer": "ipython3",
   "version": "3.6.9"
  }
 },
 "nbformat": 4,
 "nbformat_minor": 2
}
