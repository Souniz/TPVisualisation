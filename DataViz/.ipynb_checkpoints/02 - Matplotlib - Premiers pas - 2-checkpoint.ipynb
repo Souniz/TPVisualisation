{
 "cells": [
  {
   "cell_type": "markdown",
   "metadata": {},
   "source": [
    "## Figures multiples\n",
    "\n",
    "La méthode `pyplot.subplot` permet de placer plusieurs graphiques sur la même figure."
   ]
  },
  {
   "cell_type": "code",
   "execution_count": null,
   "metadata": {},
   "outputs": [],
   "source": [
    "%matplotlib notebook\n",
    "import matplotlib.pyplot as plt\n",
    "import numpy as np\n",
    "import pandas as pd\n",
    "\n",
    "x = np.arange(1,8)\n",
    "y = x ** 2\n",
    "\n",
    "plt.subplot?"
   ]
  },
  {
   "cell_type": "code",
   "execution_count": null,
   "metadata": {},
   "outputs": [],
   "source": [
    "plt.figure()\n",
    "plt.subplot(1,2,1)\n",
    "plt.plot(x,'-o')\n",
    "plt.subplot(1,2,2)\n",
    "plt.plot(y,'--x')"
   ]
  },
  {
   "cell_type": "code",
   "execution_count": null,
   "metadata": {},
   "outputs": [],
   "source": [
    "plt.subplot(1,2,1)\n",
    "plt.plot(y,'x-')"
   ]
  },
  {
   "cell_type": "markdown",
   "metadata": {},
   "source": [
    "La cellule suivante illustre le mécanisme permettant de partager le même axe $y$ sur les deux graphiques."
   ]
  },
  {
   "cell_type": "code",
   "execution_count": null,
   "metadata": {},
   "outputs": [],
   "source": [
    "plt.figure()\n",
    "ax1 = plt.subplot(1,2,1)\n",
    "plt.plot(x,'r-x')\n",
    "ax2 = plt.subplot(1,2,2,sharey=ax1)\n",
    "plt.plot(y,'r-x')"
   ]
  },
  {
   "cell_type": "markdown",
   "metadata": {},
   "source": [
    "Les arguments de `plt.subplot` peuvent également être spécifié par un entier à 3 chiffres dont le premier indique le nombre de lignes, le second indique le nombre de colonne et le troisème indique l'index (commençant à 1) du graphique auquel on s'adresse.\n",
    "\n",
    "Il est également possible de créer directement une matrice de graphique tel qu'indiqué dans la cellule suivante."
   ]
  },
  {
   "cell_type": "code",
   "execution_count": null,
   "metadata": {},
   "outputs": [],
   "source": [
    "ax1.axis([0,10,0,100])"
   ]
  },
  {
   "cell_type": "code",
   "execution_count": null,
   "metadata": {},
   "outputs": [],
   "source": [
    "fig, ((ax1, ax2, ax3), (ax4, ax5, ax6), (ax7, ax8, ax9)) = plt.subplots(3,3,sharex = True, sharey = True)\n",
    "ax5.plot(y, 'ro')\n",
    "ax2.plot(x,'--')"
   ]
  },
  {
   "cell_type": "markdown",
   "metadata": {},
   "source": [
    "## Histogrammes\n",
    "\n",
    "Un histogramme est un cas particulier de graphique en barre où la hauteur des barres est déterminée par le nombre d'éléments d'un jeu de données correspondant à la catégorie ou plage de valeurs associée à la barre."
   ]
  },
  {
   "cell_type": "code",
   "execution_count": null,
   "metadata": {
    "scrolled": false
   },
   "outputs": [],
   "source": [
    "fig, ((ax1,ax2),(ax3,ax4)) = plt.subplots(2,2, sharex=True)\n",
    "axes = [ax1,ax2,ax3,ax4]\n",
    "\n",
    "for n in range(len(axes)) :\n",
    "    sample_size = 10**(n+1)\n",
    "    sample = np.random.randn(sample_size)\n",
    "    #axes[n].hist(sample)\n",
    "    axes[n].hist(sample,bins=50)\n",
    "    axes[n].set_title('n={}'.format(sample_size))"
   ]
  },
  {
   "cell_type": "markdown",
   "metadata": {},
   "source": [
    "## GridSpec"
   ]
  },
  {
   "cell_type": "code",
   "execution_count": null,
   "metadata": {},
   "outputs": [],
   "source": [
    "plt.figure()\n",
    "X = np.random.rand(10000)\n",
    "Y = np.random.randn(10000)\n",
    "#plt.scatter(X,Y)\n",
    "plt.scatter(X,Y,alpha=0.15)"
   ]
  },
  {
   "cell_type": "code",
   "execution_count": null,
   "metadata": {},
   "outputs": [],
   "source": [
    "import matplotlib.gridspec as gridspec\n",
    "\n",
    "plt.figure()\n",
    "gspec = gridspec.GridSpec(3,3)\n",
    "top_hist = plt.subplot(gspec[0,1:])\n",
    "left_hist = plt.subplot(gspec[1:,0])\n",
    "scatter = plt.subplot(gspec[1:,1:])"
   ]
  },
  {
   "cell_type": "code",
   "execution_count": null,
   "metadata": {},
   "outputs": [],
   "source": [
    "scatter.scatter(X,Y)\n",
    "top_hist.hist(X,bins=100,density=False)\n",
    "left_hist.hist(Y,bins=100,orientation='horizontal')\n",
    "left_hist.invert_xaxis()"
   ]
  },
  {
   "cell_type": "code",
   "execution_count": null,
   "metadata": {},
   "outputs": [],
   "source": [
    "for ax in [top_hist,scatter]:\n",
    "    ax.set_xlim(0,1)\n",
    "for ax in [left_hist,scatter]:\n",
    "    ax.set_ylim(-5,5)"
   ]
  },
  {
   "cell_type": "markdown",
   "metadata": {},
   "source": [
    "## Boîtes à moustache"
   ]
  },
  {
   "cell_type": "code",
   "execution_count": null,
   "metadata": {},
   "outputs": [],
   "source": [
    "normal = np.random.randn(10000)\n",
    "uniform = np.random.rand(10000)\n",
    "gamma = np.random.gamma(2,size=10000)\n",
    "\n",
    "df = pd.DataFrame({'normal':normal, 'uniform': uniform, 'gamma':gamma})\n",
    "df.describe()"
   ]
  },
  {
   "cell_type": "code",
   "execution_count": null,
   "metadata": {},
   "outputs": [],
   "source": [
    "plt.figure()\n",
    "#plt.boxplot(df['normal'])\n",
    "plt.boxplot(df['normal'],whis='range')"
   ]
  },
  {
   "cell_type": "code",
   "execution_count": null,
   "metadata": {},
   "outputs": [],
   "source": [
    "plt.figure()\n",
    "plt.boxplot([df['normal'], df['uniform'], df['gamma']],whis='range')"
   ]
  },
  {
   "cell_type": "code",
   "execution_count": null,
   "metadata": {},
   "outputs": [],
   "source": [
    "import mpl_toolkits.axes_grid1.inset_locator as mpl_il\n",
    "\n",
    "plt.figure()\n",
    "\n",
    "plt.boxplot([df['normal'], df['uniform'], df['gamma']],whis='range')\n",
    "ax2 = mpl_il.inset_axes(plt.gca(), width='60%', height='40%', loc=2)\n",
    "ax2.hist(df['gamma'],bins=100)\n",
    "ax2.margins(x=0.5)\n",
    "ax2.yaxis.tick_right()"
   ]
  },
  {
   "cell_type": "markdown",
   "metadata": {},
   "source": [
    "## Cartes de chaleur\n",
    "\n",
    "Les cartes de chaleur permettent de visualiser une grandeur fonction de deux autres variables. Il peut par exemple s'agir d'un histogramme à deux dimensions."
   ]
  },
  {
   "cell_type": "code",
   "execution_count": null,
   "metadata": {},
   "outputs": [],
   "source": [
    "plt.figure()\n",
    "plt.hist2d(X,Y,bins=50)\n"
   ]
  },
  {
   "cell_type": "markdown",
   "metadata": {},
   "source": [
    "Lorsqu'il s'agit de visualiser une quantité qui n'est pas un effectif, on peut utiliser la fonction de visualisation d'image `pyplot.imshow`"
   ]
  },
  {
   "cell_type": "code",
   "execution_count": null,
   "metadata": {},
   "outputs": [],
   "source": [
    "plt.colorbar()"
   ]
  },
  {
   "cell_type": "code",
   "execution_count": null,
   "metadata": {},
   "outputs": [],
   "source": [
    "plt.figure()\n",
    "data = np.array(np.random.randn(64)).reshape((8,8))\n",
    "plt.imshow(data)\n",
    "plt.colorbar()"
   ]
  },
  {
   "cell_type": "code",
   "execution_count": null,
   "metadata": {},
   "outputs": [],
   "source": []
  }
 ],
 "metadata": {
  "kernelspec": {
   "display_name": "Python 3",
   "language": "python",
   "name": "python3"
  },
  "language_info": {
   "codemirror_mode": {
    "name": "ipython",
    "version": 3
   },
   "file_extension": ".py",
   "mimetype": "text/x-python",
   "name": "python",
   "nbconvert_exporter": "python",
   "pygments_lexer": "ipython3",
   "version": "3.6.9"
  }
 },
 "nbformat": 4,
 "nbformat_minor": 2
}
